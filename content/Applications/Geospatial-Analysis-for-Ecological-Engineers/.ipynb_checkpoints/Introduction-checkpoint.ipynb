{
 "cells": [
  {
   "cell_type": "markdown",
   "metadata": {},
   "source": [
    "# Geospatial Analysis in Ecological Engineering\n",
    "\n",
    "In this section, we introduce basic concepts around spatial analysis and modeling, broadly defined as analyses that involves consideration of local, spatially-variant geographies.  We provide examples in Python for representing and solving these analyses. \n",
    "\n",
    "Note that some of methods employed here are defined in the **Tools and Methods** portion of this handbook.  Also note that this is a large field and we emphasize below those applications directly relevant to ecological engineers.\n",
    "\n",
    "### Topics in this section include:\n",
    "\n",
    "- Simple Spatial Statistics\n",
    "- Interpolating Points in a Grid\n",
    "- Flood Modeling"
   ]
  },
  {
   "cell_type": "code",
   "execution_count": null,
   "metadata": {},
   "outputs": [],
   "source": []
  }
 ],
 "metadata": {
  "kernelspec": {
   "display_name": "Python 3",
   "language": "python",
   "name": "python3"
  },
  "language_info": {
   "codemirror_mode": {
    "name": "ipython",
    "version": 3
   },
   "file_extension": ".py",
   "mimetype": "text/x-python",
   "name": "python",
   "nbconvert_exporter": "python",
   "pygments_lexer": "ipython3",
   "version": "3.6.8"
  },
  "varInspector": {
   "cols": {
    "lenName": 16,
    "lenType": 16,
    "lenVar": 40
   },
   "kernels_config": {
    "python": {
     "delete_cmd_postfix": "",
     "delete_cmd_prefix": "del ",
     "library": "var_list.py",
     "varRefreshCmd": "print(var_dic_list())"
    },
    "r": {
     "delete_cmd_postfix": ") ",
     "delete_cmd_prefix": "rm(",
     "library": "var_list.r",
     "varRefreshCmd": "cat(var_dic_list()) "
    }
   },
   "types_to_exclude": [
    "module",
    "function",
    "builtin_function_or_method",
    "instance",
    "_Feature"
   ],
   "window_display": false
  }
 },
 "nbformat": 4,
 "nbformat_minor": 2
}
