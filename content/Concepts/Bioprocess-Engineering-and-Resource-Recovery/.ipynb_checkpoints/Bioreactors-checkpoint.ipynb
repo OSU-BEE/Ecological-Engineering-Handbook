{
 "cells": [
  {
   "cell_type": "markdown",
   "metadata": {},
   "source": [
    "# Bioreactors:  Continuous Stirred Tank Reactors\n",
    "\n",
    "In this section, we provide an analysis framework for **Continous Stirred-Tank Reactors** (CSTRS).  Generally speaking, CSTRs are reactors with the following characteristics:\n",
    "\n",
    "1. CSTRs consist of a single tank, within an inflow bring reactant to the tank, and an outflow removing product from the tank.\n",
    "2. The reactor contains a fluid mixture supporting a biological population (e.g. bacteria, fungi) that is consuming the inflow feedstock and producing one or more valued products as part of their metabolic or enzymatic processes.  These products typically leave the tank in the reactor outflow.\n",
    "3. The reactor contents is continuous mixed, resulting in a relatively homogeneous liquid mixture in the reactor.\n",
    "4. Generally, inflow rates equal outflow rates, resulting a constant reactor volume.\n",
    "\n",
    "Given these general characteristics, in the simplest case of a single substrate being converted to a single product, a mass balance leads to the following governing equations for describing a substrate, product, and biological population in a CSTR:\n",
    "\n",
    "$\\displaystyle \\frac{dS}{dt}V = F ( S_{in} - S ) - R(t) $\n",
    "\n",
    "$\\displaystyle \\frac{dX}{dt}V = F ( X_{in} - X ) - G(t) $\n",
    "\n",
    "$\\displaystyle \\frac{dP}{dt}V = - F P  + Y_{P/S} R(t) $\n",
    "\n",
    "\n",
    "where:\n",
    "* $S$ is the concentration of substrate in the reactor fluid (m/l<sup>3</sup>)\n",
    "* $X$ is the concentration of biological material converting substrate to product in the reactor fluid (m/l<sup>3</sup>)\n",
    "* $P$ is the concentration of product in the reactor fluid (m/l<sup>3</sup>)\n",
    "* $t$ is time (t)\n",
    "* $F$ is the flow rate of fluid through the reactor (m/t)\n",
    "* $V$ is the reactor volume (l<sup>3</sup>)\n",
    "* $S_{in}$ is the concentration of substrate in the influent (m/l<sup>3</sup>)\n",
    "* $X_{in}$ is the concentration of reactant (m/l<sup>3</sup>)\n",
    "* $R(t)$ is the rate of conversion of reactant to product (m/t)\n",
    "* $G(t)$ is the net growth rate of the biological population (m/t)\n",
    "* $Y_{P/S}$ is the *yield coefficient*, the mass of product produced per mass of substrate consumed. (m/m)\n",
    "\n",
    "Below, we apply these models for several common use cases."
   ]
  },
  {
   "cell_type": "markdown",
   "metadata": {},
   "source": [
    "## Use Case I. Single Substrate, Single Product, Single Bacteria, CSTR at equilibrium conditions\n",
    "\n",
    "Additional assumptions:\n",
    "* Bacteria grow acording to Monod kinetics, with no mortality, i.e. $ G(t) = \\mu_{max} \\frac{S}{K_s + S} $, where\n",
    "    * $\\mu_{max}$ is the maximum growth rate of bacteria under unlimiting nsubstrate levels\n",
    "    * $K_s$ is the \"half-velocity coefficient, defined as the substrate concentration that results in growth at half the maximum rate\n",
    "* Each unit of substrate consumed results in a proportional amount of bacterial growth, i.e. $ R(t) = Y_{S/X} \\times G(t) $ \n",
    "* No bacteria in the influent\n",
    "* Constant volume, constant flow rate (inflow=outflow), Constant temperature\n",
    "* Steady-state (equilibrium) conditions (derivatives are zero)"
   ]
  },
  {
   "cell_type": "code",
   "execution_count": null,
   "metadata": {},
   "outputs": [],
   "source": []
  }
 ],
 "metadata": {
  "kernelspec": {
   "display_name": "Python 3",
   "language": "python",
   "name": "python3"
  },
  "language_info": {
   "codemirror_mode": {
    "name": "ipython",
    "version": 3
   },
   "file_extension": ".py",
   "mimetype": "text/x-python",
   "name": "python",
   "nbconvert_exporter": "python",
   "pygments_lexer": "ipython3",
   "version": "3.6.8"
  },
  "varInspector": {
   "cols": {
    "lenName": 16,
    "lenType": 16,
    "lenVar": 40
   },
   "kernels_config": {
    "python": {
     "delete_cmd_postfix": "",
     "delete_cmd_prefix": "del ",
     "library": "var_list.py",
     "varRefreshCmd": "print(var_dic_list())"
    },
    "r": {
     "delete_cmd_postfix": ") ",
     "delete_cmd_prefix": "rm(",
     "library": "var_list.r",
     "varRefreshCmd": "cat(var_dic_list()) "
    }
   },
   "types_to_exclude": [
    "module",
    "function",
    "builtin_function_or_method",
    "instance",
    "_Feature"
   ],
   "window_display": false
  }
 },
 "nbformat": 4,
 "nbformat_minor": 4
}
