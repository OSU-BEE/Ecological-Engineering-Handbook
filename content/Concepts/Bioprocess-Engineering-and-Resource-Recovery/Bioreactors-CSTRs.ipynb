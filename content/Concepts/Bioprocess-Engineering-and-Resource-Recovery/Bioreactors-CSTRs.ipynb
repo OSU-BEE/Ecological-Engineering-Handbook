{
 "cells": [
  {
   "cell_type": "markdown",
   "metadata": {},
   "source": [
    "# Bioreactors:  Continuous Stirred Tank Reactors\n",
    "\n",
    "In this section, we provide an analysis framework for **Continous Stirred-Tank Reactors** (CSTRS).  Generally speaking, CSTRs are reactors with the following characteristics:\n",
    "\n",
    "1. CSTRs consist of a single tank, within an inflow bring reactant to the tank, and an outflow removing product from the tank.\n",
    "2. The reactor contains a fluid mixture supporting a biological population (e.g. bacteria, fungi) that is consuming the inflow feedstock and producing one or more valued products as part of their metabolic or enzymatic processes.  These products typically leave the tank in the reactor outflow.\n",
    "3. The reactor contents is continuous mixed, resulting in a relatively homogeneous liquid mixture in the reactor.\n",
    "4. Generally, inflow rates equal outflow rates, resulting a constant reactor volume.\n",
    "\n",
    "Given these general characteristics, in the simplest case of a single substrate being converted to a single product, a mass balance leads to the following governing equations for describing a substrate, product, and biological population in a CSTR:\n",
    "\n",
    "$\\displaystyle \\frac{dS}{dt} = \\frac{F}{V} ( S_{in} - S ) - R(t) $\n",
    "\n",
    "$\\displaystyle \\frac{dX}{dt} = \\frac{F}{V} ( X_{in} - X ) - G(t) $\n",
    "\n",
    "$\\displaystyle \\frac{dP}{dt} = - \\frac{F}{V} P  + Y_{P/S} R(t) $\n",
    "\n",
    "\n",
    "where:\n",
    "* $S$ is the concentration of substrate in the reactor fluid (m/l<sup>3</sup>)\n",
    "* $X$ is the concentration of biological material converting substrate to product in the reactor fluid (m/l<sup>3</sup>)\n",
    "* $P$ is the concentration of product in the reactor fluid (m/l<sup>3</sup>)\n",
    "* $t$ is time (t)\n",
    "* $F$ is the volumetric flow rate of fluid through the reactor (l<sup>3</sup>/t)\n",
    "* $V$ is the reactor volume (l<sup>3</sup>)\n",
    "* $S_{in}$ is the concentration of substrate in the influent (m/l<sup>3</sup>)\n",
    "* $X_{in}$ is the concentration of reactant (m/l<sup>3</sup>)\n",
    "* $R(t)$ is the rate of conversion of reactant to product (m/t)\n",
    "* $G(t)$ is the net growth rate of the biological population (m/t)\n",
    "* $Y_{P/S}$ is the *yield coefficient*, the mass of product produced per mass of substrate consumed. (m/m)\n",
    "\n",
    "Below, we apply these models for several common use cases."
   ]
  },
  {
   "cell_type": "markdown",
   "metadata": {},
   "source": [
    "## Use Case I. Single Substrate, Single Bacteria, First-order Reaction Kinetics, CSTR at equilibrium conditions\n",
    "\n",
    "Additional assumptions:\n",
    "* Specific bacterial growth rate (growth per unit mass of bacteria) is proportional to the substrate concentration (**first-order** reaction kinetics), with no mortality.  The overall growth rate therefore is G(t) is $ G(t) = k S X$, where $k$ is the specific growth rate constant\n",
    "* Each unit of bacterial growth requires a proportional amount of substate consumed, i.e. $ R(t) = Y_{S/X} \\times G(t) $ \n",
    "* No bacteria in the influent ($X_{in}$ = 0)\n",
    "* Constant volume, constant flow rate (inflow=outflow), Constant temperature\n",
    "* Steady-state (equilibrium) conditions (derivatives are zero)\n",
    "* We are not concerned with product formation, only consumption/removal of the substrate\n",
    "\n",
    "In this case the governing equations above reduce to\n",
    "\n",
    "$ 0 = \\frac{F}{V} (S_{in}-S) - k S X Y_{S/X} $\n",
    "\n",
    "$ 0 = \\frac{F}{V} X + k S X $\n",
    "\n",
    "Note that this is a **nonlinear system** of equations, as a result of the interaction between S and X in each equation.  To solve such a system, we use an interative method that involves making an initial guess and refining the solution until the \"zeros\" of the equations are found. Below, we use the `fsolve` method in the `scipy.optimize` package to find the solution to these equations.  We further note that because of the nonlinearity of the equations, multiple solutions may exist; trying multiple initial guesses are a simple strategy for ensuring multiple roots, if they exist, are found."
   ]
  },
  {
   "cell_type": "code",
   "execution_count": 30,
   "metadata": {},
   "outputs": [
    {
     "name": "stdout",
     "output_type": "stream",
     "text": [
      "Equilibrium Values: S=2.22 g/L;  X=3.89 g/L\n"
     ]
    }
   ],
   "source": [
    "from scipy.optimize import fsolve\n",
    "\n",
    "# units - grams (g), liters (L), days (d)\n",
    "V = 200    # L\n",
    "F = 20     # L/d\n",
    "k = 0.045\n",
    "Ysx = .2   # g/g\n",
    "Sin = 3    # g/L\n",
    "\n",
    "def Bioreactor(States):\n",
    "    (S,X) = States\n",
    "    dS_dt = (F/V)*(Sin-S) - (k*S*X*Ysx)\n",
    "    dX_dt = -(F/V)*X + k*S*X \n",
    "    return (dS_dt, dX_dt)\n",
    "\n",
    "\n",
    "S,X = fsolve(Bioreactor, (2.5,4))\n",
    "\n",
    "print(\"Equilibrium Values: S={:.2f} g/L;  X={:.2f} g/L\".format(S,X))"
   ]
  },
  {
   "cell_type": "markdown",
   "metadata": {},
   "source": [
    "## Use Case II. Single Substrate, Single Product, Single Bacteria, CSTR at equilibrium conditions\n",
    "\n",
    "Additional assumptions:\n",
    "* Bacteria grow acording to Monod kinetics, with no mortality, i.e. $ G(t) = \\mu_{max} \\frac{S}{K_s + S} $, where\n",
    "    * $\\mu_{max}$ is the maximum growth rate of bacteria under unlimiting nsubstrate levels\n",
    "    * $K_s$ is the \"half-velocity coefficient, defined as the substrate concentration that results in growth at half the maximum rate\n",
    "* Each unit of substrate consumed results in a proportional amount of bacterial growth, i.e. $ R(t) = Y_{S/X} \\times G(t) $ \n",
    "* No bacteria in the influent\n",
    "* Constant volume, constant flow rate (inflow=outflow), Constant temperature\n",
    "* Steady-state (equilibrium) conditions (derivatives are zero)"
   ]
  },
  {
   "cell_type": "code",
   "execution_count": null,
   "metadata": {},
   "outputs": [],
   "source": []
  },
  {
   "cell_type": "code",
   "execution_count": 25,
   "metadata": {},
   "outputs": [
    {
     "data": {
      "image/png": "[encoded data removed]",
      "text/plain": [
       "<Figure size 432x288 with 1 Axes>"
      ]
     },
     "metadata": {
      "needs_background": "light"
     },
     "output_type": "display_data"
    }
   ],
   "source": [
    "from scipy.integrate import odeint\n",
    "import numpy as np\n",
    "import matplotlib.pyplot as plt\n",
    "\n",
    "# units - grams (g), liters (L), days (d)\n",
    "V = 200    # L\n",
    "F = 20     # L/d\n",
    "k = 0.045\n",
    "Ysx = .2   # g/g\n",
    "Sin = 3    # g/L\n",
    "\n",
    "def Bioreactor(States,_):\n",
    "    (S,X) = States\n",
    "    dS_dt = (F/V)*(Sin-S) - (k*S*X*Ysx)\n",
    "    dX_dt = -(F/V)*X + k*S*X \n",
    "    return (dS_dt, dX_dt)\n",
    "\n",
    "# evaluate for times between 0,50 days, every 0.1 day\n",
    "times = np.arange(0,200.1,1)\n",
    "\n",
    "R = odeint(Bioreactor,(1,1),times)\n",
    "#print(R)\n",
    "plt.plot(times,R[:,0], label=\"Substrate\")\n",
    "plt.plot(times,R[:,1], label=\"Bacteria\")\n",
    "plt.legend()\n",
    "plt.show()\n"
   ]
  },
  {
   "cell_type": "code",
   "execution_count": null,
   "metadata": {},
   "outputs": [],
   "source": []
  }
 ],
 "metadata": {
  "kernelspec": {
   "display_name": "Python 3",
   "language": "python",
   "name": "python3"
  },
  "language_info": {
   "codemirror_mode": {
    "name": "ipython",
    "version": 3
   },
   "file_extension": ".py",
   "mimetype": "text/x-python",
   "name": "python",
   "nbconvert_exporter": "python",
   "pygments_lexer": "ipython3",
   "version": "3.6.8"
  },
  "varInspector": {
   "cols": {
    "lenName": 16,
    "lenType": 16,
    "lenVar": 40
   },
   "kernels_config": {
    "python": {
     "delete_cmd_postfix": "",
     "delete_cmd_prefix": "del ",
     "library": "var_list.py",
     "varRefreshCmd": "print(var_dic_list())"
    },
    "r": {
     "delete_cmd_postfix": ") ",
     "delete_cmd_prefix": "rm(",
     "library": "var_list.r",
     "varRefreshCmd": "cat(var_dic_list()) "
    }
   },
   "types_to_exclude": [
    "module",
    "function",
    "builtin_function_or_method",
    "instance",
    "_Feature"
   ],
   "window_display": false
  }
 },
 "nbformat": 4,
 "nbformat_minor": 4
}
