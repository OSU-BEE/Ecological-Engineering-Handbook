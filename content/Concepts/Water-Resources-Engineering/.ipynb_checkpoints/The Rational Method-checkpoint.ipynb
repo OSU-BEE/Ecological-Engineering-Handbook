{
 "cells": [
  {
   "cell_type": "markdown",
   "metadata": {},
   "source": [
    "# The Rational Method for Computing Peak Discharge from a Drainage Basin\n",
    "\n",
    "The **Rational Equation** is a simple method for calulating the peak discharge from a drainage basin. It is an empirical method that is often used when a simple analysis is sufficient for the design task, for example sizing detention ponds.  It relies on a set of empirical \"runoff\" coefficients that vary with the type of surface in the drainage basin. \n",
    "\n",
    "The Rational Method is appropriate for urban and rural watersheds less than 80 hectares (200 acres) in which natural or man-made storage is minor. It relies on an assumption that the design flow of a specified frequency is caused by rainfall of the same frequency. This method is best suited to the design of urban storm drain systems, small side ditches and median ditches, and driveway pipes. \n",
    "\n",
    "Inputs into the calculation include:\n",
    "\n",
    "- Rainfall intensity (mm/day)\n",
    "- Drainage basin area (ha)\n",
    "- Runoff coefficient\n",
    "\n",
    "The basic equation used in the Rational Method is:\n",
    "\n",
    "$\\displaystyle Q = c i A $\n",
    "\n",
    "where: \n",
    "- $Q$ is the estimated peak discharge (m3/day)\n",
    "- $c$ is the runoff coefficient (see table below)\n",
    "- $i$ is the rainfall intensity (mm/day)\n",
    "- $A$ if the drainage basin area (ha)\n",
    "\n",
    "\n",
    "| Basin Surface | Runoff Coefficient |\n",
    "| ------------- |:-------------:| \n",
    "| Lawns | 0.05 - 0.35 |\n",
    "| Forest | 0.05 - 0.25 |\n",
    "| Cultivated land | 0.08-0.41 |\n",
    "| Meadow | 0.1 - 0.5 |\n",
    "| Parks, cemeteries | 0.1 - 0.25 |\n",
    "| Unimproved areas | 0.1 - 0.3 |\n",
    "| Pasture | 0.12 - 0.62 |\n",
    "| Residential areas | 0.3 - 0.75 |\n",
    "| Business areas | 0.5 - 0.95 |\n",
    "| Industrial areas | 0.5 - 0.9 |\n",
    "| Asphalt streets | 0.7 - 0.95 |\n",
    "| Brick streets | 0.7 - 0.85 |\n",
    "| Roofs | 0.75 - 0.95 |\n",
    "| Concrete streets | 0.7 - 0.95 |\n"
   ]
  },
  {
   "cell_type": "markdown",
   "metadata": {},
   "source": [
    "### 1.  A simple Python program to calculate peak runoff"
   ]
  },
  {
   "cell_type": "code",
   "execution_count": 2,
   "metadata": {},
   "outputs": [
    {
     "name": "stdout",
     "output_type": "stream",
     "text": [
      "Estimate Peak Flow = 1000.0 m3/day\n"
     ]
    }
   ],
   "source": [
    "runoff_coeff = 0.5       # see table above\n",
    "rainfall = 10            # mm/day\n",
    "drainage_area = 20       # ha\n",
    "\n",
    "# unit conversions\n",
    "rainfall = rainfall/1000  # mm/day -> m/day\n",
    "drainage_area = drainage_area * 10000  # ha -> m2\n",
    "\n",
    "Q = runoff_coeff * rainfall * drainage_area\n",
    "print(\"Estimate Peak Flow = {:.1f} m3/day\".format(Q))"
   ]
  },
  {
   "cell_type": "markdown",
   "metadata": {},
   "source": [
    "### 2. An interactive Rational Equation calculator \n",
    "\n",
    "This is same calculation as above, but emplying interactive inputs"
   ]
  },
  {
   "cell_type": "code",
   "execution_count": 11,
   "metadata": {},
   "outputs": [
    {
     "data": {
      "application/vnd.jupyter.widget-view+json": {
       "model_id": "9330dca7d4824b74aca1cb57ac099f4c",
       "version_major": 2,
       "version_minor": 0
      },
      "text/plain": [
       "BoundedFloatText(value=0.5, description='Runoff Coefficient', max=1.0, step=0.05)"
      ]
     },
     "metadata": {},
     "output_type": "display_data"
    },
    {
     "data": {
      "application/vnd.jupyter.widget-view+json": {
       "model_id": "f9d609e01c59459dac50423b6a88bc20",
       "version_major": 2,
       "version_minor": 0
      },
      "text/plain": [
       "BoundedFloatText(value=10.0, step=1.0)"
      ]
     },
     "metadata": {},
     "output_type": "display_data"
    },
    {
     "data": {
      "application/vnd.jupyter.widget-view+json": {
       "model_id": "ef605467157f418d95318c47eb9c3aa8",
       "version_major": 2,
       "version_minor": 0
      },
      "text/plain": [
       "BoundedFloatText(value=20.0, max=1000.0, step=10.0)"
      ]
     },
     "metadata": {},
     "output_type": "display_data"
    },
    {
     "data": {
      "application/vnd.jupyter.widget-view+json": {
       "model_id": "6ae054dc9a3e444e98d4831d054e36eb",
       "version_major": 2,
       "version_minor": 0
      },
      "text/plain": [
       "Output()"
      ]
     },
     "metadata": {},
     "output_type": "display_data"
    }
   ],
   "source": [
    "import ipywidgets as widgets\n",
    "\n",
    "runoff_coeff = widgets.BoundedFloatText(min=0, max=1, value=0.5, step=.05, description=\"Runoff Coefficient\")       # see table above\n",
    "rainfall = widgets.BoundedFloatText(min=0, max=100, value=10, step=1) # mm/day\n",
    "drainage_area =  widgets.BoundedFloatText(min=0, max=1000, value=20, step=10)  # ha\n",
    "output = widgets.Output()\n",
    "\n",
    "def RationalMethod(_):\n",
    "    # unit conversions\n",
    "    c = runoff_coeff.value\n",
    "    i = rainfall.value/1000  # mm/day -> m/day\n",
    "    A = drainage_area.value * 10000  # ha -> m2\n",
    "\n",
    "    Q = c * i * A\n",
    "    \n",
    "    output.clear_output()\n",
    "    with output:\n",
    "        display( \"Estimate Peak Flow = {:.1f} m3/day\".format(Q))\n",
    "\n",
    "runoff_coeff.observe(RationalMethod)  \n",
    "rainfall.observe(RationalMethod)  \n",
    "drainage_area.observe(RationalMethod)  \n",
    "\n",
    "display(runoff_coeff)\n",
    "display(rainfall)\n",
    "display(drainage_area)\n",
    "display(output)\n",
    "  "
   ]
  },
  {
   "cell_type": "markdown",
   "metadata": {},
   "source": [
    "### References ###\n",
    "\n",
    "- Chin, D.A. 2000. Water-Resources Engineering. Prentice-Hall.\n",
    "\n",
    "- Chow, V.T, D.R. Maidment, and L.W. Mays. 1988. Applied Hydrology. McGraw-Hill.\n",
    "\n",
    "- Corbitt, R.A. 1999. Standard Handbook of Environmental Engineering. McGraw-Hill. 2ed.\n",
    "\n",
    "- Lindsley, R.K., J.B. Franzini, D.L. Freyberg, and G. Tchobanoglous. 1992. Water-Resources Engineering. McGraw-Hill. 4ed.\n",
    "\n",
    "- McCuen, R.H. 1998. Hydrology Analysis and Design. Prentice-Hall. 2ed.\n",
    "\n",
    "- Singh, V.P. 1992. Elementary Hydrology. Prentice-Hall."
   ]
  }
 ],
 "metadata": {
  "kernelspec": {
   "display_name": "Python 3",
   "language": "python",
   "name": "python3"
  },
  "language_info": {
   "codemirror_mode": {
    "name": "ipython",
    "version": 3
   },
   "file_extension": ".py",
   "mimetype": "text/x-python",
   "name": "python",
   "nbconvert_exporter": "python",
   "pygments_lexer": "ipython3",
   "version": "3.6.8"
  },
  "varInspector": {
   "cols": {
    "lenName": 16,
    "lenType": 16,
    "lenVar": 40
   },
   "kernels_config": {
    "python": {
     "delete_cmd_postfix": "",
     "delete_cmd_prefix": "del ",
     "library": "var_list.py",
     "varRefreshCmd": "print(var_dic_list())"
    },
    "r": {
     "delete_cmd_postfix": ") ",
     "delete_cmd_prefix": "rm(",
     "library": "var_list.r",
     "varRefreshCmd": "cat(var_dic_list()) "
    }
   },
   "types_to_exclude": [
    "module",
    "function",
    "builtin_function_or_method",
    "instance",
    "_Feature"
   ],
   "window_display": false
  }
 },
 "nbformat": 4,
 "nbformat_minor": 2
}
