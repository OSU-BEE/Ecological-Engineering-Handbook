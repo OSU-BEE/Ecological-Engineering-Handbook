{
 "cells": [
  {
   "cell_type": "markdown",
   "metadata": {},
   "source": [
    "# Determining Rainfall Intensity/Duration/Frequency Parameters for a Site\n",
    "\n",
    "Below we provide a method for utilizing site-specific Rainfall Intensity and Frequency data available from NOAA's **Precipitation Frequency Data Server** web site at https://hdsc.nws.noaa.gov/hdsc/pfds/index.html to generate Rainfall Intensity/Duration/Frequency plots.  We also derive fitted parameters for estimating the rainfall intensity-duration-frequency (IDF) relationship (power-law model) from this site-specific data.\n",
    "\n",
    "In the example below, we use data downloaded from NOAA for Sacramento, California to determine the design rainfall intensity for a runoff management structure at the drainage point of a basin. This data provides rainfall inte|nsities for a site organized by duration of the precipitation event and frequency of occurance (expressed as an Annual Recurrance Interval). We present a strategy for estimating parameters for the Rainfall Intensity equation below."
   ]
  },
  {
   "cell_type": "markdown",
   "metadata": {},
   "source": [
    "## Step 1. Examine Rainfall Intensity/Duration/Frequency Data for the Site\n",
    "\n",
    "We assume the data for the site in question (in the example below, for Sacramento, CA) has been downloaded from the NOAA Precipitation Frequency Data Server described above and is available for processing.  We employ a Python script to examine the data.  "
   ]
  },
  {
   "cell_type": "code",
   "execution_count": 4,
   "metadata": {
    "cell_style": "center"
   },
   "outputs": [
    {
     "data": {
      "application/vnd.jupyter.widget-view+json": {
       "model_id": "f65c8e878ff3401bb5f711c5606052d0",
       "version_major": 2,
       "version_minor": 0
      },
      "text/plain": [
       "HBox(children=(Output(), Output()))"
      ]
     },
     "metadata": {},
     "output_type": "display_data"
    }
   ],
   "source": [
    "import pandas as pd\n",
    "import matplotlib.pyplot as plt\n",
    "from IPython.display import display, HTML\n",
    "import ipywidgets as widgets\n",
    "\n",
    "\n",
    "def TimeStrToMinutes(timeStr):\n",
    "    [duration,unit] = timeStr.split('-')\n",
    "    duration = int(duration)\n",
    "    if unit == 'min:':\n",
    "        return duration\n",
    "    elif unit == 'hr:':\n",
    "        return duration*60\n",
    "    elif unit == 'day:':\n",
    "        return duration*60*24\n",
    "    return None\n",
    "\n",
    "df = pd.read_csv( 'Datasets/PF_Intensity_Metric_PDS.csv', skiprows=13,skipfooter=3,engine='python')\n",
    "\n",
    "lastRow = 8   # last row to plot \n",
    "\n",
    "durations = df['by duration for ARI (years):'][:lastRow]        # '5-min', '10-min' etc\n",
    "minutes = [TimeStrToMinutes(timeStr) for timeStr in durations]  # convert to integer minutes\n",
    "ARIs = list(df.columns)[1:]                                     # annual return interval (years)\n",
    "\n",
    "\n",
    "#from scipy.interpolate import make_interp_spline, BSpline\n",
    "#xnew = np.linspace(1,df.index.stop, 100) \n",
    "#spl = make_interp_spline(T, power, k=3)  # type: BSpline\n",
    "#power_smooth = spl(xnew)\n",
    "right = widgets.Output()\n",
    "left = widgets.Output()\n",
    "\n",
    "with left:\n",
    "    display(HTML(df.to_html(index=False)))\n",
    "    \n",
    "\n",
    "with right:\n",
    "    plt.figure(figsize=(6,8))\n",
    "    plt.plot(minutes,df.iloc[:lastRow,1:].values)\n",
    "    plt.xlabel(\"Duration (minutes)\",fontsize=18)\n",
    "    plt.ylabel(\"Rainfail Intensity (mm/hr)\", fontsize=18)\n",
    "    plt.legend(ARIs, title=\"Recurrence\\nInterval\\n(years)\", fontsize=14)\n",
    "    plt.title(\"Rainfall\\nIntensity-Duration-Frequency\\nCurves\", fontsize=20)\n",
    "    plt.grid()\n",
    "    plt.show()\n",
    "\n",
    "widgets.HBox([left, right])"
   ]
  },
  {
   "cell_type": "markdown",
   "metadata": {},
   "source": [
    "## Step 2.  Determine Design Rainfall Intensity \n",
    "\n",
    "When designing hydraulic control structures, a useful design parameter is the **Rainfall Intensity** for which the deign must be able to handle. The Rainfall Intensity is the average loction-specific rainfall rate for a specified duration and frequency (annual recurrance interval), and is specified on the chart above for a given precipitation event duration and frequency. In many cases, site-specific data such as the table and chart above are sufficient for determining the design Rainfall Intensity, once 1) the appropriate duration (corresponding to the **Time of Concentration** $\\large t_c$), and 2) the design frequency (annual recurrance interval) appropriate to the design requirements has been determined.\n",
    "\n",
    "The **time of concentration $\\large (t_c$)** is a measure of the time required for an entire watershed to contribute to runoff at the point of in a watershed, calculated as the time for runoff to flow from the most hydraulically remote point of the drainage area to the point under investigation using a variety of methods descmethods described [here](Time%20of%20Concentration.ipynb). The **time of concentration** corresponds to the \"duration\" axis on the chart above.\n",
    "\n",
    "For more precise determination for locations \"between\" entries in the table above, we can estimate rainfall intensity by fitting the desired intensity/duration curve corresponding to the desired design frequency to the data in the table above using the following relationship:\n",
    "\n",
    "$\\displaystyle \\large I = \\frac{b}{(t_c+d)^e} $\n",
    "\n",
    "where $\\large e$, $\\large b$ and $\\large d$ are location specific parameters, derived from an analysis of rainfall data.\n",
    "\n",
    "### Estimating Site-specific Parameters for the Rainfall Intensity Equation from NOAA Data\n",
    "\n",
    "We Python code to generate site-specific Rainfall Intensity parameters and in use those parameters to compute  a design Rainfall Intensity for a given duration (Time of Concentration) and frequency (annual return interval)"
   ]
  },
  {
   "cell_type": "code",
   "execution_count": 15,
   "metadata": {},
   "outputs": [
    {
     "name": "stdout",
     "output_type": "stream",
     "text": [
      "Fitted Parameters: e=0.550, b=118.779, d=0.8\n",
      "Design Rainfall Intensity for Time of Concentration of 35 is 16.6\n"
     ]
    },
    {
     "data": {
      "image/png": "[encoded data removed]",
      "text/plain": [
       "<Figure size 720x432 with 1 Axes>"
      ]
     },
     "metadata": {
      "needs_background": "light"
     },
     "output_type": "display_data"
    }
   ],
   "source": [
    "import numpy as np\n",
    "import pandas as pd\n",
    "import matplotlib.pyplot as plt\n",
    "from scipy.optimize import curve_fit\n",
    "\n",
    "def RainfallIntensity(tc,e,b,d):\n",
    "    return b/np.power((tc + d),e)\n",
    "\n",
    "\n",
    "ARI = '2'\n",
    "df = pd.read_csv( 'Datasets/PF_Intensity_Metric_PDS.csv', skiprows=13,skipfooter=3,engine='python')\n",
    "durations = df['by duration for ARI (years):']                  # '5-min', '10-min' etc\n",
    "minutes = [TimeStrToMinutes(timeStr) for timeStr in durations]  # convert to integer minutes\n",
    "rainIntensities = df[ARI]\n",
    "\n",
    "[e,b,d],_ = curve_fit(RainfallIntensity, minutes, rainIntensities, [.5,100,1])\n",
    "print( \"Fitted Parameters: e={:.3f}, b={:.3f}, d={:.1f}\".format(e,b,d))\n",
    "\n",
    "# compute rainfall intesity for a specific duration (tc)\n",
    "timeOfConc = 35  # minutes\n",
    "designRI = RainfallIntensity(timeOfConc,e,b,d)\n",
    "print( \"Design Rainfall Intensity for Time of Concentration of {} is {:.1f}\".format(timeOfConc,designRI))\n",
    "\n",
    "plt.figure(figsize=(10,6))\n",
    "plt.plot( minutes, rainIntensities, 'o', label=\"Table Data\")\n",
    "x = np.linspace(0,300,100)\n",
    "plt.plot(x, RainfallIntensity(x,e,b,d), label=\"Fitted Curve\")\n",
    "plt.xlim(0,300)\n",
    "plt.xlabel(\"Duration (minutes)\",fontsize=18)\n",
    "plt.ylabel(\"Design Rainfail Intensity (mm/hr)\", fontsize=18)\n",
    "plt.legend(fontsize=14)\n",
    "plt.title(\"Rainfall Intensity vs. Duration\", fontsize=20)\n",
    "plt.grid()\n",
    "plt.show()"
   ]
  }
 ],
 "metadata": {
  "kernelspec": {
   "display_name": "Python 3",
   "language": "python",
   "name": "python3"
  },
  "language_info": {
   "codemirror_mode": {
    "name": "ipython",
    "version": 3
   },
   "file_extension": ".py",
   "mimetype": "text/x-python",
   "name": "python",
   "nbconvert_exporter": "python",
   "pygments_lexer": "ipython3",
   "version": "3.6.8"
  },
  "varInspector": {
   "cols": {
    "lenName": 16,
    "lenType": 16,
    "lenVar": 40
   },
   "kernels_config": {
    "python": {
     "delete_cmd_postfix": "",
     "delete_cmd_prefix": "del ",
     "library": "var_list.py",
     "varRefreshCmd": "print(var_dic_list())"
    },
    "r": {
     "delete_cmd_postfix": ") ",
     "delete_cmd_prefix": "rm(",
     "library": "var_list.r",
     "varRefreshCmd": "cat(var_dic_list()) "
    }
   },
   "types_to_exclude": [
    "module",
    "function",
    "builtin_function_or_method",
    "instance",
    "_Feature"
   ],
   "window_display": false
  }
 },
 "nbformat": 4,
 "nbformat_minor": 2
}
