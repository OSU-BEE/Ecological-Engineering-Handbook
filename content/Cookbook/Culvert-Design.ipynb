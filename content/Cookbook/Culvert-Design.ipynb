{
 "cells": [
  {
   "cell_type": "markdown",
   "metadata": {},
   "source": [
    "# Culvert Design\n",
    "\n",
    "A culvert conveys surface water through a roadway embankment or away from the highway right-of-way (ROW) or into a channel along the ROW. In addition to the hydraulic function, the culvert must also support construction and highway traffic and earth loads; therefore, culvert design involves both hydraulic and structural design. The hydraulic and structural designs must be such that minimal risks to traffic, property damage, and failure from floods prove the results of good engineering practice and economics. Culverts are considered minor structures, but they are of great importance to adequate drainage and the integrity of the facility. This chapter describes the hydraulic aspects of culvert design, construction and operation of culverts, and makes references to structural aspects only as they are related to the hydraulic design. \n",
    "\n",
    "\n",
    "## Culvert Design Process\n",
    "\n",
    "Culvert design involves the following steps:\n",
    "\n",
    "1. Define the location, FEMA NFIP status, orientation, shape, and material for the culvert to be designed. In many instances, consider more than a single shape and material.\n",
    "2. With consideration of the site data, establish allowable outlet velocity (vmax) and maximum allowable depth of barrel.\n",
    "3. Based upon subject discharges (Q), associated tailwater levels (TW), and allowable headwater level (HWmax), select an overall culvert configuration -- culvert hydraulic length (L), entrance conditions, and conduit shape and material to be analyzed.\n",
    "4. Determine the flow type (supercritical or subcritical) to establish the proper approach for determination of headwater and outlet velocity.\n",
    "5. Determine the headwater elevation and outlet velocity.\n",
    "6. Adjust slope or shape for excessive outlet velocity if necessary.  Check effect on headwater elevation.\n",
    "7. Continue to adjust configuration until headwater elevation and outlet velocity are within allowable limits. It may be necessary to treat any excessive outlet velocity separately from headwater and control by other means such as velocity controls. \n"
   ]
  },
  {
   "cell_type": "code",
   "execution_count": null,
   "metadata": {},
   "outputs": [],
   "source": [
    "hh"
   ]
  }
 ],
 "metadata": {
  "kernelspec": {
   "display_name": "Python 3",
   "language": "python",
   "name": "python3"
  },
  "language_info": {
   "codemirror_mode": {
    "name": "ipython",
    "version": 3
   },
   "file_extension": ".py",
   "mimetype": "text/x-python",
   "name": "python",
   "nbconvert_exporter": "python",
   "pygments_lexer": "ipython3",
   "version": "3.6.8"
  },
  "varInspector": {
   "cols": {
    "lenName": 16,
    "lenType": 16,
    "lenVar": 40
   },
   "kernels_config": {
    "python": {
     "delete_cmd_postfix": "",
     "delete_cmd_prefix": "del ",
     "library": "var_list.py",
     "varRefreshCmd": "print(var_dic_list())"
    },
    "r": {
     "delete_cmd_postfix": ") ",
     "delete_cmd_prefix": "rm(",
     "library": "var_list.r",
     "varRefreshCmd": "cat(var_dic_list()) "
    }
   },
   "types_to_exclude": [
    "module",
    "function",
    "builtin_function_or_method",
    "instance",
    "_Feature"
   ],
   "window_display": false
  }
 },
 "nbformat": 4,
 "nbformat_minor": 2
}
