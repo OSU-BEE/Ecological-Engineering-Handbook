{
 "cells": [
  {
   "cell_type": "markdown",
   "metadata": {},
   "source": [
    "# Rainwater Collection System Design\n",
    "\n",
    "In this recipe, we present design strategies for sizing a Rainwater Collection System for capturing and storing rainfall for domestic uses.  Rainfall collection systems are diverse and generally require a number of considerations in the design phase.  In the recipe below, we assume a design consisting of the following elements:\n",
    "\n",
    "* A rooftop collection system\n",
    "* A water storage tank\n",
    "* Appropriate plumbing, filtration, and pumping systems\n",
    "\n",
    "\n",
    "## Design Strategy\n",
    "\n",
    "Our design strategy presented below focuses on:\n",
    "\n",
    "1. Sizing the rooftop collection system\n",
    "2. Sizing the rainwater storage system\n",
    "\n",
    "\n",
    "### Relevant Standards\n",
    "\n",
    "Standards for design of rainwater collection systems are currently lacking in the US, but have been developed for other countries, particularly the Portugal (Ref 1), UK (Ref 2), and Germany (Ref 3).  Additionally, a number of articles in peer-revieed journals address design of these systems.  See the references below for additional information. \n",
    "\n",
    "\n",
    "\n",
    "### References\n",
    "\n",
    "1. ANQIP. (2009). ETA 0701 - Sistemas de Abastecimento de Águas Pluviais em Edifícios (SAAP) (in portuguese): Portuguese National Association for Quality in Building Services - ANQIP, Version 7.\n",
    "\n",
    "2. BSI. (2009). BS 8515:2009 Rainwater harvesting systems - Code of practice. UK: British Standard Institution\n",
    "\n",
    "3. Translation of DIN 1989-1:2001-10. Rainwater harvesting systems - Part 1: Planning, installation, operation and maintenance. Fachvereinigung Betriebs - und Regenwassernutzung e.V. Darmstadt, Germany. 34 pp."
   ]
  },
  {
   "cell_type": "markdown",
   "metadata": {},
   "source": [
    "## Sizing the Rooftop Collection System\n",
    "\n",
    "A number of approaches have been proposed for sizing rooftop collectors for rainwater systems.  We provide two below.\n",
    "\n",
    "\n",
    "### \"Simple\" method for rooftop collector sizing\n",
    "\n",
    "The first approach follows Ref 3 above, and sizes the collector based on the following:\n",
    "\n",
    "$\\displaystyle \\large E_R = A_A \\times e \\times h_n \\times \\eta $\n",
    "\n",
    "where \n",
    "$E_R$ is the rainwater yield in liters per year (l/yr)\n",
    "$A_A$ is the collecting area in square meters (m2)\n",
    "$e$ is the yield fraction (decimal percent), see table 1 below.\n",
    "$h_N$ is the quantity of precipitation in liters per square meter (l/m2)\n",
    "$\\eta$ is the hydraulic filter efficiency\n",
    "\n",
    "<table style='fontsize:large'><tr><th>Composition</th><th>Yield Coefficient (percent)</th></tr>\n",
    "    <tr><td>Slanted hard roof<sup>a</sup></td><td>0.8</td></tr>\n",
    "    <tr><td>Flat roof, without gravel</td><td>0.8</td></tr>\n",
    "    <tr><td>Flat roof, with gravel</td><td>0.6</td></tr>\n",
    "    <tr><td>Green roof, intensive</td><td>0.3</td></tr>\n",
    "    <tr><td>Green roof, extensive</td><td>0.5</td></tr>\n",
    "    <tr><td>Paved surface/compound paved surface</td><td>0.5</td></tr>\n",
    "    <tr><td>Asphalt covering</td><td>0.8</td></tr>\n",
    "    <tr><td colspan=2><sup>a</sup>Deviations depending on the absorbency and roughness</td></tr>\n",
    "\n",
    "</table>\n",
    "    \n",
    "\n",
    "\n",
    "\n"
   ]
  },
  {
   "cell_type": "code",
   "execution_count": null,
   "metadata": {},
   "outputs": [],
   "source": []
  }
 ],
 "metadata": {
  "kernelspec": {
   "display_name": "Python 3",
   "language": "python",
   "name": "python3"
  },
  "language_info": {
   "codemirror_mode": {
    "name": "ipython",
    "version": 3
   },
   "file_extension": ".py",
   "mimetype": "text/x-python",
   "name": "python",
   "nbconvert_exporter": "python",
   "pygments_lexer": "ipython3",
   "version": "3.6.8"
  },
  "varInspector": {
   "cols": {
    "lenName": 16,
    "lenType": 16,
    "lenVar": 40
   },
   "kernels_config": {
    "python": {
     "delete_cmd_postfix": "",
     "delete_cmd_prefix": "del ",
     "library": "var_list.py",
     "varRefreshCmd": "print(var_dic_list())"
    },
    "r": {
     "delete_cmd_postfix": ") ",
     "delete_cmd_prefix": "rm(",
     "library": "var_list.r",
     "varRefreshCmd": "cat(var_dic_list()) "
    }
   },
   "types_to_exclude": [
    "module",
    "function",
    "builtin_function_or_method",
    "instance",
    "_Feature"
   ],
   "window_display": false
  }
 },
 "nbformat": 4,
 "nbformat_minor": 4
}
