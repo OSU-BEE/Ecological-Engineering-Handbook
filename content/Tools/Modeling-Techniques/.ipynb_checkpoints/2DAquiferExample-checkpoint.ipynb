{
 "cells": [
  {
   "cell_type": "markdown",
   "metadata": {},
   "source": [
    "## Example 2D steady-state groundwater flow\n",
    "\n",
    "In this problem we will examine flow in an 2D aquifer.  Our governing equation is:\n",
    "\n",
    "\n",
    "$\\large K_x\\frac{\\partial ^2h}{\\partial x^2} + K_y\\frac{\\partial ^2h}{\\partial y^2} - W = S\\frac{\\partial h}{\\partial t}$\n",
    "\n",
    "where K = hydraulic conductivity (km/day), S=Specific Storage, and W = pumping rate (/day)\n",
    "\n",
    "We will make some simplifying assumptions:\n",
    "\n",
    "1.  The soil is isotropic: $K_x = K_y = K$\n",
    "2.  We are only interested in the steady state solution ($\\large \\frac {\\partial h}{\\partial t} = 0$)\n",
    "\n",
    "Hence, our model reduces to:\n",
    "$\\large \\frac{\\partial ^2h}{\\partial x^2} + \\frac{\\partial ^2h}{\\partial y^2} - \\frac{W}{K} = 0$\n",
    "\n",
    "\n",
    "To solve this, we will develop a grid in x and y, and develop a finite difference replacement for our PDE \n",
    "\n",
    "\n",
    "Applying finite differences:\n",
    "\n",
    "$\\Large \\frac{\\partial ^2h}{\\partial x^2}= \\frac{h_{j,i+1} - 2h_{j,i} + h_{j,i-1}}{\\Delta x^2}$\n",
    "\n",
    "$\\Large \\frac{\\partial ^2h}{\\partial y^2}= \\frac{h_{j+1,i} - 2h_{j,i} + h_{j-1,i}}{\\Delta y^2}$\n",
    "\n",
    "We will use a regular grid with $\\Delta x  = \\Delta y$\n",
    "\n",
    "In that case our full finite difference replacement is:\n",
    "$\\Large \\frac{h_{j,i-1}+h_{j,i+1}+h_{j+1,i}+h_{j-1,i}-4h_{j,i}}{\\Delta x^2} - \\frac{W}{K} = 0$\n",
    "\n",
    "If we solve this for $h_{j,i}$, we get:\n",
    "\n",
    "$\\Large  h_{j,i} = \\frac {(h_{j,i-1}+h_{j,i+1}+h_{j+1,i}+h_{j-1,i})}{4} - \\frac {W \\Delta x^2} {(4K)}$\n"
   ]
  },
  {
   "cell_type": "code",
   "execution_count": 5,
   "metadata": {},
   "outputs": [
    {
     "name": "stdout",
     "output_type": "stream",
     "text": [
      "Grid dimensions: 41 rows, 81 cols\n",
      "Well: x=0.3 (12), y=0.6 (24), q=3.0\n",
      "Well: x=1.2 (48), y=0.3 (12), q=1.5\n",
      "Converged after 346 iterations\n"
     ]
    },
    {
     "data": {
      "image/png": "[encoded data removed]",
      "text/plain": [
       "<matplotlib.figure.Figure at 0x7fad961d6a58>"
      ]
     },
     "metadata": {},
     "output_type": "display_data"
    }
   ],
   "source": [
    "import numpy as np\n",
    "from matplotlib import colors, ticker, cm\n",
    "import matplotlib.pyplot as plt\n",
    "\n",
    "# convert floating point coords to grid indices\n",
    "def CoordToGrid(x, y, width, height, rows, cols):\n",
    "    x = int((x / width) * cols)\n",
    "    y = int((y / height) * rows)\n",
    "    return x, y\n",
    "\n",
    "# solve the grid for one pass, returning an updated grid and a measure of improvement\n",
    "def SolveGrid(h, wells):\n",
    "    # first, make a new grid the same dmensions as the starting grid - this is so when we start writing\n",
    "    # updated grid values, we don't overwrite nodes we need in the next calculations\n",
    "    (rows, cols) = h.shape\n",
    "    hNew = np.zeros((rows,cols))\n",
    "    delta = 0\n",
    "\n",
    "    for j in range(1, rows - 1):  # iterate through y (note starting, ending index)\n",
    "        for i in range(1, cols - 1):  # iterate through x (note starting index)\n",
    "\n",
    "            # add wells if necessary\n",
    "            wq = 0\n",
    "            for well in wells:\n",
    "                if i == well[0] and j == well[1]:\n",
    "                    wq = well[2]\n",
    "\n",
    "            hNew[j,i] = ((h[j-1,i] + h[j+1,i] + h[j,i-1] + h[j,i+1])/4) - (wq*dx*dx/(4*K))\n",
    "            delta += hNew[j,i] - h[j,i]\n",
    "\n",
    "    hNew[:,0]  = 10  # hNew[:,1]      # apply left hand  boundary condition\n",
    "    hNew[:,-1] = 10  # hNew[:,-2]     # apply right hand boundary condition\n",
    "    hNew[0,:]  = 10  # hNew[1,:]      # apply bottom boundary condition\n",
    "    hNew[-1,:] = 10  # hNew[-2,:]     # apply top boundary condition\n",
    "\n",
    "    delta = delta / (rows*cols)   # normalize to delta per grid node\n",
    "    return hNew, delta\n",
    "\n",
    "\n",
    "############################################################\n",
    "# Main Program\n",
    "############################################################\n",
    "\n",
    "width = 2  # units - km\n",
    "height = 1  # units - km\n",
    "dx = 0.025   # units - km\n",
    "K = 0.0106  # units - km/day\n",
    "\n",
    "# get grid dimensions.  Note: we assume that x extends horizontally, y extends vertically on the grid\n",
    "xdistances = np.arange(0, width + dx / 2, dx)\n",
    "ydistances = np.arange(0, height + dx / 2, dx)\n",
    "cols = len(xdistances)\n",
    "rows = len(ydistances)\n",
    "\n",
    "print(\"Grid dimensions: {} rows, {} cols\".format(rows, cols))\n",
    "\n",
    "# make a grid to contain state values through space and time\n",
    "# and set initial conditions - entire grid is a a fixed value\n",
    "h = np.full((rows, cols), 10, dtype=np.float)\n",
    "\n",
    "# define wells to use\n",
    "wells = [[0.3, 0.6, 3.0],\n",
    "         [1.2, 0.3, 1.5] ]\n",
    "\n",
    "for well in wells:  # convert well coordinants to grid points\n",
    "    iWell, jWell = CoordToGrid(well[0], well[1], width, height, rows, cols)\n",
    "    print(\"Well: x={:.2} ({}), y={:.2} ({}), q={:.3}\".format(well[0], iWell, well[1], jWell, well[2]))\n",
    "    well[0] = iWell\n",
    "    well[1] = jWell\n",
    "\n",
    "delta = 100000  # delta tracks the grid values en route to convergence\n",
    "iters = 0\n",
    "while np.abs(delta) > 0.00001:\n",
    "    h, delta = SolveGrid(h, wells)\n",
    "    iters += 1\n",
    "\n",
    "print(\"Converged after {} iterations\".format(iters))\n",
    "X, Y = np.meshgrid(xdistances, ydistances)\n",
    "\n",
    "# Automatic selection of levels works; setting the\n",
    "# log locator tells contourf to use a log scale:\n",
    "fig, ax = plt.subplots()\n",
    "fig.set_size_inches(12, 6)\n",
    "cs = ax.contourf(X, Y, h, 50, cmap=cm.PuBu_r)\n",
    "\n",
    "cbar = fig.colorbar(cs)\n",
    "\n",
    "plt.show()"
   ]
  },
  {
   "cell_type": "code",
   "execution_count": null,
   "metadata": {},
   "outputs": [],
   "source": []
  }
 ],
 "metadata": {
  "kernelspec": {
   "display_name": "Python 3",
   "language": "python",
   "name": "python3"
  },
  "language_info": {
   "codemirror_mode": {
    "name": "ipython",
    "version": 3
   },
   "file_extension": ".py",
   "mimetype": "text/x-python",
   "name": "python",
   "nbconvert_exporter": "python",
   "pygments_lexer": "ipython3",
   "version": "3.6.9"
  },
  "varInspector": {
   "cols": {
    "lenName": 16,
    "lenType": 16,
    "lenVar": 40
   },
   "kernels_config": {
    "python": {
     "delete_cmd_postfix": "",
     "delete_cmd_prefix": "del ",
     "library": "var_list.py",
     "varRefreshCmd": "print(var_dic_list())"
    },
    "r": {
     "delete_cmd_postfix": ") ",
     "delete_cmd_prefix": "rm(",
     "library": "var_list.r",
     "varRefreshCmd": "cat(var_dic_list()) "
    }
   },
   "types_to_exclude": [
    "module",
    "function",
    "builtin_function_or_method",
    "instance",
    "_Feature"
   ],
   "window_display": false
  }
 },
 "nbformat": 4,
 "nbformat_minor": 2
}
