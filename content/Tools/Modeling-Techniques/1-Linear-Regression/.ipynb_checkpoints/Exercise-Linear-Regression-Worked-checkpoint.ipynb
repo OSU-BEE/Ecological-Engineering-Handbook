{
 "cells": [
  {
   "cell_type": "markdown",
   "metadata": {},
   "source": [
    "Problem 1 - using the data at http://explorer.bee.oregonstate.edu/Topic/Modeling/Data/WatershedFlow.csv, write a Python program to: \n",
    "\n",
    "1. retrieve the data\n",
    "2. Print a list of column labels\n",
    "3. Plot Summer Stream Flow (cfs) as a function of Drainage area (square miles)\n"
   ]
  },
  {
   "cell_type": "code",
   "execution_count": 4,
   "metadata": {},
   "outputs": [
    {
     "name": "stdout",
     "output_type": "stream",
     "text": [
      "Index(['Map number', ' Streamflowgaging station number',\n",
      "       'Streamflow-gaging station name', 'Drainage area (square miles)',\n",
      "       'Main channel slope (feet per mile)',\n",
      "       'Areaweighted mean winter/ spring precipitation (inches)',\n",
      "       'Areaweighted mean summer precipitation (inches)',\n",
      "       'Annual streamflow (cfs)', 'Winter streamflow (cfs)',\n",
      "       'Spring streamflow (cfs)', 'Summer streamflow (cfs)'],\n",
      "      dtype='object')\n"
     ]
    },
    {
     "data": {
      "image/png": "[encoded data removed]",
      "text/plain": [
       "<Figure size 432x288 with 1 Axes>"
      ]
     },
     "metadata": {
      "needs_background": "light"
     },
     "output_type": "display_data"
    }
   ],
   "source": [
    "import numpy as np     # because it's numpy\n",
    "import pandas as pd    # data library\n",
    "import matplotlib.pyplot as plt\n",
    "\n",
    "df = pd.read_csv( \"http://explorer.bee.oregonstate.edu/Topic/Modeling/Data/WatershedFlow.csv\" )\n",
    "print( df.columns )   # print the column headers to the console\n",
    "\n",
    "plt.plot( df['Drainage area (square miles)'].values,df['Summer streamflow (cfs)'].values, \"+\", color=\"green\")\n",
    "plt.show()"
   ]
  },
  {
   "cell_type": "markdown",
   "metadata": {},
   "source": [
    "Problem 2 - develop a linear regression for estimating Summer Stream Flow (cfs) based on the Drainage area (square miles).  Report the best-fit parameters and r2 (goodness of fit) value for the resulting model"
   ]
  },
  {
   "cell_type": "code",
   "execution_count": null,
   "metadata": {},
   "outputs": [],
   "source": []
  },
  {
   "cell_type": "markdown",
   "metadata": {},
   "source": [
    "Problem 3 - using the data at http://explorer.bee.oregonstate.edu/Topic/Modeling/Data/OrCoastalStreams.xlsx, write a Python program to:\n",
    "\n",
    "1) retrieve the data\n",
    "2) Print a list of column labels\n",
    "3) Plot Mean Annual Discharge as a function of Drainge Area\n"
   ]
  },
  {
   "cell_type": "code",
   "execution_count": null,
   "metadata": {},
   "outputs": [],
   "source": []
  },
  {
   "cell_type": "markdown",
   "metadata": {},
   "source": [
    "Problem 4 - develop a linear regression for estimating Mean Annual Discharge based on the Drainage Area_sqmi.  Report the best-fit parameters and r2 (goodness of fit) value for the resulting model"
   ]
  },
  {
   "cell_type": "code",
   "execution_count": null,
   "metadata": {},
   "outputs": [],
   "source": []
  },
  {
   "cell_type": "markdown",
   "metadata": {},
   "source": [
    "Problem 5 - Using the same dataset as above (http://explorer.bee.oregonstate.edu/Topic/Modeling/Data/OrCoastalStreams.xlsx), perform a multiple regression using both  Drainage Area and Altitude to estimate Mean Annaul Discharge"
   ]
  },
  {
   "cell_type": "code",
   "execution_count": null,
   "metadata": {},
   "outputs": [],
   "source": []
  }
 ],
 "metadata": {
  "kernelspec": {
   "display_name": "Python 3",
   "language": "python",
   "name": "python3"
  },
  "language_info": {
   "codemirror_mode": {
    "name": "ipython",
    "version": 3
   },
   "file_extension": ".py",
   "mimetype": "text/x-python",
   "name": "python",
   "nbconvert_exporter": "python",
   "pygments_lexer": "ipython3",
   "version": "3.6.9"
  },
  "varInspector": {
   "cols": {
    "lenName": 16,
    "lenType": 16,
    "lenVar": 40
   },
   "kernels_config": {
    "python": {
     "delete_cmd_postfix": "",
     "delete_cmd_prefix": "del ",
     "library": "var_list.py",
     "varRefreshCmd": "print(var_dic_list())"
    },
    "r": {
     "delete_cmd_postfix": ") ",
     "delete_cmd_prefix": "rm(",
     "library": "var_list.r",
     "varRefreshCmd": "cat(var_dic_list()) "
    }
   },
   "types_to_exclude": [
    "module",
    "function",
    "builtin_function_or_method",
    "instance",
    "_Feature"
   ],
   "window_display": false
  }
 },
 "nbformat": 4,
 "nbformat_minor": 2
}
