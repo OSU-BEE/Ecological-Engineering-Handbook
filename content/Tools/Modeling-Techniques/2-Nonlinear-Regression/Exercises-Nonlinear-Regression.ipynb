{
 "cells": [
  {
   "cell_type": "markdown",
   "metadata": {},
   "source": [
    "## Exercises Problems - Nonlinear Regression\n",
    "\n"
   ]
  },
  {
   "cell_type": "code",
   "execution_count": null,
   "metadata": {},
   "outputs": [],
   "source": []
  },
  {
   "cell_type": "code",
   "execution_count": null,
   "metadata": {},
   "outputs": [],
   "source": [
    "import numpy as np     # because it's numpy\n",
    "import pandas as pd    # data library\n",
    "import matplotlib.pyplot as plt\n",
    "from scipy.optimize import curve_fit\n",
    "\n",
    "# define a model\n",
    "def theModel(weeks, a,b):\n",
    "    return a * np.power(b,weeks)\n",
    "\n",
    "\n",
    "# get data\n",
    "df = pd.read_csv( \"http://explorer.bee.oregonstate.edu/Data/harrypotter.csv\" );\n",
    "\n",
    "weeks = df['weeknum']\n",
    "revs = df['revperday']\n",
    "\n",
    "\n",
    "plt.figure(figsize=(8,4))\n",
    "plt.plot( weeks, revs, \"+\", color=\"green\")\n",
    "plt.title( \"Harry Potter Weekly Revenue\")\n",
    "plt.show()\n",
    "\n",
    "\n",
    "# run nonlinear regression with curve_fit()\n",
    "popt,pcov = curve_fit( theModel, weeks, revs )\n",
    "\n",
    "a = popt[0]\n",
    "b = popt[1]\n",
    "\n",
    "# compute r-square value\n",
    "xObs = weeks\n",
    "yObs = revs\n",
    "yMean = np.mean( revs )\n",
    "yModeled = theModel( xObs, a,b )\n",
    "\n",
    "sst = np.sum( (yObs-yMean)**2 )\n",
    "ssr = np.sum( (yObs-yModeled)**2)  \n",
    "r2 = 1-ssr/sst\n",
    "\n",
    "print( \"Best fit a={:.3}, b={:.3}\".format(a,b))\n",
    "print(\"R2={:.3}\".format(r2))\n",
    "\n",
    "\n",
    "plt.figure(figsize=(8,4))\n",
    "plt.plot( xObs, yObs, \"+\", color=\"green\")\n",
    "plt.plot( xObs, yModeled, \"-\", color=\"red\")\n",
    "plt.title( \"Hary Potter - Fitted Expoential Model\")\n",
    "plt.show()\n",
    "\n"
   ]
  },
  {
   "cell_type": "markdown",
   "metadata": {},
   "source": [
    "\n",
    "## Estimating Cotton Yield from ET\n",
    "\n",
    "For this problem use the dataset at http://explorer.bee.oregonstate.edu/Topic/Modeling/Data/CottonYield_ET.xlsx, which contains two columns of data: 1) the measured Crop ET (column name=\"Evapotranspiration (cm)\") and the corresponding Cotton yield measure (column name=\"Cotton Yield (kg/ha)\")\n",
    "\n",
    "Fit two model forms: \n",
    "\n",
    "1. A simple linear function for the form $ Yield = a + b ET $, and\n",
    "\n",
    "2. A nonlinear function of the form $ Yield = a Yield^b"
   ]
  },
  {
   "cell_type": "code",
   "execution_count": 2,
   "metadata": {},
   "outputs": [
    {
     "name": "stdout",
     "output_type": "stream",
     "text": [
      "[-308.03532287   28.77505274]\n"
     ]
    }
   ],
   "source": [
    "import pandas as pd\n",
    "from scipy.optimize import curve_fit\n",
    "\n",
    "df = pd.read_excel(\"http://explorer.bee.oregonstate.edu/Topic/Modeling/Data/CottonYield_ET.xlsx\")\n",
    "\n",
    "\n",
    "def theCottonModel(et,a,b):\n",
    "    return a + b * et\n",
    "\n",
    "\n",
    "xObs= df['Evapotranspiration (cm)']\n",
    "yObs= df['Cotton Yield (kg/ha)']\n",
    "\n",
    "popt, _ = curve_fit(theCottonModel, xObs, yObs )\n",
    "\n",
    "print( popt)\n",
    "\n",
    "\n",
    "\n",
    "\n"
   ]
  },
  {
   "cell_type": "markdown",
   "metadata": {},
   "source": [
    "## Island Biogeography \n",
    "\n",
    "Does island area and/or proximity to other islands affect the richness of bird species?  We will explore this using a dataset collected in the Solomon Islands (the dataset is available at http://explorer.bee.oregonstate.edu/Topic/Modeling/Data/IslandBirds.csv ).  This datasets contains species counts, island areas, and distance from the island to source colonists for a number of islands in the Solomons.  The model we will fit is:\n",
    "\n",
    "$ \\large S = a * Area^b $\n",
    "\n",
    "where S=species, A=area, a,b are parameters."
   ]
  },
  {
   "cell_type": "code",
   "execution_count": null,
   "metadata": {},
   "outputs": [],
   "source": []
  }
 ],
 "metadata": {
  "kernelspec": {
   "display_name": "Python 3",
   "language": "python",
   "name": "python3"
  },
  "language_info": {
   "codemirror_mode": {
    "name": "ipython",
    "version": 3
   },
   "file_extension": ".py",
   "mimetype": "text/x-python",
   "name": "python",
   "nbconvert_exporter": "python",
   "pygments_lexer": "ipython3",
   "version": "3.6.9"
  },
  "varInspector": {
   "cols": {
    "lenName": 16,
    "lenType": 16,
    "lenVar": 40
   },
   "kernels_config": {
    "python": {
     "delete_cmd_postfix": "",
     "delete_cmd_prefix": "del ",
     "library": "var_list.py",
     "varRefreshCmd": "print(var_dic_list())"
    },
    "r": {
     "delete_cmd_postfix": ") ",
     "delete_cmd_prefix": "rm(",
     "library": "var_list.r",
     "varRefreshCmd": "cat(var_dic_list()) "
    }
   },
   "types_to_exclude": [
    "module",
    "function",
    "builtin_function_or_method",
    "instance",
    "_Feature"
   ],
   "window_display": false
  }
 },
 "nbformat": 4,
 "nbformat_minor": 2
}
