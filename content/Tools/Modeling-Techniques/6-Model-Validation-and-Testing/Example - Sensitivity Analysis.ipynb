{
 "cells": [
  {
   "cell_type": "markdown",
   "metadata": {},
   "source": [
    "# Sensitivity analysis example\n",
    "\n",
    "Below is an exampel fo conducting a sensitivity analysis on a simple model.  The model emplyed below is the simple fish-oxygen model we've seen before, but the pproach is the same regardless of the model.\n",
    "\n",
    "The model examines fish production in a pond.  The model consists of two state variables, Fish (F) and Oxygen (O2) in the pond. The basic idea of the model is that Fish production in an aquaculture setting can be limited by available oxygen in the water column - at low oxygen levels, the per-capita mortality of Fish increases as oxygen levels in the pond decrease. \n",
    "\n",
    "We will calculate two sensitivity statistics, Relative Sensitivity and Absolute Sensitivity, defined as follows:\n",
    "\n",
    " \n",
    "$\\large Absolute Sensitivity = \\frac {R_p-R_b}{P_p-P_b} $\n",
    "\n",
    "$\\large Relative Sensitivity = \\frac {\\frac {R_p-R_b}{R_b}} {\\frac {P_p-P_b}{P_b}} $\n",
    "\n",
    "where:\n",
    "$ R_b $ is the base Response value\n",
    "\n",
    "$ R_p $ is the perturbed Response value\n",
    "\n",
    "$ P_b $ is the base Parameter value\n",
    "\n",
    "$ P_b $ is the pertured Parameter value\n",
    "\n",
    "\n",
    "You will want to run the model for **120 days**\n",
    "\n",
    "** Sensitivy Analysis Parameters: **\n",
    "\n",
    "Parameter | Definition | Base Value\n",
    "--------- | ---------- | -----\n",
    "`flowrate` | inflow rate to the pond | 2.0 L/L-day\n",
    "`kO2` | Per-capita oxygen consumption rate | 0.0012 gO2/gFish-day\n",
    "`O2in` | Oxygen level in pond influent | 0.008 g/L\n"
   ]
  },
  {
   "cell_type": "markdown",
   "metadata": {},
   "source": [
    "### Step 1 - Create a function to run you model"
   ]
  },
  {
   "cell_type": "code",
   "execution_count": 7,
   "metadata": {},
   "outputs": [
    {
     "name": "stdout",
     "output_type": "stream",
     "text": [
      "success\n"
     ]
    },
    {
     "data": {
      "image/png": "[encoded data removed]",
      "text/plain": [
       "<matplotlib.figure.Figure at 0x7fa536c78240>"
      ]
     },
     "metadata": {},
     "output_type": "display_data"
    }
   ],
   "source": [
    "import numpy as np\n",
    "from scipy.integrate import odeint\n",
    "import matplotlib.pyplot as plt\n",
    "\n",
    "# known model parameters.  Note: units are L, g, day\n",
    "flowrate = 2.0   # L/L/day\n",
    "kO2 = 0.0012     # gO2/gFish/ day\n",
    "kGrowth = 0.05   # g/g/day\n",
    "O2in = 0.008     # g/L\n",
    "aeration = 0.0   # g/L/day\n",
    "km = 470\n",
    "FInit = 1\n",
    "O2Init = 0.008\n",
    "\n",
    "###### Fish/Oxygen model ######\n",
    "def theModel(y,t):\n",
    "    F = y[0]\n",
    "    O2 = y[1]\n",
    "    dF_dt  = kGrowth*F - np.exp(-km*O2) * F\n",
    "    dO2_dt = flowrate*(O2in-O2) - (kO2*F) + aeration\n",
    "    return [ dF_dt, dO2_dt]\n",
    "\n",
    "# function to run the model\n",
    "def runTheModel():\n",
    "    times = np.arange(0, 120.1, 0.1)\n",
    "    Y = odeint(theModel, [FInit, O2Init], times)\n",
    "    return times, Y\n",
    "\n",
    "times,Y = runTheModel()\n",
    "\n",
    "# plot results - upper plot is regression, lower is state variables\n",
    "F = Y[:,0]\n",
    "O2 = Y[:,1]\n",
    "\n",
    "print(\"success\")\n",
    "# lower plot - state variables through time\n",
    "plt.subplot(2,1,1)\n",
    "plt.plot(times, F, 'r-')\n",
    "plt.grid()\n",
    "plt.xlabel('Time (days)')\n",
    "plt.ylabel( 'Fish (g/L)')\n",
    "plt.title( 'Fish Biomass Density')\n",
    "            \n",
    "plt.subplot(2,1,2)            \n",
    "plt.plot(times, O2, 'b-')\n",
    "plt.grid()\n",
    "plt.xlabel('Time (days)')\n",
    "plt.ylabel( 'O2 Level (g/L)')\n",
    "plt.title( 'Pond Oxygen Levels')\n",
    "\n",
    "plt.tight_layout()\n",
    "plt.show()"
   ]
  },
  {
   "cell_type": "markdown",
   "metadata": {},
   "source": [
    "### Step 1. Perturb the system\n",
    "\n",
    "We will perturb parameters selected for sensitivity analysis 10% and rerun the model. \n",
    "\n",
    "**Parameters**\n",
    "We will use flowrate, kO2, and O2in as our sensitivity parameters\n",
    "\n",
    "**Output**\n",
    "Our Sensitivity response variable will be the level of Fish at the end of the run."
   ]
  },
  {
   "cell_type": "code",
   "execution_count": 8,
   "metadata": {},
   "outputs": [
    {
     "name": "stdout",
     "output_type": "stream",
     "text": [
      "Base case Response Value: 2.65\n"
     ]
    },
    {
     "data": {
      "text/html": [
       "<div>\n",
       "<style>\n",
       "    .dataframe thead tr:only-child th {\n",
       "        text-align: right;\n",
       "    }\n",
       "\n",
       "    .dataframe thead th {\n",
       "        text-align: left;\n",
       "    }\n",
       "\n",
       "    .dataframe tbody tr th {\n",
       "        vertical-align: top;\n",
       "    }\n",
       "</style>\n",
       "<table border=\"1\" class=\"dataframe\">\n",
       "  <thead>\n",
       "    <tr style=\"text-align: right;\">\n",
       "      <th></th>\n",
       "      <th>Parameter</th>\n",
       "      <th>Base Value</th>\n",
       "      <th>Perturbed Value</th>\n",
       "      <th>Response Value</th>\n",
       "      <th>Absolute Sensitivity</th>\n",
       "      <th>Relative Sensitivity</th>\n",
       "    </tr>\n",
       "  </thead>\n",
       "  <tbody>\n",
       "    <tr>\n",
       "      <th>2</th>\n",
       "      <td>O2in</td>\n",
       "      <td>0.0080</td>\n",
       "      <td>0.00880</td>\n",
       "      <td>4.016165</td>\n",
       "      <td>1712.129252</td>\n",
       "      <td>5.175602</td>\n",
       "    </tr>\n",
       "    <tr>\n",
       "      <th>0</th>\n",
       "      <td>flowrate</td>\n",
       "      <td>2.0000</td>\n",
       "      <td>2.20000</td>\n",
       "      <td>2.896494</td>\n",
       "      <td>1.250161</td>\n",
       "      <td>0.944779</td>\n",
       "    </tr>\n",
       "    <tr>\n",
       "      <th>1</th>\n",
       "      <td>kO2</td>\n",
       "      <td>0.0012</td>\n",
       "      <td>0.00132</td>\n",
       "      <td>2.416052</td>\n",
       "      <td>-1920.079535</td>\n",
       "      <td>-0.870632</td>\n",
       "    </tr>\n",
       "  </tbody>\n",
       "</table>\n",
       "</div>"
      ],
      "text/plain": [
       "  Parameter  Base Value  Perturbed Value  Response Value  \\\n",
       "2      O2in      0.0080          0.00880        4.016165   \n",
       "0  flowrate      2.0000          2.20000        2.896494   \n",
       "1       kO2      0.0012          0.00132        2.416052   \n",
       "\n",
       "   Absolute Sensitivity  Relative Sensitivity  \n",
       "2           1712.129252              5.175602  \n",
       "0              1.250161              0.944779  \n",
       "1          -1920.079535             -0.870632  "
      ]
     },
     "execution_count": 8,
     "metadata": {},
     "output_type": "execute_result"
    }
   ],
   "source": [
    "import pandas as pd\n",
    "\n",
    "# store base case parameter values\n",
    "flowrate_base = flowrate\n",
    "kO2_base = kO2\n",
    "O2in_base = O2in\n",
    "\n",
    "\n",
    "# run the base case\n",
    "times,Yb = runTheModel()\n",
    "Fishb = Yb[-1,0]  # base case Fish biomass (first column) at end of run (last row)\n",
    "\n",
    "print( 'Base case Response Value: {:.3}'.format(Fishb))\n",
    "\n",
    "# calculate sensitivities for each parameter.  We will record these in a sequence\n",
    "# that we will use later to populate a pandas dataframe (a convenient way to print tables)\n",
    "\n",
    "# first, flowrate\n",
    "flowrate = flowrate * 1.10    # perturb by 10 percent\n",
    "times,Y = runTheModel()\n",
    "flowrate = flowrate_base      # restore starting value after run\n",
    "\n",
    "Fishp = Y[-1,0]   # perturbed response variable\n",
    "absSensitivity = (Fishp-Fishb)/(0.10*flowrate)   # change in response/change in parameter\n",
    "relSensitivity = ((Fishp-Fishb)/Fishb)/0.10\n",
    "results_fr = ('flowrate',flowrate,flowrate*1.10,Fishp,absSensitivity,relSensitivity)  # store results in a sequence\n",
    "\n",
    "# kO2 next\n",
    "kO2 = kO2 * 1.10    # perturb by 10 percent\n",
    "times,Y = runTheModel()\n",
    "kO2 = kO2_base      # restore starting value after run\n",
    "\n",
    "Fishp = Y[-1,0] # perturbed case\n",
    "absSensitivity = (Fishp-Fishb)/(0.10*kO2)   \n",
    "relSensitivity = ((Fishp-Fishb)/Fishb)/0.10\n",
    "results_k = ('kO2',kO2,kO2*1.10,Fishp,absSensitivity,relSensitivity)\n",
    "\n",
    "# O2in next\n",
    "O2in = O2in * 1.10    # perturb by 10 percent\n",
    "times,Y = runTheModel()\n",
    "O2in = O2in_base      # restore starting value after run\n",
    "\n",
    "Fishp = Y[-1,0] # perturbed case\n",
    "absSensitivity = (Fishp-Fishb)/(0.10*O2in)   \n",
    "relSensitivity = ((Fishp-Fishb)/Fishb)/0.10\n",
    "results_o2 = ('O2in',O2in,O2in*1.10,Fishp,absSensitivity,relSensitivity)\n",
    "\n",
    "# make a dataframe to hold the results\n",
    "records = [ results_fr, results_k, results_o2 ]\n",
    "labels = ['Parameter', 'Base Value', 'Perturbed Value', 'Response Value', 'Absolute Sensitivity', 'Relative Sensitivity']\n",
    "df = pd.DataFrame.from_records(records, columns=labels)\n",
    "\n",
    "df = df.sort_values(by=['Relative Sensitivity'],ascending=False)\n",
    "\n",
    "df  # print it\n"
   ]
  },
  {
   "cell_type": "markdown",
   "metadata": {},
   "source": [
    "#### From this, we can see that the O2in parameter is the most sensitive of the three parameters tested.\n",
    "\n",
    "We can rank the parameters by the absolute value of the relative sensitivity - the highest absolute value of the relative sensitivities will be the parameter the model is most sensititive to. "
   ]
  }
 ],
 "metadata": {
  "anaconda-cloud": {},
  "kernelspec": {
   "display_name": "Python 3",
   "language": "python",
   "name": "python3"
  },
  "language_info": {
   "codemirror_mode": {
    "name": "ipython",
    "version": 3
   },
   "file_extension": ".py",
   "mimetype": "text/x-python",
   "name": "python",
   "nbconvert_exporter": "python",
   "pygments_lexer": "ipython3",
   "version": "3.6.8"
  },
  "varInspector": {
   "cols": {
    "lenName": 16,
    "lenType": 16,
    "lenVar": 40
   },
   "kernels_config": {
    "python": {
     "delete_cmd_postfix": "",
     "delete_cmd_prefix": "del ",
     "library": "var_list.py",
     "varRefreshCmd": "print(var_dic_list())"
    },
    "r": {
     "delete_cmd_postfix": ") ",
     "delete_cmd_prefix": "rm(",
     "library": "var_list.r",
     "varRefreshCmd": "cat(var_dic_list()) "
    }
   },
   "types_to_exclude": [
    "module",
    "function",
    "builtin_function_or_method",
    "instance",
    "_Feature"
   ],
   "window_display": false
  }
 },
 "nbformat": 4,
 "nbformat_minor": 2
}
