{
 "cells": [
  {
   "cell_type": "markdown",
   "metadata": {},
   "source": [
    "# An Introduction to Using Jupyter Notebooks\n",
    "\n",
    "## second level\n",
    "\n",
    "### In this jupyter notebook, we are going to introduce some of the basic elements of creating and using jupyter notebooks.\n",
    "\n",
    "The basic idea of a jupyter notebook is simple:  Create documents that mix formatted text, plain text, programming code, program output, web links, and other capabilities using a browser-based editing tool. In addition, jupyter notebooks are \"live\" documents, capable of executing Python code (as well as several other programming languages such as \"R\") and displaying python output.\n",
    "\n",
    "The first thing we want to do is try out some Python in the notebook.  In the Code block below try some Python code.  To execute the code you enter, either hit <shift>-<enter> or select the \"Run\" button on the toolbar above."
   ]
  },
  {
   "cell_type": "code",
   "execution_count": null,
   "metadata": {},
   "outputs": [],
   "source": [
    "for i in range(0,10):\n",
    "    print( i)"
   ]
  },
  {
   "cell_type": "markdown",
   "metadata": {},
   "source": [
    "## A primer on Markdown\n",
    "\n",
    "Markdown is a way to simply create formatted text by \"marking up\" the text with characters that specify bold, italic, and other styles.  Formatting is down when the cell is \"run\" (executed).\n",
    "\n",
    "For example, we can make _italic_ text, or __bold__ text, or ***bold italic*** text.\n",
    "\n",
    "A Bulleted list:\n",
    "* item 1\n",
    "* item 2\n",
    "\n",
    "or a numbered list:\n",
    "1. one\n",
    "2. two\n",
    "3. three\n",
    "\n",
    "Or a multilevel list\n",
    "1. First Item\n",
    "    * sub 1\n",
    "    * sub 2\n",
    "2. Second item\n",
    "3. Third Item\n",
    "\n",
    "Image:\n",
    "![Alt text](http://explorer.bee.oregonstate.edu/Topic/Modeling/images/euler_integration.gif)\n",
    "\n",
    "Link:\n",
    "[Markdown Cheatsheet](http://commonmark.org/help/)\n"
   ]
  },
  {
   "cell_type": "markdown",
   "metadata": {},
   "source": [
    "### Your turn\n",
    "\n",
    "In the markdown block below this one, add\n",
    "1. a first level header \"Welcome\"\n",
    "2. A second level header \"to Markdown\"\n",
    "3. The sentence \"This is italic\" with \"italic\" italicized\n",
    "4. The sentence \"This is bold\" with \"bold\" bolded\n",
    "5. The sentence \"This is a combination of bold and italic\" with \"bold and italic\", well, you know...\n",
    "6. An image of the OSU logo (located at http://explorer.bee.oregonstate.edu/images/osu-logo-new.jpg)\n",
    "7. A link to the Oregon State University homepage, with the link text \"Oregon State\"\n",
    "8. An inline code block with the text \"read_excel()\" inside the sentence \"For this, use the read_excel() function\" (Hint, use backward tilde \\` to delimit the inline code block\n",
    "\n",
    "\n",
    "You can also insert mathematical equations into your notebook using the syntax ${Latex expressions}$, for example $e^{i\\pi} + 1 = 0$.  Documentation for Latex is available [here](https://users.dickinson.edu/~richesod/latex/latexcheatsheet.pdf)\n",
    "\n",
    "9. Add a equation for y = 1/2 * cos(a) / (e cubed)\n"
   ]
  },
  {
   "cell_type": "markdown",
   "metadata": {},
   "source": [
    "# Welcome\n",
    "\n",
    "## to Markdown\n",
    "\n",
    "this is *italics* \n",
    "\n",
    "this is **bold** \n",
    "\n",
    "this is a combo of ***bold and italic***\n",
    "\n",
    "![OSU Logo]( http://explorer.bee.oregonstate.edu/images/osu-logo-new.jpg)\n",
    "[Oregon State]( http://oregonstate.edu)\n",
    "\n",
    "for this, use `load_excel()` to show code \n"
   ]
  },
  {
   "cell_type": "markdown",
   "metadata": {},
   "source": [
    "$y=\\frac{1}{2}\\frac{cos(a)}{e^3}$"
   ]
  },
  {
   "cell_type": "markdown",
   "metadata": {},
   "source": []
  },
  {
   "cell_type": "markdown",
   "metadata": {},
   "source": [
    "Plots in a notebook\n",
    "==========\n",
    "\n",
    "You can add Python-generated plots to your notebooks"
   ]
  },
  {
   "cell_type": "code",
   "execution_count": 1,
   "metadata": {},
   "outputs": [
    {
     "data": {
      "image/png": "[encoded data removed]",
      "text/plain": [
       "<matplotlib.figure.Figure at 0x7f629c6f1cc0>"
      ]
     },
     "metadata": {},
     "output_type": "display_data"
    }
   ],
   "source": [
    "# Make a legend for specific lines.\n",
    "import matplotlib.pyplot as plt\n",
    "import numpy as np\n",
    "\n",
    "# create \n",
    "t1 = np.arange(0.0, 2.0, 0.1)\n",
    "t2 = np.arange(0.0, 2.0, 0.01)\n",
    "\n",
    "# note that plot returns a list of lines.  The \"l1, = plot\" usage\n",
    "# extracts the first element of the list into l1 using tuple\n",
    "# unpacking.  So l1 is a Line2D instance, not a sequence of lines\n",
    "plt.plot(t2, np.exp(-t2))\n",
    "plt.plot(t2, np.sin(2 * np.pi * t2), '--o')\n",
    "plt.plot(t1, np.log(1 + t1), '.')\n",
    "plt.plot(t2, np.exp(-t2) * np.sin(2 * np.pi * t2), 's-.')\n",
    "\n",
    "plt.legend(('exponential', 'oscillatory', 'log', 'damped'), loc='upper right', shadow=True)\n",
    "plt.xlabel('time')\n",
    "plt.ylabel('volts')\n",
    "plt.title('Damped oscillation')\n",
    "plt.show()"
   ]
  },
  {
   "cell_type": "markdown",
   "metadata": {},
   "source": [
    "### Try it on your own:\n",
    "    \n",
    "1. Open a new code block below\n",
    "2. Create an array of x values between 0-10, in increments of 0.01 (Hint, use numpy's `arange()` function\n",
    "3. Create an array of y values, where y = np.sin(x)\n",
    "4. Plot y vs x"
   ]
  }
 ],
 "metadata": {
  "kernelspec": {
   "display_name": "Python 3",
   "language": "python",
   "name": "python3"
  },
  "language_info": {
   "codemirror_mode": {
    "name": "ipython",
    "version": 3
   },
   "file_extension": ".py",
   "mimetype": "text/x-python",
   "name": "python",
   "nbconvert_exporter": "python",
   "pygments_lexer": "ipython3",
   "version": "3.5.2"
  }
 },
 "nbformat": 4,
 "nbformat_minor": 2
}
