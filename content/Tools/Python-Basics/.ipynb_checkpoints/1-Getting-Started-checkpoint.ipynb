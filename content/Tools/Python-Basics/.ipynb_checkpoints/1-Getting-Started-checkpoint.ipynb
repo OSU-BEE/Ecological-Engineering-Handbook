{
 "cells": [
  {
   "cell_type": "markdown",
   "metadata": {},
   "source": [
    "# Example Programs - Week 1 (Python Intro)\n",
    "\n",
    "Below, we explore some basic Python programs using concepts from this week's class.  These examples are inteded to demonstrate basic programming concepts, working with the Python development environment, and using variables in programs.\n",
    "\n",
    "\n",
    "## Hello, World!\n",
    "\n",
    "Our first program is very simple, and involves printing the string *\"Hello World\"* to the Python console.\n",
    "\n",
    "Programming concepts demonstrated:\n",
    "1. Interacting with the Python environment\n",
    "2. using the \"string\" data type\n",
    "3. console output"
   ]
  },
  {
   "cell_type": "code",
   "execution_count": null,
   "metadata": {},
   "outputs": [],
   "source": [
    "print( \"Hello, World!\")"
   ]
  },
  {
   "cell_type": "markdown",
   "metadata": {},
   "source": [
    "\n",
    "\n",
    "## Chapter 2, Problem 1.1a\n",
    "\n",
    "This problem involves computing a trajectory of a ball based on the laws of motion.  These laws are:\n",
    "\n",
    "$\\large h = h_0 + v_0 t - \\frac{1}{2} g t^2 $ \n",
    "\n",
    "$\\large v = v_0 - g t $ \n",
    "\n",
    "where:\n",
    "$ g = 9.8 \\frac{m}{s^2} $, the acceleration due to gravity.\n",
    "\n",
    "$ h_0 = 1.2 m $\n",
    "\n",
    "$ v_0 = 5.4 m/s $\n",
    "\n",
    "**Your task is to compute, for a time t, the position and speed at that point.**   Calculate your results for t = 0.5, and t=2 seconds. \n",
    "\n",
    "Use  **comments** to document your code - **any text to the right of a '#' symbol is considered a comment and is ignored by the Python interpreter**.  Use comments liberally throughout your program to indicate variable meanings, program logic, and other aspects of your program in \"human-friendly\", readable forms.  You will thank yourself when you look at your code a few weeks from now and have to remember what you did. \n",
    "\n",
    "For most engineering problems, units are critical to your calculations.  It is very helpful, and will save you a lot of headaches trying to debug faulty code, to indicate units associated with your variables and calculations in comments at the point of definition.\n",
    "\n",
    "**When printing your output, use appropriate formatting!** e.g. for floating point (real) numbers, indicate a precision using string formatting (e.g. \n",
    "\n",
    "`print( \"My Output is: {}, {:.2f}\".format(someInteger, someRealNumber) )`"
   ]
  },
  {
   "cell_type": "code",
   "execution_count": null,
   "metadata": {},
   "outputs": [],
   "source": [
    "# Program for calculating hieght and velocity of a ball thrown vertically in the air\n",
    "\n",
    "# first define initial conditions, constants\n",
    "h0 = 1.2   # meters\n",
    "v0 = 5.4   # m/s\n",
    "g = 9.8    # m/s/s\n",
    "\n",
    "time = 0.5   # second\n",
    "\n",
    "# calculate height\n",
    "h = h0 + (v0*time) - 0.5*g*time**2   # m\n",
    "v = v0 - g*time                    # m/s\n",
    "\n",
    "print ( \"After {} seconds,  Velocity={:.2f}, Height={:.3}\".format( time, v, h))\n",
    "\n",
    "# repeat, getting values after two seconds\n",
    "time = 2\n",
    "h = h0 + v0*time - 0.5*g*time**2\n",
    "v = v0 - g*time\n",
    "\n",
    "print ( \"After {} seconds,  Velocity={:.2f}, Height={:.3f}\".format( time, v, h))\n"
   ]
  },
  {
   "cell_type": "markdown",
   "metadata": {},
   "source": [
    "## Chapter 2, Problem 1.1b\n",
    "\n",
    "This problem evaluates a function at multiple locations of an input.  Evaluate the function:\n",
    "\n",
    "$ V = V_0 \\left(1-\\large \\frac{z}{\\sqrt{a^2+z^2}}\\right) $\n",
    "for:\n",
    "\n",
    "$ V_0 = 10 $\n",
    "\n",
    "$ a = 2.5$\n",
    "\n",
    "$ z = 4\\frac{1}{3} $\n",
    "\n",
    "Repeat with $ z = 8\\frac{2}{3} $, and $ z = 13 $"
   ]
  },
  {
   "cell_type": "code",
   "execution_count": null,
   "metadata": {},
   "outputs": [],
   "source": [
    "# program to solve function\n",
    "\n",
    "# declare variables\n",
    "v0 = 10\n",
    "a = 2.5\n",
    "z = 4.33333\n",
    "\n",
    "Z = input(\"Enter Z:\")\n",
    "\n",
    "\n",
    "# calculate results\n",
    "v = v0*(1-(z/((a**2 + z**2)**0.5)))\n",
    "print( \"Z= {:.3f}, V={:.3f}\".format(z, v) )\n",
    "\n",
    "# repeat (with a slight variation) using a different input\n",
    "z = 8.66667\n",
    "s = (a**2 + z**2)**0.5\n",
    "v = v0*(1-(z/s))\n",
    "print( \"Z= {:.3f}, V={:.3}\".format(z, v) )\n",
    "\n",
    "# repeat, this time importing a function to do the square root.\n",
    "# This is a preview: we will look at importing function in more\n",
    "# detail below\n",
    "from numpy import sqrt\n",
    "z = 13\n",
    "v = v0*(1-(z/sqrt(a**2 + z**2)))\n",
    "print( \"Z={},  V={:.3}\".format(z, v) )\n",
    "\n",
    "      "
   ]
  },
  {
   "cell_type": "code",
   "execution_count": null,
   "metadata": {},
   "outputs": [],
   "source": [
    "Z = input( \"Enter Z: \")\n",
    "print(Z)\n",
    "Z = float(Z)\n",
    "Y = Z *2\n",
    "print(Y)"
   ]
  },
  {
   "cell_type": "markdown",
   "metadata": {},
   "source": [
    "## Chapter 2, Problem 1.2\n",
    "This problem calculates three equations.  We will take advantage of the numpy package that provides some useful mathematical functions (and many other capabilities we will be exploring in later modules)"
   ]
  },
  {
   "cell_type": "code",
   "execution_count": null,
   "metadata": {},
   "outputs": [],
   "source": [
    "import numpy as np   # import numpy package, and alias it as 'np'\n",
    "\n",
    "a = 2 + np.exp(2.8)/(np.sqrt(13)-2)\n",
    "\n",
    "b = (1-(1+np.log(2))**3.5)/(1+np.sqrt(5))\n",
    "\n",
    "c = np.sin((2-np.sqrt(2))/(2+np.sqrt(2)))\n",
    "\n",
    "print( \"a={:.2f}, b={:.2f}, c={:.2f}\".format(a,b,c))\n"
   ]
  },
  {
   "cell_type": "markdown",
   "metadata": {},
   "source": [
    "## Chapter 2, Problem 1.3.1 - Solving the Quadratic Equation\n",
    "Compute the roots of a quadratic equations, checking some test cases  The quadratic formula is:\n",
    "\n",
    "$\\large x = \\frac{-b \\pm \\sqrt{b^2-4 a c}}{2a}  $\n",
    "\n",
    "In this example, we will solve it for real roots, e.g. $b^2 >= 4ac $"
   ]
  },
  {
   "cell_type": "code",
   "execution_count": null,
   "metadata": {},
   "outputs": [],
   "source": [
    "import numpy as np\n",
    "\n",
    "np.exp()"
   ]
  },
  {
   "cell_type": "code",
   "execution_count": null,
   "metadata": {},
   "outputs": [],
   "source": [
    "# compute roots of a quadratic equation\n",
    "# note that solutions should be real numbers if the value\n",
    "# of the discriminant (d) is greater than or equal to 0 \n",
    "\n",
    "from numpy import sqrt\n",
    "\n",
    "a = 10\n",
    "b = -15\n",
    "c = 5\n",
    "\n",
    "d = b*b - 4*a*c\n",
    "\n",
    "x0 = (-b + sqrt(d))/2*a\n",
    "x1 = (-b - sqrt(d))/2*a\n",
    "\n",
    "print( \"D:{},  x0:{}, x1:{}\".format(d, x0, x1))"
   ]
  },
  {
   "cell_type": "markdown",
   "metadata": {},
   "source": [
    "## Chapter 2, Problem 1.3.2 - Solving the Quadratic Equation\n",
    "Repeat the previous example, allowing for complex results.\n",
    "\n",
    "Copy the script above and and try it for the case:\n",
    "\n",
    "$ a=1, b=2, c=3 $\n",
    "\n",
    "You can accomodate imaginary numbers by specifing inputs as *a = a+0j*"
   ]
  },
  {
   "cell_type": "code",
   "execution_count": null,
   "metadata": {},
   "outputs": [],
   "source": [
    "# compute roots of a quadratic equation, allowing for complex results\n",
    "\n",
    "from numpy import sqrt\n",
    "\n",
    "a = 1+0j\n",
    "b = 2+0j\n",
    "c = 3+0j\n",
    "\n",
    "d = b*b - 4*a*c\n",
    "\n",
    "x0 = (-b + sqrt(d))/2*a\n",
    "x1 = (-b - sqrt(d))/2*a\n",
    "\n",
    "print( \"D:{},  x0:{}, x1:{}\".format(d, x0, x1))"
   ]
  },
  {
   "cell_type": "code",
   "execution_count": null,
   "metadata": {},
   "outputs": [],
   "source": []
  }
 ],
 "metadata": {
  "anaconda-cloud": {},
  "kernelspec": {
   "display_name": "Python 3",
   "language": "python",
   "name": "python3"
  },
  "language_info": {
   "codemirror_mode": {
    "name": "ipython",
    "version": 3
   },
   "file_extension": ".py",
   "mimetype": "text/x-python",
   "name": "python",
   "nbconvert_exporter": "python",
   "pygments_lexer": "ipython3",
   "version": "3.6.8"
  },
  "varInspector": {
   "cols": {
    "lenName": 16,
    "lenType": 16,
    "lenVar": 40
   },
   "kernels_config": {
    "python": {
     "delete_cmd_postfix": "",
     "delete_cmd_prefix": "del ",
     "library": "var_list.py",
     "varRefreshCmd": "print(var_dic_list())"
    },
    "r": {
     "delete_cmd_postfix": ") ",
     "delete_cmd_prefix": "rm(",
     "library": "var_list.r",
     "varRefreshCmd": "cat(var_dic_list()) "
    }
   },
   "types_to_exclude": [
    "module",
    "function",
    "builtin_function_or_method",
    "instance",
    "_Feature"
   ],
   "window_display": false
  }
 },
 "nbformat": 4,
 "nbformat_minor": 1
}
