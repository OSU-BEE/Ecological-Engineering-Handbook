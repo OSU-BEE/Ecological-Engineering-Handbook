{
 "cells": [
  {
   "cell_type": "markdown",
   "metadata": {},
   "source": [
    "# Anatomy of a Python Program\n",
    "\n",
    "\n",
    "<img src=\"images/ProgramAsRecipe.png\" alt=\"Program as Recipe\" title=\"Program as Recipe\" style=\"float:right;width:50%;margin:0.5em\" />\n",
    "    \n",
    "Python programs (and just about any program, for that matter) can be thought of as **recipes** that contain a **a stepwise series of instructions** to acomplish some task. In Python programming, these steps are accomplished by writing down the instructions, in order, using a specific syntax that us understood by the Python interpreter.  The process of **running a program** involves storing these instructions in a text file (with a .py extension) and then asking a Python interpreter to process this file. Much of the process of learning to program involves understanding the specific syntax for the programming language being used.\n",
    "\n",
    "In general, programs deal with data.  This data comes in various forms - things like **strings**, **integer**, **real (floating point) numbers**, but also more complicated objects like **arrays** and **lists** (storing multiple objects), **dataframes** (storing rectangular datasets), **images**, and many others.  Programming languages provide methods for *operating* on this data, like **adding numbers**, computing various mathematical functions, **reading and writing** data, **visualizing data** and many others.  Python provides a rich set of these capabilities, some of which we will explore below.\n",
    "\n",
    "\n",
    "We will start with a traditional first program, printing the string \"Hello World\" to the console.  In Python, this is a simple task, requiring one line of code as shown below.  This very simple program demonstrate a couple of programming concepts: 1) the idea of invoking a *function* (**print**), a \"prepackaged\" functionality, that takes an *argument* and does something with that argument, in this case printing it to the console, and 2) the idea of a *data type*, in this case a **string** consisting of the characters **Hello World**.  Also note that in the *code blocks* below, we provide working python code in the **In[ ]** blocks, and output from the code in the **Out[ ]** blocks. "
   ]
  },
  {
   "cell_type": "code",
   "execution_count": 1,
   "metadata": {},
   "outputs": [
    {
     "name": "stdout",
     "output_type": "stream",
     "text": [
      "Hello World\n"
     ]
    }
   ],
   "source": [
    "# this program prints the string \"Hello World\" to the console\n",
    "print( \"Hello World\")"
   ]
  },
  {
   "cell_type": "markdown",
   "metadata": {},
   "source": [
    "### Some things to note about the program above:\n",
    "\n",
    "1. Anything to the right of a **#** (hash) character is consider a **comment** and is ignored by Python.  Comments are useful for documenting what the program is doing.\n",
    "\n",
    "2. `Hello World` is a **string**.  Strings are always enclosed with single quotes (**'**) or double quotes (**\"**), e.g. `'this is a string'`\n",
    "\n",
    "3. `print` is the name of a **function**.  Functions are pieces of code that (optionally) take **arguments** (enclosed in parentheses) and operate on those arguments to produce a result or take an action.  In this case, the `print` function takes a single argument, a *string*, as prints the argument to the console.   "
   ]
  },
  {
   "cell_type": "markdown",
   "metadata": {},
   "source": [
    "## A more interesting example - calculating a fibonacci sequence\n",
    "\n",
    "The second example calculates the Fibonacci sequence for the the integers 1-10 and prints them to the console.  We provide a user-defined function to calculate the Fibonacci values for a given integer, and loop through the integers in order, calculating and printing the sequence values.  Recall that the Fibonacci number of a given integer is the sum of all integers less than that number;  Specifically:\n",
    "\n",
    "$ F(0) = 0, F(1) = 1, F(n) = F(n-1) + F(n-2) $ for n > 1"
   ]
  },
  {
   "cell_type": "code",
   "execution_count": 2,
   "metadata": {},
   "outputs": [
    {
     "name": "stdout",
     "output_type": "stream",
     "text": [
      "1 1\n",
      "2 1\n",
      "3 2\n",
      "4 3\n",
      "5 5\n",
      "6 8\n",
      "7 13\n",
      "8 21\n",
      "9 34\n"
     ]
    }
   ],
   "source": [
    "# define a function that takes as input an integer,\n",
    "# and returns the Fibonacci number for that sequence\n",
    "def Fibonacci(n):\n",
    "    if n < 1:\n",
    "        return 0\n",
    "    elif n == 1:\n",
    "        return 1\n",
    "    else:\n",
    "        return Fibonacci(n-1)+Fibonacci(n-2)\n",
    "    \n",
    "# main program - print n, Fibonacci(n) for n in [1,9]\n",
    "for i in range(1,10):\n",
    "    print(i, Fibonacci(i))"
   ]
  },
  {
   "cell_type": "markdown",
   "metadata": {},
   "source": [
    "### Some things to note about the program above\n",
    "\n",
    "1. We define a **function** with the `def` keyword, followed by an open parenthesis (**(**), a list of arguments, a closed parenthesis (**)**) and a colon (**:**).  Anytime this function is called, it recieves an argument (**n**) and executes the program code associate with the function.\n",
    "2. **n** is a **variable** that can be assigned different values as needed.\n",
    "3. **Conditional statements** (e.g. `if`, `elif` (\"else-if\"), and `else` test conditions and *branch* a program's sequence of execution based on the test. The `==` operator test for equality.\n",
    "4. **Loops** are indicated with the `for` statement.  `for` statments repeat for a set of values, in this case a range of integers going from 1 to 9. The `range()` function ruturns an array of numbers starting with the first argument (1), and continuing up to (but not including) the last argument, in this case, 10, in increments of 1. \n",
    "5. The `return` statement indicates that the function is finished.  Optionally, we can return results from the function, in this case the compute Fibonacci value for **n**.\n",
    "6. The **indentation level** of a statement matters! in the conditional statements above, the level of nest determines which code lines are associated with each condition (or other program control block, like `for` and `def`).\n",
    "7.  Statements with no indentation (all the way to the left) comprise **the main program** - this code is where execution starts when a program is run.  \n"
   ]
  },
  {
   "cell_type": "markdown",
   "metadata": {},
   "source": [
    "## A more useful example - reading and charting data\n",
    "\n",
    "The following program shows of how Python can be used to address more useful problems, in this case reading a dataset from a website (URL) and generating a visualization of the dataset for display.  It demonstrates the use of high level functions for performing key tasks, and the idea of *importing* prepackaged functionality from Python libraries available to your programs.  This functional is accessed using the **import** statement, which loads functionality from the specified package (library) into your program. In the example below, we **import** a package called **pandas**, a widely used data management and analysis library we will use frequently. We use **pandas** to read a CSV (comma-separated values) file forom disk, print a list of column headers, print the first few records (the *head*) of the dataset, and then plot two of the columns of data, once as time series, followed by a plot of one column against the other."
   ]
  },
  {
   "cell_type": "code",
   "execution_count": 3,
   "metadata": {},
   "outputs": [
    {
     "name": "stdout",
     "output_type": "stream",
     "text": [
      "['StationID' 'Date' 'Latitude' 'Longitude' 'StreamDischargeCFS'\n",
      " 'MinAirTempC' 'MaxAirTempC' 'MeanAirTempC' 'DayOfYear' 'MaxStreamTempC']\n",
      "\n",
      "   StationID       Date  Latitude  Longitude  StreamDischargeCFS  MinAirTempC  \\\n",
      "0   14166000 2000-10-05   44.2704  236.82629                6480      7.59113   \n",
      "1   14166000 2000-10-06   44.2704  236.82629                6390      6.03772   \n",
      "2   14166000 2000-10-07   44.2704  236.82629                6450      4.81598   \n",
      "3   14166000 2000-10-08   44.2704  236.82629                6430      6.46249   \n",
      "4   14166000 2000-10-09   44.2704  236.82629                6630      3.60986   \n",
      "\n",
      "   MaxAirTempC  MeanAirTempC  DayOfYear  MaxStreamTempC  \n",
      "0      15.8333      11.71220        279            14.4  \n",
      "1      13.5453       9.79153        280            14.6  \n",
      "2      14.8859       9.85095        281            14.7  \n",
      "3      16.5998      11.53120        282            14.6  \n",
      "4      20.7747      12.19230        283            14.6  \n"
     ]
    },
    {
     "data": {
      "text/plain": [
       "<matplotlib.axes._subplots.AxesSubplot at 0x7fdfdaaeb320>"
      ]
     },
     "execution_count": 3,
     "metadata": {},
     "output_type": "execute_result"
    }
   ],
   "source": [
    "import pandas as pd   # imports the pandas library into our program\n",
    "\n",
    "# first, we read a dataset using pandas' read_excel() function.  \n",
    "df = pd.read_csv('StreamTemp.csv', parse_dates=['Date'])  \n",
    "\n",
    "# print the column labels and first few records\n",
    "print(df.columns.values)\n",
    "print(\"\")\n",
    "print(df.head())\n",
    "\n",
    "# plot some of the columns\n",
    "df.plot('Date',['MeanAirTempC','MaxStreamTempC'])\n",
    "df.plot.scatter('MeanAirTempC','MaxStreamTempC', c='DayOfYear', s=1, colormap='GnBu')"
   ]
  },
  {
   "cell_type": "markdown",
   "metadata": {},
   "source": [
    "### Some things to note about the program above\n",
    "\n",
    "1. The `import` statement load the **pandas** data analysis package into our program, which we can access through the `pd` name.\n",
    "2. `pandas` exposes many function for working with data - in this case, we take advantage of the `read_excel()` function that reads Excel spreadsheets.  There are many optional arguments to this function for handing special circumstance, but all we need to read our spreadsheet is the a filename referencing a local Excel file, and instruction to interpret the ***Date*** column as a `date` type defined by Python.  `pandas` can also load dataset from an internet location.  \n",
    "3. The `read_excel()` function returns a ***Dataframe*** object, which consists of rows and columns of data mirroring that in the Excel spreadsheet, alond with additional information like indexes, column labels, etc. We store this Dataframe in a variable `df`.\n",
    "4. `pandas` supports**plotting** the data as well, using the `matplotlib` plotting package underneath the hood.  We'll see lots of examples of `matplotlib` in action; it is a very powerful plotting package for 2-D and 3-D plotting. "
   ]
  },
  {
   "cell_type": "markdown",
   "metadata": {},
   "source": [
    "## A Typical Python Program\n",
    "\n",
    "The program below shows a typical Python program, and demonstrates features that are common to many programs.  It prints a table of temperture conversions between Celsius and Fahrenheit. "
   ]
  },
  {
   "cell_type": "code",
   "execution_count": 4,
   "metadata": {},
   "outputs": [
    {
     "name": "stdout",
     "output_type": "stream",
     "text": [
      "Fahrenheit | Celsius   \n",
      "-----------------------\n",
      "   0.0       -17.8\n",
      "   5.0       -15.0\n",
      "  10.0       -12.2\n",
      "  15.0        -9.4\n",
      "  20.0        -6.7\n",
      "  25.0        -3.9\n",
      "  30.0        -1.1\n",
      "  35.0         1.7\n",
      "  40.0         4.4\n",
      "  45.0         7.2\n",
      "  50.0        10.0\n",
      "  55.0        12.8\n",
      "  60.0        15.6\n",
      "  65.0        18.3\n",
      "  70.0        21.1\n",
      "  75.0        23.9\n",
      "  80.0        26.7\n",
      "  85.0        29.4\n",
      "  90.0        32.2\n",
      "  95.0        35.0\n",
      " 100.0        37.8\n",
      " 105.0        40.6\n",
      " 110.0        43.3\n",
      " 115.0        46.1\n",
      " 120.0        48.9\n"
     ]
    }
   ],
   "source": [
    "# This is a typical Python program.  We start with a \"comment\" - descriptive text that \n",
    "# is ignored by Python but allows one to document a program.  This text block is an \n",
    "# example of a comment.  Everything to the right of a '#' character is a comment\n",
    "\n",
    "import numpy as np   # this is an import statement.  It allows us to utilize prexisting \n",
    "                     # libraries of code (and associated functionality) in our programs.\n",
    "                     # In this case, we are importing the \"numpy\" library, whci provides \n",
    "                     # support for arrays, mathematical operations on arrays, and a lot more\n",
    "            \n",
    "            \n",
    "# Next, we define a function.  In this case, the function will convert Fahrenheit temperature\n",
    "# values to Celsius.  Functiosn start with the *def* keyword, may accept arguments (inputs),\n",
    "# and typical return the results of a calculation.  Zero or more variables may be returned\n",
    "# from a function.        \n",
    "def FtoC(FValues):\n",
    "    CValues = (FValues - 32) * 5.0/9.0\n",
    "    return CValues\n",
    "\n",
    "# Next, we define a \"main\" program.  In this program, we will:\n",
    "# 1) create an array of Fahrenheit temperatures between 0 and 120 in increments of 5,\n",
    "# 2) convert them to Celsius\n",
    "# 3) print the pairs of values to a table\n",
    "\n",
    "fvalues = np.arange(0,121,5)   # call a function to create an array of F temperature values between 0, 120\n",
    "cvalues = FtoC( fvalues )      # convert those values to celsius be calling our function\n",
    "\n",
    "# at this point, we have two arrays, one with fahrenheit values, one with celsius values.  Let's make a table\n",
    "# by printing these arrays to the console, using various formas of the \"print\" function.  We start with a \n",
    "# header, and then use a \"for\" loop to iterate through the two arrays, printing temperature pairs\n",
    "\n",
    "print( \"Fahrenheit | Celsius   \")\n",
    "print( \"-----------------------\")\n",
    "for i in range(0, len(fvalues)):\n",
    "    print(\"{:6.1f}      {:6.1f}\".format( fvalues[i], cvalues[i]))\n",
    "    \n",
    "# all done"
   ]
  },
  {
   "cell_type": "markdown",
   "metadata": {},
   "source": [
    "## Additional Python Programming Resources\n",
    "\n",
    "There are many excellent Python resources available online; below we provide links to several we have found to be particularly useful.\n",
    "\n",
    "1. "
   ]
  }
 ],
 "metadata": {
  "kernelspec": {
   "display_name": "Python 3",
   "language": "python",
   "name": "python3"
  },
  "language_info": {
   "codemirror_mode": {
    "name": "ipython",
    "version": 3
   },
   "file_extension": ".py",
   "mimetype": "text/x-python",
   "name": "python",
   "nbconvert_exporter": "python",
   "pygments_lexer": "ipython3",
   "version": "3.6.8"
  },
  "varInspector": {
   "cols": {
    "lenName": 16,
    "lenType": 16,
    "lenVar": 40
   },
   "kernels_config": {
    "python": {
     "delete_cmd_postfix": "",
     "delete_cmd_prefix": "del ",
     "library": "var_list.py",
     "varRefreshCmd": "print(var_dic_list())"
    },
    "r": {
     "delete_cmd_postfix": ") ",
     "delete_cmd_prefix": "rm(",
     "library": "var_list.r",
     "varRefreshCmd": "cat(var_dic_list()) "
    }
   },
   "types_to_exclude": [
    "module",
    "function",
    "builtin_function_or_method",
    "instance",
    "_Feature"
   ],
   "window_display": false
  }
 },
 "nbformat": 4,
 "nbformat_minor": 2
}
