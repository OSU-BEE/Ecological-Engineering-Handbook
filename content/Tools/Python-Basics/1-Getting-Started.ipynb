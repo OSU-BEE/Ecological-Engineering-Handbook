{
 "cells": [
  {
   "cell_type": "markdown",
   "metadata": {},
   "source": [
    "# Getting Started - Some Simple Programming Tasks\n",
    "\n",
    "Below, we explore some basic Python programs using concepts from this week's class.  These examples are inteded to demonstrate basic programming concepts, working with the Python development environment, and using variables in programs.  \n",
    "\n",
    "We also introduce `numpy` and `matplotlib`, two widely used Python packages. `numpy` provides a host of mathematical functions and array/matrix operations, and is used in most science and engineering applications written in Python.  Complete documentation for `numpy` is available at https://numpy.org/. `matplotlib` is a simple, yet powerful, plotting/charting package for visualizing data.  Complete documentation for `matplotlib` is available at https://matplotlib.org.  Both packages are open source and freely available.\n",
    "\n",
    "\n",
    "## Hello, World!\n",
    "\n",
    "Our first program is very simple, and involves printing the string *\"Hello World\"* to the Python console.\n",
    "\n",
    "Programming concepts demonstrated:\n",
    "1. Interacting with the Python environment\n",
    "2. using the \"string\" data type\n",
    "3. console output"
   ]
  },
  {
   "cell_type": "code",
   "execution_count": null,
   "metadata": {},
   "outputs": [],
   "source": [
    "print( \"Hello, World!\")"
   ]
  },
  {
   "cell_type": "markdown",
   "metadata": {},
   "source": [
    "\n",
    "## Compute the Trajectory of a Ball using the Laws of Motion\n",
    "\n",
    "This problem involves computing a vertacal position (height) of a thrown ball based on the laws of motion.  These laws are:\n",
    "\n",
    "$\\large h = h_0 + v_0 t - \\frac{1}{2} g t^2 $ \n",
    "\n",
    "$\\large v = v_0 - g t $ \n",
    "\n",
    "where:\n",
    "$ g = 9.8 \\frac{m}{s^2} $, the acceleration due to gravity.\n",
    "\n",
    "\n",
    "**We want to compute, for a given time t, the position and speed of the ball at that point in time.**  Assume the following intial conditions: \n",
    "\n",
    "$ h_0 = 1.2 m $\n",
    "$ v_0 = 5.4 m/s $\n",
    "\n",
    "Calculate your results for t = 0.5 seconds, and t=2 seconds. \n",
    "\n",
    "\n",
    "### The Strategy\n",
    "\n",
    "To compute this trajectory, we employ the following strategy:\n",
    "\n",
    "1. Define a function capturing the Laws of Motion above.  This function will take as input the following:\n",
    "    * a time variable (`t`) indicating the point in time to evaluate,\n",
    "    * the initial position (height) of the ball (`h0`) \n",
    "    * the initial velocity (in the vertical direction) of the ball (`v0`)\n",
    "    \n",
    "    The function should return the position and velocity for the given input above.\n",
    "\n",
    "2. Call this function to determine the position and velocities for the two times given above. \n",
    "\n",
    "3. Report the results.\n",
    "\n",
    "\n",
    "Note the use of **comments** to document your code - **any text to the right of a '#' symbol is considered a comment and is ignored by the Python interpreter**.  Use comments liberally throughout your program to indicate variable meanings, program logic, and other aspects of your program in \"human-friendly\", readable forms.  You will thank yourself when you look at your code a few weeks from now and have to remember what you did. \n",
    "\n",
    "For most engineering problems, units are critical to your calculations.  It is very helpful, and will save you a lot of headaches trying to debug faulty code, to indicate units associated with your variables and calculations in comments at the point of definition.\n",
    "\n",
    "**When printing your output, we use appropriate formatting!** e.g. for floating point (real) numbers, indicate a precision using string formatting, e.g. \n",
    "\n",
    "`print( \"My Output is: {}, {:.2f}\".format(someInteger, someRealNumber) )`"
   ]
  },
  {
   "cell_type": "code",
   "execution_count": 3,
   "metadata": {},
   "outputs": [
    {
     "name": "stdout",
     "output_type": "stream",
     "text": [
      "After 0.5 seconds,  Velocity=0.50m/s, Height=2.7m\n",
      "After 2 seconds,  Velocity=-14.20m/s, Height=-7.60m\n"
     ]
    }
   ],
   "source": [
    "# Program for calculating hieght and velocity of a ball thrown vertically in the air\n",
    "\n",
    "# first, define function that computes position, velocity\n",
    "# t = time to evaluate\n",
    "# h0 = initial height\n",
    "# v0 = initial vertical velocity\n",
    "def LawOfMotion(t,h0,v0):\n",
    "    g = 9.8    # m/s/s\n",
    "    # calculate height\n",
    "    h = h0 + (v0*time) - 0.5*g*time**2 # m\n",
    "    # calculate velocity\n",
    "    v = v0 - g*time                    # m/s\n",
    "    return h,v    # return both h and v to the caller\n",
    "    \n",
    "    \n",
    "# ----- main program -----\n",
    "    \n",
    "# define initial conditions, constants\n",
    "h0 = 1.2   # meters\n",
    "v0 = 5.4   # m/s\n",
    "time = 0.5   # second\n",
    "h,v = LawOfMotion(time,h0,v0) \n",
    "print ( \"After {} seconds,  Velocity={:.2f}m/s, Height={:.2}m\".format( time, v, h))\n",
    "\n",
    "# repeat, getting values after two seconds\n",
    "time = 2\n",
    "h,v = LawOfMotion(time,h0,v0) \n",
    "print ( \"After {} seconds,  Velocity={:.2f}m/s, Height={:.2f}m\".format( time, v, h))"
   ]
  },
  {
   "cell_type": "markdown",
   "metadata": {},
   "source": [
    "## Using Numpy and Matplotlib\n",
    "\n",
    "The next program evaluates a complex mathematical function for multiple input values.  We employ `numpy` for two reasons: 1) t make an array of input values, and 2) to use `numpy`s `sqrt()` function, which *accepts both a single value and arrays of input values* when evaluating a mathematival function.  When we pass an single input value, we get a single result; when we provide an array of input values, `numpy`s math function will return a corresponding array of results.  This powerful capability allows us to write short programs that compute entire arrays of results.\n",
    "\n",
    "The mathematical function we want to evaluate is:\n",
    "\n",
    "$ V = V_0 \\left(1-\\large \\frac{z}{\\sqrt{a^2+z^2}}\\right) $\n",
    "\n",
    "for:\n",
    "\n",
    "$ V_0 = 10 $\n",
    "\n",
    "$ a = 2.5$\n",
    "\n",
    "We want to evaluate this function for z in the range [0,5].  We also want to see a plot of this function over the specified range.\n",
    "\n",
    "### The Strategy\n",
    "\n",
    "1. Create a set of input values for **z**.\n",
    "2. Using this input array, calculate the corresponding function values, remebering the resulting array\n",
    "3. Plot the results vs. our input (**z**) values"
   ]
  },
  {
   "cell_type": "code",
   "execution_count": 8,
   "metadata": {},
   "outputs": [
    {
     "data": {
      "image/png": "[encoded data removed]",
      "text/plain": [
       "<Figure size 432x288 with 1 Axes>"
      ]
     },
     "metadata": {
      "needs_background": "light"
     },
     "output_type": "display_data"
    }
   ],
   "source": [
    "import numpy as np # np is an 'alias' for numpy\n",
    "import matplotlib.pyplot as plt # plt is an 'alias' for numpy\n",
    "\n",
    "# use numpy to create a range of z values, starting at \n",
    "z = np.arange(0,5.01,0.1)  # array starts at zero, goes up to (but not including) 5.01, so last value is 5.0 \n",
    "\n",
    "# declare additional input variables\n",
    "v0 = 10\n",
    "a = 2.5\n",
    "\n",
    "# solve function (note that since 'z' is an array, an array of results 'v' is returned\n",
    "v = v0*(1-(z/((a**2 + z**2)**0.5)))\n",
    "\n",
    "plt.plot(z,v)    # add a trace to the plot\n",
    "plt.xlabel('z')  # set x and y labels\n",
    "plt.ylabel('v')\n",
    "plt.title(\"Function Plot\")\n",
    "plt.show()       # show the plot\n"
   ]
  },
  {
   "cell_type": "markdown",
   "metadata": {},
   "source": [
    "## Next - Data Types, builting functions, more numpy arrays, and slicing"
   ]
  },
  {
   "cell_type": "code",
   "execution_count": null,
   "metadata": {},
   "outputs": [],
   "source": []
  }
 ],
 "metadata": {
  "anaconda-cloud": {},
  "kernelspec": {
   "display_name": "Python 3",
   "language": "python",
   "name": "python3"
  },
  "language_info": {
   "codemirror_mode": {
    "name": "ipython",
    "version": 3
   },
   "file_extension": ".py",
   "mimetype": "text/x-python",
   "name": "python",
   "nbconvert_exporter": "python",
   "pygments_lexer": "ipython3",
   "version": "3.6.8"
  },
  "varInspector": {
   "cols": {
    "lenName": 16,
    "lenType": 16,
    "lenVar": 40
   },
   "kernels_config": {
    "python": {
     "delete_cmd_postfix": "",
     "delete_cmd_prefix": "del ",
     "library": "var_list.py",
     "varRefreshCmd": "print(var_dic_list())"
    },
    "r": {
     "delete_cmd_postfix": ") ",
     "delete_cmd_prefix": "rm(",
     "library": "var_list.r",
     "varRefreshCmd": "cat(var_dic_list()) "
    }
   },
   "types_to_exclude": [
    "module",
    "function",
    "builtin_function_or_method",
    "instance",
    "_Feature"
   ],
   "window_display": false
  }
 },
 "nbformat": 4,
 "nbformat_minor": 1
}
