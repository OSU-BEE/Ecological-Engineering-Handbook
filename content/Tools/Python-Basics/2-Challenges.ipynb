{
 "cells": [
  {
   "cell_type": "markdown",
   "metadata": {},
   "source": [
    "## Arrays\n",
    "\n",
    "**Create a array of all numbers between 0 and 99, inclusive. Calculate the min, max, sum and average of array, and print the results to the console.**   "
   ]
  },
  {
   "cell_type": "code",
   "execution_count": null,
   "metadata": {},
   "outputs": [],
   "source": [
    "import numpy as np\n",
    "\n",
    "a = np.arange(0, 100)\n",
    "\n",
    "print( \"Min: \", a.min())\n",
    "print( \"Max: \", a.max())\n",
    "print( \"Sum: \", a.sum())\n",
    "print( \"Avg: \", a.mean())"
   ]
  },
  {
   "cell_type": "markdown",
   "metadata": {},
   "source": [
    "**Create a array of all EVEN numbers between 2 and 98, inclusive. Calculate the min, max, sum and average of SQUARES of the values in the array, and print the results to the console.** "
   ]
  },
  {
   "cell_type": "code",
   "execution_count": null,
   "metadata": {},
   "outputs": [],
   "source": [
    "import numpy as np\n",
    "\n",
    "a = np.arange(2,99,2)\n",
    "a = a*a\n",
    "print( \"Min: \", a.min())\n",
    "print( \"Max: \", a.max())\n",
    "print( \"Sum: \", a.sum())\n",
    "print( \"Avg: \", a.mean())"
   ]
  },
  {
   "cell_type": "markdown",
   "metadata": {},
   "source": [
    "**Create an array of the first 20 integers (1-20).  Calculate the natural logarithm of the sum of the cube of each element. **\n"
   ]
  },
  {
   "cell_type": "code",
   "execution_count": 2,
   "metadata": {},
   "outputs": [
    {
     "name": "stdout",
     "output_type": "stream",
     "text": [
      "Logarithm is: 10.694215\n"
     ]
    }
   ],
   "source": [
    "import numpy as np\n",
    "\n",
    "a = np.arange(1,21,1)\n",
    "\n",
    "acubed = a*a*a\n",
    "asum = np.sum(acubed)\n",
    "\n",
    "result = np.log(asum)\n",
    "\n",
    "print( \"Logarithm is: {:2f}\".format(result))\n"
   ]
  },
  {
   "cell_type": "markdown",
   "metadata": {},
   "source": [
    "** Compute simple interest rate based on principla amount, rate, and time**  Note that interest = principle \\* rate \\* time / 100.  Collecct input interactively, and print the result to the console."
   ]
  },
  {
   "cell_type": "code",
   "execution_count": null,
   "metadata": {},
   "outputs": [],
   "source": [
    "\n",
    "principle=float(input(\"Enter the principle amount:\"))\n",
    "time=int(input(\"Enter the time(years):\"))\n",
    "rate=float(input(\"Enter the rate:\"))\n",
    "simple_interest=(principle*time*rate)/100\n",
    "print(\"The simple interest is:\",simple_interest)"
   ]
  }
 ],
 "metadata": {
  "kernelspec": {
   "display_name": "Python 3",
   "language": "python",
   "name": "python3"
  },
  "language_info": {
   "codemirror_mode": {
    "name": "ipython",
    "version": 3
   },
   "file_extension": ".py",
   "mimetype": "text/x-python",
   "name": "python",
   "nbconvert_exporter": "python",
   "pygments_lexer": "ipython3",
   "version": "3.5.2"
  }
 },
 "nbformat": 4,
 "nbformat_minor": 2
}
