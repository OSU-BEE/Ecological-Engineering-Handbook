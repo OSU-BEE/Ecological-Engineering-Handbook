{
 "cells": [
  {
   "cell_type": "markdown",
   "metadata": {},
   "source": [
    "### Write a program to detemine all the factors of 320"
   ]
  },
  {
   "cell_type": "code",
   "execution_count": 10,
   "metadata": {},
   "outputs": [
    {
     "name": "stdout",
     "output_type": "stream",
     "text": [
      "The factors of 320 are:\n",
      "1\n",
      "2\n",
      "4\n",
      "5\n",
      "8\n",
      "10\n",
      "16\n",
      "20\n",
      "32\n",
      "40\n",
      "64\n",
      "80\n",
      "160\n",
      "320\n"
     ]
    }
   ],
   "source": [
    "# define a function\n",
    "\n",
    "n = 320\n",
    "\n",
    "print(\"The factors of\",n,\"are:\")\n",
    "for i in range(1, n + 1):\n",
    "    if n % i == 0:\n",
    "        print(i)\n"
   ]
  },
  {
   "cell_type": "markdown",
   "metadata": {},
   "source": [
    "### Write a program to print the first 10 terms of the fibonnacci sequence"
   ]
  },
  {
   "cell_type": "code",
   "execution_count": 13,
   "metadata": {},
   "outputs": [
    {
     "name": "stdout",
     "output_type": "stream",
     "text": [
      "Fibonnacci Sequence: Term 1=1\n",
      "Fibonnacci Sequence: Term 2=2\n",
      "Fibonnacci Sequence: Term 3=3\n",
      "Fibonnacci Sequence: Term 4=5\n",
      "Fibonnacci Sequence: Term 5=8\n",
      "Fibonnacci Sequence: Term 6=13\n",
      "Fibonnacci Sequence: Term 7=21\n",
      "Fibonnacci Sequence: Term 8=34\n",
      "Fibonnacci Sequence: Term 9=55\n"
     ]
    }
   ],
   "source": [
    "# first two terms\n",
    "nterms = 10\n",
    "\n",
    "n1 = 0\n",
    "n2 = 1\n",
    "count = 1\n",
    "\n",
    "# check if the number of terms is valid\n",
    "\n",
    "while count < nterms:\n",
    "    nth = n1 + n2\n",
    "    # update values\n",
    "    n1 = n2\n",
    "    n2 = nth\n",
    "    print( \"Fibonnacci Sequence: Term {}={}\".format(count, nth))\n",
    "    count += 1\n",
    "    \n"
   ]
  },
  {
   "cell_type": "markdown",
   "metadata": {},
   "source": [
    "### Generate a plot of of the fibonnacci sequence function on the interval [0,20] "
   ]
  },
  {
   "cell_type": "code",
   "execution_count": 14,
   "metadata": {},
   "outputs": [
    {
     "name": "stdout",
     "output_type": "stream",
     "text": [
      "Fibonnacci Sequence: Term 1=1\n",
      "Fibonnacci Sequence: Term 2=2\n",
      "Fibonnacci Sequence: Term 3=3\n",
      "Fibonnacci Sequence: Term 4=5\n",
      "Fibonnacci Sequence: Term 5=8\n",
      "Fibonnacci Sequence: Term 6=13\n",
      "Fibonnacci Sequence: Term 7=21\n",
      "Fibonnacci Sequence: Term 8=34\n",
      "Fibonnacci Sequence: Term 9=55\n",
      "Fibonnacci Sequence: Term 10=89\n",
      "Fibonnacci Sequence: Term 11=144\n",
      "Fibonnacci Sequence: Term 12=233\n",
      "Fibonnacci Sequence: Term 13=377\n",
      "Fibonnacci Sequence: Term 14=610\n",
      "Fibonnacci Sequence: Term 15=987\n",
      "Fibonnacci Sequence: Term 16=1597\n",
      "Fibonnacci Sequence: Term 17=2584\n",
      "Fibonnacci Sequence: Term 18=4181\n",
      "Fibonnacci Sequence: Term 19=6765\n"
     ]
    },
    {
     "data": {
      "image/png": "[encoded data removed]",
      "text/plain": [
       "<matplotlib.figure.Figure at 0x7f9e07c99c88>"
      ]
     },
     "metadata": {},
     "output_type": "display_data"
    }
   ],
   "source": [
    "import matplotlib.pyplot as plt\n",
    "import numpy as np\n",
    "\n",
    "\n",
    "# first two terms\n",
    "nterms = 20\n",
    "\n",
    "n1 = 0\n",
    "n2 = 1\n",
    "count = 1\n",
    "\n",
    "# check if the number of terms is valid\n",
    "\n",
    "x = np.zeros(nterms)\n",
    "y = np.zeros(nterms)\n",
    "\n",
    "while count < nterms:\n",
    "    nth = n1 + n2\n",
    "    # update values\n",
    "    n1 = n2\n",
    "    n2 = nth\n",
    "    x[count] = count;\n",
    "    y[count] = nth\n",
    "    print( \"Fibonnacci Sequence: Term {}={}\".format(count, nth))\n",
    "    count += 1\n",
    "    \n",
    "    \n",
    "plt.plot(x,y)\n",
    "plt.show()"
   ]
  },
  {
   "cell_type": "code",
   "execution_count": 9,
   "metadata": {},
   "outputs": [
    {
     "ename": "AttributeError",
     "evalue": "'numpy.ndarray' object has no attribute 'remove'",
     "output_type": "error",
     "traceback": [
      "\u001b[0;31m---------------------------------------------------------------------------\u001b[0m",
      "\u001b[0;31mAttributeError\u001b[0m                            Traceback (most recent call last)",
      "\u001b[0;32m<ipython-input-9-94ef9b6fa199>\u001b[0m in \u001b[0;36m<module>\u001b[0;34m()\u001b[0m\n\u001b[1;32m     14\u001b[0m             \u001b[0mmax1\u001b[0m \u001b[0;34m=\u001b[0m \u001b[0ma\u001b[0m\u001b[0;34m[\u001b[0m\u001b[0mj\u001b[0m\u001b[0;34m]\u001b[0m\u001b[0;34m;\u001b[0m\u001b[0;34m\u001b[0m\u001b[0m\n\u001b[1;32m     15\u001b[0m \u001b[0;34m\u001b[0m\u001b[0m\n\u001b[0;32m---> 16\u001b[0;31m     \u001b[0ma\u001b[0m\u001b[0;34m.\u001b[0m\u001b[0mremove\u001b[0m\u001b[0;34m(\u001b[0m\u001b[0mmax1\u001b[0m\u001b[0;34m)\u001b[0m\u001b[0;34m;\u001b[0m\u001b[0;34m\u001b[0m\u001b[0m\n\u001b[0m\u001b[1;32m     17\u001b[0m     \u001b[0mfinal_list\u001b[0m\u001b[0;34m.\u001b[0m\u001b[0mappend\u001b[0m\u001b[0;34m(\u001b[0m\u001b[0mmax1\u001b[0m\u001b[0;34m)\u001b[0m\u001b[0;34m\u001b[0m\u001b[0m\n\u001b[1;32m     18\u001b[0m \u001b[0;34m\u001b[0m\u001b[0m\n",
      "\u001b[0;31mAttributeError\u001b[0m: 'numpy.ndarray' object has no attribute 'remove'"
     ]
    }
   ],
   "source": [
    "import numpy as np\n",
    "\n",
    "a = np.ones( 20 )\n",
    "a = a * 20*np.random.rand()\n",
    "\n",
    "\n",
    "final_list = [] \n",
    "  \n",
    "for i in range(0, 20):  \n",
    "    max1 = 0\n",
    "          \n",
    "    for j in range(len(a)):      \n",
    "        if a[j] > max1: \n",
    "            max1 = a[j]; \n",
    "                  \n",
    "    a.remove(max1); \n",
    "    final_list.append(max1) \n",
    "          \n",
    "print(final_list)"
   ]
  },
  {
   "cell_type": "code",
   "execution_count": null,
   "metadata": {},
   "outputs": [],
   "source": []
  }
 ],
 "metadata": {
  "kernelspec": {
   "display_name": "Python 3",
   "language": "python",
   "name": "python3"
  },
  "language_info": {
   "codemirror_mode": {
    "name": "ipython",
    "version": 3
   },
   "file_extension": ".py",
   "mimetype": "text/x-python",
   "name": "python",
   "nbconvert_exporter": "python",
   "pygments_lexer": "ipython3",
   "version": "3.5.2"
  }
 },
 "nbformat": 4,
 "nbformat_minor": 2
}
