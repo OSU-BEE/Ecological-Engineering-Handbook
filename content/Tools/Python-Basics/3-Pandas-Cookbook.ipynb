{
 "cells": [
  {
   "cell_type": "markdown",
   "metadata": {},
   "source": [
    "# Pandas Cookbook\n",
    "\n",
    "`Pandas` is a Python package with extensive data management and analysis functionality.  In this section, we will review a handful of practical techniques for taking advantage of `Pandas` capabilities. This is not intended to be an exhaustive review of `Pandas`; rather, we focus instead on using `Pandas` to perform common data management and analysis tasks. There are excellent resources on `pandas` online, starting with the official site, https://pandas.pydata.org.  An [excellent 10-minute tutorial](https://pandas.pydata.org/pandas-docs/stable/getting_started/10min.html) for `pandas` beginners is also available online.\n",
    "\n",
    "Central to `Pandas` is the `DataFrame` object, which holds rectangular collections of data (rows and columns - think of an Excel spreadsheet).  It is a table of data, and `Pandas` provides a number of methods and objects for manipulating and analyzing this data.\n",
    "\n",
    "In this cookbook, we focus on providing recipes for the following common `pandas` tasks:\n",
    "\n",
    "1. Reading and writing data from a CSV or Excel file.\n",
    "2. Creating a Pandas dataframe from data\n",
    "3. Extracting rows, columns of data from a Dataframe\n",
    "4. Filtering Datasets with a Query\n",
    "5. Sorting Data in a Dataframe"
   ]
  },
  {
   "cell_type": "markdown",
   "metadata": {},
   "source": [
    "## Reading/writing data from/to a file\n",
    "\n",
    "Pandas provides a set of high-level functions for reading and writing data files in several common formats, perhaps most helpfully, CSV (comma-separated values) and Microsoft Excel files.  In all of the cases below, data is read into a `DataFrame` object, rows and columns of data, including labels.  The `DataFrame` object exposes a number of methods we will take advange of below, but let's start with getting a `DataFrame` filled with data from a file.\n",
    "\n",
    "The `read_csv` and `read_excel` functions used below have many additional options - see the documents at:\n",
    "\n",
    "* [`read_csv()`documentation](https://pandas.pydata.org/pandas-docs/stable/reference/api/pandas.read_csv.html)\n",
    "* [`read_excel()`documentation](https://pandas.pydata.org/pandas-docs/stable/reference/api/pandas.read_excel.html)"
   ]
  },
  {
   "cell_type": "code",
   "execution_count": 1,
   "metadata": {
    "cell_style": "center"
   },
   "outputs": [
    {
     "name": "stdout",
     "output_type": "stream",
     "text": [
      "   StationID       Date  Latitude  Longitude  StreamDischarge_cfs  MeanAirTemp_C  MaxStreamTemp_C\n",
      "0   14166000 2000-10-05   44.2704  236.82629                 6480       11.71220             14.4\n",
      "1   14166000 2000-10-06   44.2704  236.82629                 6390        9.79153             14.6\n",
      "2   14166000 2000-10-07   44.2704  236.82629                 6450        9.85095             14.7\n",
      "3   14166000 2000-10-08   44.2704  236.82629                 6430       11.53120             14.6\n",
      "4   14166000 2000-10-09   44.2704  236.82629                 6630       12.19230             14.6\n"
     ]
    }
   ],
   "source": [
    "import pandas as pd\n",
    "\n",
    "# read a local CSV file\n",
    "#df = pd.read_csv( '/somepath/somefile.csv' )\n",
    "\n",
    "# read from a web url\n",
    "#df = pd.read_csv( \"http://somewhere.com/somedataset.csv\")\n",
    "\n",
    "# some options - change field delimiter\n",
    "#              - skip top two rows before reading header, data\n",
    "#              - only get columns 0, 3 and 4\n",
    "#df = pd.read_csv( '/somepath/somefile.txt', sep=' ', skiprows=2, usecols=(0,3,4))\n",
    "\n",
    "# some more options - interpret'Date\" field as 'date' type\n",
    "#              - tell it that our dates have the date first instead of the month first\n",
    "#              - set the index to be the 'Date' column\n",
    "#df = pd.read_csv( '/somepath/somefile.txt', parse_dates=['Date'], dayfirst=True, index_col='Date' )\n",
    "\n",
    "# using excel instead csv/text file\n",
    "#df = pd.read_excel( '/somepath/somefile.xlsx')   # all the option above apply here as well\n",
    "df = pd.read_excel( \"http://explorer.bee.oregonstate.edu/Topic/Modeling/data/PandasExample.xlsx\")   # from a web address\n",
    "print(df)\n",
    "\n",
    "# ---- Saving data ----\n",
    "\n",
    "# save as CSV (see docs for options)\n",
    "#df.to_csv('somefile.csv')\n",
    "\n",
    "# save as Excel (see docs for options)\n",
    "#df.to_excel('somefile.xlsx')"
   ]
  },
  {
   "cell_type": "markdown",
   "metadata": {},
   "source": [
    "## Creating a `DataFrame` from arrays of data\n"
   ]
  },
  {
   "cell_type": "code",
   "execution_count": 2,
   "metadata": {},
   "outputs": [
    {
     "name": "stdout",
     "output_type": "stream",
     "text": [
      "Zipped list:  [(2010, 1.455), (2011, 2.433), (2012, 1.665), (2013, 4.344), (2014, 5.1243)]\n",
      "\n",
      "DataFrame:\n",
      "   Years  Fire Area\n",
      "0   2010     1.4550\n",
      "1   2011     2.4330\n",
      "2   2012     1.6650\n",
      "3   2013     4.3440\n",
      "4   2014     5.1243\n"
     ]
    }
   ],
   "source": [
    "import pandas as pd\n",
    "\n",
    "years = [2010,2011,2012,2013,2014]\n",
    "fireArea = [1.455,2.433,1.665,4.344,5.1243]\n",
    "\n",
    "# merge the two lists into pairs of data\n",
    "dataset = list(zip(years,fireArea))\n",
    "print('Zipped list: ', dataset)\n",
    "\n",
    "df = pd.DataFrame(data=dataset, columns=['Years','Fire Area'])\n",
    "print( '\\nDataFrame:')\n",
    "print(df)\n",
    "# save as a csv file.  See docs for options \n",
    "#df.to_csv('somefilename.csv')  "
   ]
  },
  {
   "cell_type": "markdown",
   "metadata": {},
   "source": [
    "## Getting Columns of Data from a `DataFrame`\n",
    "We can extract a column of data from a dataframe using the column label as a dictionary key (using bracket ([]) notation, returning a column of data (along with an index, of one exists for the `DataFrame`). The data is return into a pandas `Series` object, which is basically a wrapper around a numpy `array`.  "
   ]
  },
  {
   "cell_type": "code",
   "execution_count": 4,
   "metadata": {},
   "outputs": [
    {
     "data": {
      "text/plain": [
       "<matplotlib.axes._subplots.AxesSubplot at 0x7fb23e4114e0>"
      ]
     },
     "execution_count": 4,
     "metadata": {},
     "output_type": "execute_result"
    },
    {
     "data": {
      "image/png": "[encoded data removed]",
      "text/plain": [
       "<matplotlib.figure.Figure at 0x7fb23e411978>"
      ]
     },
     "metadata": {},
     "output_type": "display_data"
    }
   ],
   "source": [
    "import pandas as pd\n",
    "\n",
    "# get some data\n",
    "df = pd.read_excel( \"http://explorer.bee.oregonstate.edu/Topic/Modeling/data/PandasExample.xlsx\", parse_dates=['Date'], index_col='Date')   # from a web address\n",
    "\n",
    "stationIDs = df['StationID']\n",
    "discharges = df['StreamDischarge_cfs']\n",
    "\n",
    "# get the underlying numpy array\n",
    "d_array = discharges.values\n",
    "\n",
    "# we can also plot the data!  Note that the x axis takes advantage of the index we specified above.\n",
    "discharges.plot()"
   ]
  },
  {
   "cell_type": "markdown",
   "metadata": {},
   "source": [
    "## Examining `DataFrame` objects and extracting rows, columns of data  \n"
   ]
  },
  {
   "cell_type": "code",
   "execution_count": 19,
   "metadata": {},
   "outputs": [
    {
     "name": "stdout",
     "output_type": "stream",
     "text": [
      "Column names\n",
      "Index(['StationID', 'Latitude', 'Longitude', 'StreamDischarge_cfs',\n",
      "       'MeanAirTemp_C', 'MaxStreamTemp_C'],\n",
      "      dtype='object')\n",
      "\n",
      "First few rows\n",
      "            StationID  Latitude  Longitude  StreamDischarge_cfs  MeanAirTemp_C  MaxStreamTemp_C\n",
      "Date                                                                                           \n",
      "2000-10-05   14166000   44.2704  236.82629                 6480       11.71220             14.4\n",
      "2000-10-06   14166000   44.2704  236.82629                 6390        9.79153             14.6\n",
      "2000-10-07   14166000   44.2704  236.82629                 6450        9.85095             14.7\n",
      "\n",
      "First few rows of \"StationID\"\n",
      "Date\n",
      "2000-10-05    14166000\n",
      "2000-10-06    14166000\n",
      "2000-10-07    14166000\n",
      "\n",
      "Multiple columns\n",
      "            StationID  StreamDischarge_cfs\n",
      "Date                                      \n",
      "2000-10-05   14166000                 6480\n",
      "2000-10-06   14166000                 6390\n",
      "2000-10-07   14166000                 6450\n"
     ]
    },
    {
     "data": {
      "text/plain": [
       "<matplotlib.axes._subplots.AxesSubplot at 0x7f69c8a275f8>"
      ]
     },
     "execution_count": 19,
     "metadata": {},
     "output_type": "execute_result"
    },
    {
     "data": {
      "image/png": "[encoded data removed]",
      "text/plain": [
       "<matplotlib.figure.Figure at 0x7f69c89d8828>"
      ]
     },
     "metadata": {},
     "output_type": "display_data"
    }
   ],
   "source": [
    "import pandas as pd\n",
    "\n",
    "# get some data\n",
    "df = pd.read_excel( \"http://explorer.bee.oregonstate.edu/Topic/Modeling/data/PandasExample.xlsx\",\n",
    "                   parse_dates=['Date'], index_col='Date')   # from a web address\n",
    "\n",
    "# print column names\n",
    "print( \"Column names\")\n",
    "print( df.columns)\n",
    "\n",
    "# print the first few rows (using slicing)\n",
    "print('\\nFirst few rows')\n",
    "print( df[:3].to_string() )\n",
    "\n",
    "# print first few rows of a given column \n",
    "print('\\nFirst few rows of \"StationID\"')\n",
    "print( df['StationID'][:3].to_string() )\n",
    "\n",
    "# get multiple columns.  NOTE the columns names are in a list inside the indexer []s\n",
    "print('\\nMultiple columns')\n",
    "print( df[['StationID','StreamDischarge_cfs']][:3].to_string() )\n",
    "\n",
    "# and a bar chart!\n",
    "df['StreamDischarge_cfs'].plot(kind='bar')\n"
   ]
  },
  {
   "cell_type": "markdown",
   "metadata": {},
   "source": [
    "## Filtering rows in a Dataframe (using `.query()`)"
   ]
  },
  {
   "cell_type": "code",
   "execution_count": 23,
   "metadata": {},
   "outputs": [
    {
     "name": "stdout",
     "output_type": "stream",
     "text": [
      "\n",
      "\n",
      "-- Full DataFrame  ------------------------------------\n",
      "\n",
      "            StationID  Latitude  Longitude  StreamDischarge_cfs  MeanAirTemp_C  MaxStreamTemp_C\n",
      "Date                                                                                           \n",
      "2000-10-05   14166000   44.2704  236.82629                 6480       11.71220             14.4\n",
      "2000-10-06   14166000   44.2704  236.82629                 6390        9.79153             14.6\n",
      "2000-10-07   14166000   44.2704  236.82629                 6450        9.85095             14.7\n",
      "2000-10-08   14166000   44.2704  236.82629                 6430       11.53120             14.6\n",
      "2000-10-09   14166000   44.2704  236.82629                 6630       12.19230             14.6\n",
      "\n",
      "\n",
      "-- Filtered (MeanAirTemp>10) --------------------------\n",
      "\n",
      "            StationID  Latitude  Longitude  StreamDischarge_cfs  MeanAirTemp_C  MaxStreamTemp_C\n",
      "Date                                                                                           \n",
      "2000-10-05   14166000   44.2704  236.82629                 6480        11.7122             14.4\n",
      "2000-10-08   14166000   44.2704  236.82629                 6430        11.5312             14.6\n",
      "2000-10-09   14166000   44.2704  236.82629                 6630        12.1923             14.6\n",
      "\n",
      "\n",
      "-- Filtered (MeanAirTemp>10 and MaxStreamTemp>14.5) ---\n",
      "\n",
      "            StationID  Latitude  Longitude  StreamDischarge_cfs  MeanAirTemp_C  MaxStreamTemp_C\n",
      "Date                                                                                           \n",
      "2000-10-08   14166000   44.2704  236.82629                 6430        11.5312             14.6\n",
      "2000-10-09   14166000   44.2704  236.82629                 6630        12.1923             14.6\n",
      "\n",
      "\n",
      "-- Filtered (MeanAirTemp>10 and MaxStreamTemp<14.5) ---\n",
      "\n",
      "            StationID  Latitude  Longitude  StreamDischarge_cfs  MeanAirTemp_C  MaxStreamTemp_C\n",
      "Date                                                                                           \n",
      "2000-10-05   14166000   44.2704  236.82629                 6480        11.7122             14.4\n"
     ]
    }
   ],
   "source": [
    "import pandas as pd\n",
    "\n",
    "# get some data\n",
    "df = pd.read_excel( \"http://explorer.bee.oregonstate.edu/Topic/Modeling/data/PandasExample.xlsx\",\n",
    "                   parse_dates=['Date'], index_col='Date')   # from a web address\n",
    "\n",
    "# print the full dataframe\n",
    "print(\"\\n\\n-- Full DataFrame  ------------------------------------\\n\")\n",
    "print(df.to_string())\n",
    "\n",
    "# filter to only queries that have MeanAirTemps greater than 10C\n",
    "print(\"\\n\\n-- Filtered (MeanAirTemp>10) --------------------------\\n\")\n",
    "print(df.query('MeanAirTemp_C > 10').to_string())\n",
    "               \n",
    "# the next example show \"chained\" query statements\n",
    "print(\"\\n\\n-- Filtered (MeanAirTemp>10 and MaxStreamTemp>14.5) ---\\n\")\n",
    "df1 = df.query('MeanAirTemp_C > 10').query('MaxStreamTemp_C > 14.5')\n",
    "print( df1.to_string())\n",
    "\n",
    "# the next example shows usage of pandas boolean operators in the query string  \n",
    "print(\"\\n\\n-- Filtered (MeanAirTemp>10 and MaxStreamTemp<14.5) ---\\n\")\n",
    "df2 = df.query('MeanAirTemp_C > 10 & MaxStreamTemp_C < 14.5')\n",
    "print(df2.to_string())"
   ]
  },
  {
   "cell_type": "markdown",
   "metadata": {},
   "source": [
    "##  Sorting Dataframes (using `.sort()`)"
   ]
  },
  {
   "cell_type": "code",
   "execution_count": 24,
   "metadata": {},
   "outputs": [
    {
     "name": "stdout",
     "output_type": "stream",
     "text": [
      "\n",
      "\n",
      "-- Full DataFrame  ------------------------------------\n",
      "\n",
      "            StationID  Latitude  Longitude  StreamDischarge_cfs  MeanAirTemp_C  MaxStreamTemp_C\n",
      "Date                                                                                           \n",
      "2000-10-05   14166000   44.2704  236.82629                 6480       11.71220             14.4\n",
      "2000-10-06   14166000   44.2704  236.82629                 6390        9.79153             14.6\n",
      "2000-10-07   14166000   44.2704  236.82629                 6450        9.85095             14.7\n",
      "2000-10-08   14166000   44.2704  236.82629                 6430       11.53120             14.6\n",
      "2000-10-09   14166000   44.2704  236.82629                 6630       12.19230             14.6\n",
      "\n",
      "\n",
      "-- Sorted by Stream Discharge --------------------------\n",
      "\n",
      "            StationID  Latitude  Longitude  StreamDischarge_cfs  MeanAirTemp_C  MaxStreamTemp_C\n",
      "Date                                                                                           \n",
      "2000-10-06   14166000   44.2704  236.82629                 6390        9.79153             14.6\n",
      "2000-10-08   14166000   44.2704  236.82629                 6430       11.53120             14.6\n",
      "2000-10-07   14166000   44.2704  236.82629                 6450        9.85095             14.7\n",
      "2000-10-05   14166000   44.2704  236.82629                 6480       11.71220             14.4\n",
      "2000-10-09   14166000   44.2704  236.82629                 6630       12.19230             14.6\n"
     ]
    }
   ],
   "source": [
    "import pandas as pd\n",
    "\n",
    "# get some data\n",
    "df = pd.read_excel( \"http://explorer.bee.oregonstate.edu/Topic/Modeling/data/PandasExample.xlsx\",\n",
    "                   parse_dates=['Date'], index_col='Date')   # from a web address\n",
    "\n",
    "# print the full dataframe\n",
    "print(\"\\n\\n-- Full DataFrame  ------------------------------------\\n\")\n",
    "print(df.to_string())\n",
    "\n",
    "# sort based on stream discharge\n",
    "dfSorted = df.sort_values(by=['StreamDischarge_cfs'],ascending=True)\n",
    "print(\"\\n\\n-- Sorted by Stream Discharge --------------------------\\n\")\n",
    "print(dfSorted.to_string())\n"
   ]
  },
  {
   "cell_type": "code",
   "execution_count": null,
   "metadata": {},
   "outputs": [],
   "source": []
  }
 ],
 "metadata": {
  "kernelspec": {
   "display_name": "Python 3",
   "language": "python",
   "name": "python3"
  },
  "language_info": {
   "codemirror_mode": {
    "name": "ipython",
    "version": 3
   },
   "file_extension": ".py",
   "mimetype": "text/x-python",
   "name": "python",
   "nbconvert_exporter": "python",
   "pygments_lexer": "ipython3",
   "version": "3.6.8"
  },
  "varInspector": {
   "cols": {
    "lenName": 16,
    "lenType": 16,
    "lenVar": 40
   },
   "kernels_config": {
    "python": {
     "delete_cmd_postfix": "",
     "delete_cmd_prefix": "del ",
     "library": "var_list.py",
     "varRefreshCmd": "print(var_dic_list())"
    },
    "r": {
     "delete_cmd_postfix": ") ",
     "delete_cmd_prefix": "rm(",
     "library": "var_list.r",
     "varRefreshCmd": "cat(var_dic_list()) "
    }
   },
   "types_to_exclude": [
    "module",
    "function",
    "builtin_function_or_method",
    "instance",
    "_Feature"
   ],
   "window_display": false
  }
 },
 "nbformat": 4,
 "nbformat_minor": 2
}
