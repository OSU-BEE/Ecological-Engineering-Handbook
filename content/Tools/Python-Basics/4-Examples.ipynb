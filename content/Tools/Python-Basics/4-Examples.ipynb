{
 "cells": [
  {
   "cell_type": "markdown",
   "metadata": {},
   "source": [
    "# Example Programs - Week 4 (Functions and a little Pandas)\n",
    "\n",
    "Below, we explore some basic Python programs using concepts from this week's class.  These examples are intended to demonstrate defining and using functions in your programs.  Functions provide a way to modularize your program, making reuseable functionality available to your program and simplifying program code.  Additionally, we introduce Pandas, a powerful Python library for reading, writing, manipulating, and analyzing data.\n"
   ]
  },
  {
   "cell_type": "markdown",
   "metadata": {},
   "source": [
    "## Chapter 7, Problem 1\n",
    "\n",
    "Write a function that can return each of the first three spherical Bessel functions (functional forms given in text.)\n",
    "\n",
    "Your function should take as arguments a NumPy array 𝑥 and the order 𝑛, and should return an array of the designated order 𝑛 spherical Bessel function. Take care to make sure that your functions behave properly at 𝑥 = 0.\n",
    "\n",
    "Demonstrate the use of your function by writing a Python routine that plots the three Bessel functions for 0 ≤ 𝑥 ≤ 20. Your plot should look like the one below.\n",
    "\n",
    "Something to think about: You might note that 𝑗1(𝑥) can be written in terms of 𝑗0(𝑥), and that 𝑗2(𝑥) can be written in terms of 𝑗1(𝑥) and 𝑗0(𝑥). Can you take advantage of this to write a more efficient function for the calculations of 𝑗1(𝑥) and 𝑗2(𝑥)?"
   ]
  },
  {
   "cell_type": "code",
   "execution_count": null,
   "metadata": {},
   "outputs": [],
   "source": [
    "%matplotlib inline\n",
    "\n",
    "from math import sin, cos, fabs\n",
    "import matplotlib.pyplot as plt\n",
    "import numpy as np\n"
   ]
  },
  {
   "cell_type": "markdown",
   "metadata": {},
   "source": [
    "## Chapter 7, Problem 2\n",
    "\n",
    "Write a function that simulates the rolling of 𝑛 dice. Use the NumPy function random.random_integers(6), which generates a random integer between 1 and 6 with equal probability (like rolling fair dice). The input of your\n",
    "function should be the number of dice thrown each roll and the output should be the sum of the 𝑛 dice.\n",
    "\n",
    "(b) “Roll” 2 dice 10,000 times keeping track of all the sums of each set of rolls in a list. Then use your program to generate a histogram summarizing the rolls of two dice 10,000 times. \n",
    "\n",
    "The result should look like the histogram shown in the text below. Use the MatPlotLib function `hist()` (see http://matplotlib.org/api/pyplot_summary.html) and set the number of bins in the histogram equal to the number of different possible outcomes of a roll of your dice. For example, the sum of two dice can be anything between 2 and 12, which corresponds to 11 possible outcomes.\n",
    "\n",
    "(c) “Repeat part (b) using 3 dice and plot the resulting histogram. \n"
   ]
  },
  {
   "cell_type": "code",
   "execution_count": null,
   "metadata": {},
   "outputs": [],
   "source": [
    "import numpy as np\n",
    "import matplotlib.pyplot as plt\n",
    "   "
   ]
  },
  {
   "cell_type": "markdown",
   "metadata": {},
   "source": [
    "## Chapter 7, Problem 4, 5\n",
    "\n",
    "Write a new fitting function LineFitWt(x, y) that implements the formulas given in Eq. (7.14) that minimize the 𝜒2 function give by Eq. (7.12). This more general approach is valid when the individual data points have different weightings or when they all have the same weighting. You should also write a function to calculate the reduced chi-squared defined by Eq. (7.12).\n",
    "\n",
    "Write a Python program that reads in the data below, plots it, and fits it using the two fitting functions LineFit(x, y) and LineFitWt(x, y). Your program should plot the data with error bars and with both fits with and without weighting, that is from LineFit(x, y) and LineFitWt(x, y, dy). It should also report the results for both fits on the plot, similar to the output of the supplied program above, as well as the values of 𝜒2𝑟, the reduced chi-squared value, for both fits. Explain why weighting the data gives a steeper or less steep slope than the fit without weighting.\n",
    "\n",
    "Modify the function LineFitWt(x, y) you wrote in Exercise 4 above so that in addition to returning the fitting parameters 𝑎 and 𝑏, it also returns the uncertainties in the fitting parameters 𝜎𝑎 and 𝜎𝑏 using the formulas given by Eq. (7.16). Use\n",
    "your new fitting function to find the uncertainties in the fitted slope and 𝑦-intercept for the data provided with Exercise 4."
   ]
  },
  {
   "cell_type": "code",
   "execution_count": null,
   "metadata": {},
   "outputs": [],
   "source": [
    "import numpy as np\n",
    "import matplotlib.pyplot as plt\n"
   ]
  },
  {
   "cell_type": "markdown",
   "metadata": {},
   "source": [
    "## Bonus: Solving Systems of Ordinary Differential Equations\n",
    "\n",
    "For this problem we will solve a model describing bioreactor dyamics over time. The bioreactor includes a population of bacteria (X) that are consuming a substrate (S) and producing a product (P) (e.g. a fermentation process).  It is a _batch_ reactor, which means that once started, no additional input is added.  Without getting into too many details, the model tracks these three quantities through time. The rate of change of the quantities are described by the following ordinary differential equations:\n",
    "\n",
    "> - Substrate: dS/dt = (-1/Y<sub>xs</sub>) \\* (u-k<sub>d</sub>) \\* X    \n",
    "> - Bacteria: dX/dt = (u\\*X) - (k<sub>d</sub> \\* X)                    \n",
    "> - Product: dP/dt = q<sub>p</sub> \\* dS/dt \n",
    ">\n",
    "> where:\n",
    "> - u: per-capita growth rate, = m<sub>max</sub> \\* S/(k<sub>s</sub>+S )\n",
    "> - k<sub>s</sub>: half-velocity parameter\n",
    "> - k<sub>d</sub>: per-capita bacterial mortality rate\n",
    "> - Y<sub>xs</sub>: Yield constant\n",
    "> - u<sub>max</sub>: Maximum bacteria growth rate\n",
    "> - q<sub>p</sub>: product yield\n",
    "\n",
    "We will solve this with the following values:\n",
    "> - k<sub>s</sub> = 0.75/day \n",
    "> - k<sub>d</sub> = 0.03/day\n",
    "> - Y<sub>xs</sub> = 0.5 g/g\n",
    "> - u<sub>max</sub> = 0.5/day\n",
    "> - q<sub>p</sub> = 0.25/day\n",
    "> - S<sub>0</sub> = 20 g/L\n",
    "> - X<sub>0</sub> = 0.10 g/L  \n",
    "> - P<sub>0</sub> = 0 g/L"
   ]
  },
  {
   "cell_type": "code",
   "execution_count": null,
   "metadata": {},
   "outputs": [],
   "source": [
    "%matplotlib inline\n",
    "\n",
    "import numpy as np\n",
    "import matplotlib.pyplot as plt\n",
    "from scipy.integrate import odeint\n",
    "\n",
    "# define parameters\n",
    "ks = 0.75     # /day\n",
    "kd = 0.03     # /day\n",
    "yxs = 0.5     # g/g\n",
    "mumax = 0.2    # /day\n",
    "qp = 0.25     # /day\n",
    "\n",
    "# define model derivative function\n",
    "def bioreactor( Y, t ):\n",
    "    s = Y[0]   # extract state variables\n",
    "    x = Y[1]\n",
    "    p = Y[2]\n",
    "\n",
    "    mu=((mumax*s)/(ks+s))       # Monod Kinetics\n",
    "    dSdt=(-1/yxs)*((mu-kd)*x)   # Mass balance of substrate\n",
    "    dXdt=(mu*x)-(kd*x)          # Mass balance of cells\n",
    "    dPdt=-qp*dSdt                # Mass balance of products\n",
    "\n",
    "    return [ dSdt, dXdt, dPdt ]\n",
    "\n",
    "######################\n",
    "# main program\n",
    "######################\n",
    "\n",
    "# Initial conditions\n",
    "S0 = 20       # g/L\n",
    "X0 = 0.10     # g/L\n",
    "P0 = 0        # g/L\n",
    "\n",
    "# simulation setup\n",
    "end = 12\n",
    "dt = 0.01      # basic simulation parameters\n",
    "\n",
    "# create array for time values\n",
    "time = np.arange( 0, end, dt )  # create time values\n",
    "\n",
    "# solve the model\n",
    "Y = odeint( bioreactor, [S0, S0, P0], time )   # integrate\n",
    "\n",
    "#plot results\n",
    "s = Y[:,0]\n",
    "x = Y[:,1]\n",
    "p = Y[:,2]\n",
    "\n",
    "plt.plot(time, s, 'r-', label='Substrate')\n",
    "plt.plot(time, x, 'b-', label='Biomass')\n",
    "plt.plot(time, p, 'g-', label='Product')\n",
    "plt.grid()\n",
    "plt.legend(loc='best')\n",
    "plt.xlabel('Time')\n",
    "plt.title('Bioreactor Dynamics Model')\n",
    "plt.show()"
   ]
  },
  {
   "cell_type": "markdown",
   "metadata": {
    "collapsed": true
   },
   "source": [
    "## More Bonus - Pandas Example\n",
    "\n",
    "This example shows how to use Pandas to access an Excel spreadsheet that lives on the web. T also show the basic use of ** subplots **"
   ]
  },
  {
   "cell_type": "code",
   "execution_count": null,
   "metadata": {},
   "outputs": [],
   "source": [
    "%matplotlib inline\n",
    "\n",
    "import pandas as pd\n",
    "import numpy as np\n",
    "import matplotlib.pyplot as plt\n",
    "\n",
    "def GrowingDegreeDays( tMin, tMax, tBase ):\n",
    "    \"\"\"\n",
    "    Calculates Growing Degree Days\n",
    "    :param tMin: Minimum daily temperature (F)\n",
    "    :param tMax: Maximum daily temperature (F)\n",
    "    :param tBase: Base temperature (F)\n",
    "    :return: growing degree days for this day\n",
    "    \"\"\"\n",
    "    if tMax > 86:\n",
    "        tMax = 86\n",
    "    gdd =  (tMax + tMin)/2 - tBase\n",
    "    if gdd < 0:\n",
    "        gdd = 0\n",
    "    return gdd\n",
    "\n",
    "def Accumulate( inArray ):\n",
    "    \"\"\"\n",
    "    Generate an array of accumulating values from a given input array\n",
    "    :param inArray: input array values to be accumulated \n",
    "    :return: array of accumulated values\n",
    "    \"\"\"\n",
    "    outArray = np.zeros( len(inArray) )\n",
    "    outArray[0] = inArray[0]\n",
    "    for i in range(1,len(inArray)):\n",
    "        outArray[i] = outArray[i-1] + inArray[i]\n",
    "    return outArray\n",
    "\n",
    "df = pd.read_excel(\"http://explorer.bee.oregonstate.edu/Topic/Modeling/Data/AgrimetClimateCRVO.xlsx\")\n",
    "\n",
    "tBase = 50\n",
    "dates = df['Date']\n",
    "tMins = df['TempMin-F']\n",
    "tMaxs = df['TempMax-F']\n",
    "\n",
    "gdds = np.zeros(len(dates))\n",
    "\n",
    "for i in range(0, len(dates)):\n",
    "    gdds[i] = GrowingDegreeDays( tMins[i], tMaxs[i], tBase )\n",
    "\n",
    "cgdds = Accumulate( gdds )\n",
    "\n",
    "plt.figure(figsize=(12,4))\n",
    "plt.subplot(1,2,1)  # 1 rows, 2 col, first plot\n",
    "# plot results\n",
    "plt.plot( dates, gdds )\n",
    "\n",
    "plt.subplot(1,2,2) # 1 rows, 2 col, second plot\n",
    "plt.plot( dates, cgdds )\n",
    "plt.tight_layout()\n",
    "plt.show()"
   ]
  },
  {
   "cell_type": "code",
   "execution_count": null,
   "metadata": {},
   "outputs": [],
   "source": []
  }
 ],
 "metadata": {
  "anaconda-cloud": {},
  "kernelspec": {
   "display_name": "Python 3",
   "language": "python",
   "name": "python3"
  },
  "language_info": {
   "codemirror_mode": {
    "name": "ipython",
    "version": 3
   },
   "file_extension": ".py",
   "mimetype": "text/x-python",
   "name": "python",
   "nbconvert_exporter": "python",
   "pygments_lexer": "ipython3",
   "version": "3.5.2"
  }
 },
 "nbformat": 4,
 "nbformat_minor": 1
}
