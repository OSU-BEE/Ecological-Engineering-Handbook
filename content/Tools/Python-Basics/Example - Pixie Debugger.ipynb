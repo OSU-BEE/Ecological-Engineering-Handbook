{
 "cells": [
  {
   "cell_type": "code",
   "execution_count": null,
   "metadata": {},
   "outputs": [],
   "source": [
    "import pixiedust"
   ]
  },
  {
   "cell_type": "markdown",
   "metadata": {},
   "source": [
    "## Using the Pixie Debugger\n",
    "\n",
    "The Pixie Debugger is a tool that runs inside Jupyter Notebooks and allows you to \"step through\" your program as it is running, line by line, or to set **breakpoints** in your code that will cuase your program to pause when it those points in your code.\n",
    "\n",
    "Additionally, Pixie reports the value of all currect variables as it is stepping through your program.  To use the Pixie debugger in your notebooks:\n",
    "\n",
    "1. Include the `import pixiedust` code block at the top of your file, and\n",
    "2. put the `%%pixie_debugger` magic at the top of any code block you want to debug."
   ]
  },
  {
   "cell_type": "code",
   "execution_count": null,
   "metadata": {
    "pixiedust": {
     "displayParams": {}
    },
    "scrolled": true
   },
   "outputs": [],
   "source": [
    "%%pixie_debugger\n",
    "\n",
    "import numpy as np\n",
    "\n",
    "a = np.zeros(10)\n",
    "\n",
    "for i in range(0,10):\n",
    "    iSquared = i*i\n",
    "    a[i] = iSquared\n",
    "    \n",
    "print( \"All done!\")"
   ]
  },
  {
   "cell_type": "code",
   "execution_count": null,
   "metadata": {},
   "outputs": [],
   "source": []
  }
 ],
 "metadata": {
  "kernelspec": {
   "display_name": "Python 3",
   "language": "python",
   "name": "python3"
  },
  "language_info": {
   "codemirror_mode": {
    "name": "ipython",
    "version": 3
   },
   "file_extension": ".py",
   "mimetype": "text/x-python",
   "name": "python",
   "nbconvert_exporter": "python",
   "pygments_lexer": "ipython3",
   "version": "3.5.2"
  }
 },
 "nbformat": 4,
 "nbformat_minor": 2
}
