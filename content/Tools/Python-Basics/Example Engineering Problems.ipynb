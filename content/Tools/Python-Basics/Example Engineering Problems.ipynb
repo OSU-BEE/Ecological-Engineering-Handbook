{
 "cells": [
  {
   "cell_type": "code",
   "execution_count": 1,
   "metadata": {},
   "outputs": [
    {
     "name": "stdout",
     "output_type": "stream",
     "text": [
      "Pixiedust database opened successfully\n"
     ]
    },
    {
     "data": {
      "text/html": [
       "\n",
       "        <div style=\"margin:10px\">\n",
       "            <a href=\"https://github.com/ibm-watson-data-lab/pixiedust\" target=\"_new\">\n",
       "                <img src=\"https://github.com/ibm-watson-data-lab/pixiedust/raw/master/docs/_static/pd_icon32.png\" style=\"float:left;margin-right:10px\"/>\n",
       "            </a>\n",
       "            <span>Pixiedust version 1.1.15</span>\n",
       "        </div>\n",
       "        "
      ],
      "text/plain": [
       "<IPython.core.display.HTML object>"
      ]
     },
     "metadata": {},
     "output_type": "display_data"
    }
   ],
   "source": [
    "import pixiedust"
   ]
  },
  {
   "cell_type": "markdown",
   "metadata": {},
   "source": [
    "# Programming Examples - Simple Engineering Problems\n"
   ]
  },
  {
   "cell_type": "markdown",
   "metadata": {},
   "source": [
    "## Can a mouse lift an elephant?\n",
    "\n",
    "Engineering Fluid Mechanics Chapter 3 Problem 3.6\n",
    "\n",
    "![Mouse and Elephant](http://explorer.bee.oregonstate.edu/Topic/Modeling/Images/MouseLiftingElephant.png \"Mouse Lifting Elephant\")\n",
    "\n",
    "Problem - Imagine two vertical cylinders connected by a horizontal tube.  A 25g mouse stands atop a piston on one side, a 7500kg elephant stands atop the other side. Assume the following:\n",
    "\n",
    "1. The pistons can move frictionlessly inside the cylinders.\n",
    "2. The Pistons have negligible mass.\n",
    "3. The fluid is frictionless.\n",
    "4. The weight of the fluid is negligible.\n",
    "5. The mouse's piston is 5cm in diameter.\n",
    "\n",
    "Find the minimum diameter of the elephant's piston to allow it to be lifted by the weight of the mouse. \n",
    "\n",
    "Basic approach: Find the point at which pressure exerted by mouse = pressure exerted by elephant\n",
    "\n",
    "Pressure exerted by Mouse:\n",
    "$\\large P_m = M_m g  (\\pi (\\frac{d_m}{2})^2 ) $\n",
    "\n",
    "Pressure exerted by Elephant: \n",
    "$\\large P_e = M_e g  (\\pi (\\frac{d_e}{2})^2 ) ) $\n",
    "\n",
    "At equilibrium\n",
    "\n",
    "$\\large P_m = P_e $\n",
    "\n",
    "$\\large M_m g  (\\pi (\\frac{d_m}{2})^2 ) ) = M_{e} g  (\\pi (\\frac{d_e}{2})^2 ) ) $\n",
    "\n",
    "Simplifying:\n",
    "\n",
    "$\\large \\frac {M_m}{M_e} = \\frac{d_m^2}{d_e^2} $\n",
    "\n",
    "\n",
    "$\\large d_e = d_m \\sqrt { \\frac{M_e}{M_m}}$\n",
    "\n"
   ]
  },
  {
   "cell_type": "code",
   "execution_count": 2,
   "metadata": {
    "pixiedust": {
     "displayParams": {}
    },
    "scrolled": true
   },
   "outputs": [
    {
     "data": {
      "text/html": [
       "<style type=\"text/css\">.pd_warning{display:none;}</style><div class=\"pd_warning\"><em>Hey, there's something awesome here! To see it, open this notebook outside GitHub, in a viewer like Jupyter</em></div>"
      ],
      "text/plain": [
       "<IPython.core.display.HTML object>"
      ]
     },
     "metadata": {
      "pixieapp_metadata": null
     },
     "output_type": "display_data"
    }
   ],
   "source": [
    "%%pixie_debugger\n",
    "\n",
    "import numpy as np\n",
    "\n",
    "dm= 0.01     # m\n",
    "Mm = 0.025   # kg\n",
    "Me = 7500\n",
    "dE = dm*np.sqrt( Me/Mm)\n",
    "\n",
    "print( \"Required diameter: {:.1f} meters\".format(dE) )\n"
   ]
  },
  {
   "cell_type": "markdown",
   "metadata": {},
   "source": [
    "## Flow from the bottom of a bucket\n",
    "\n"
   ]
  },
  {
   "cell_type": "code",
   "execution_count": null,
   "metadata": {},
   "outputs": [],
   "source": []
  }
 ],
 "metadata": {
  "kernelspec": {
   "display_name": "Python 3",
   "language": "python",
   "name": "python3"
  },
  "language_info": {
   "codemirror_mode": {
    "name": "ipython",
    "version": 3
   },
   "file_extension": ".py",
   "mimetype": "text/x-python",
   "name": "python",
   "nbconvert_exporter": "python",
   "pygments_lexer": "ipython3",
   "version": "3.5.2"
  }
 },
 "nbformat": 4,
 "nbformat_minor": 2
}
