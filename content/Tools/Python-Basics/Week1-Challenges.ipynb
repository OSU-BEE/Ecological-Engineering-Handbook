{
 "cells": [
  {
   "cell_type": "markdown",
   "metadata": {},
   "source": [
    "### Find the pressure at the bottom of a Reservoir Dam ###\n",
    "Given a dam whose surface water elevation is 30m above the bottom of the dam, what is the pressure (in atmospheres) at the bottom of the dam?\n",
    "\n",
    "We will sove this using the \"Hydrostatic Pressure\" Equation, stated as follows:\n",
    "\n",
    "Let Point 1 be at the top of the water column, Point 2 be at the bottom of the dam.\n",
    "\n",
    "$\\large \\frac {p_1}{\\gamma} + z_1 =  \\frac {p_2}{\\gamma} + z_2 $\n",
    "\n",
    "where:\n",
    "$ p_1, p_2 $ are the pressures at elevations $ z_1 $ and $ z_2 $, respectively.\n",
    "\n",
    "$ \\gamma $ is the specific weight of water (1000 kg/m3 under normal gravity)\n",
    "\n",
    "**Report your results in 1) units of atmospheres, 2) lbs/ft2, and 3) N/m2.**\n",
    "\n",
    "Hints:\n",
    "1. 1 atm = 101.325 kPa\n",
    "2. 1 atm = 101325 N/m2\n",
    "3. 1 N/m2 = 0.02088547 lb/ft2\n",
    "4. The \"force\" (F) exerted by one kilogram under standard gravity is 9.80665 Newtons \n"
   ]
  },
  {
   "cell_type": "code",
   "execution_count": 26,
   "metadata": {},
   "outputs": [
    {
     "name": "stdout",
     "output_type": "stream",
     "text": [
      "The pressure at the bottom of the dam is 3.90 atm, or 8260.72 lbs/ft2, or 395524.50 N/m2\n"
     ]
    }
   ],
   "source": [
    "p1 = 101.325*1000 # kPa ->N/m2 (atmospheric pressure)\n",
    "z1 = 30            # m\n",
    "z2 = 0             # m\n",
    "gamma = 1000*9.80665  # kg/m3 ->N/m3\n",
    "\n",
    "p2 = p1 + (z1+z2)*gamma  # N/m2\n",
    "\n",
    "p2atm = p2 / 101325   # convert to atm \n",
    "\n",
    "p2LbsFt2 = p2 * 0.02088547    # convert to lbs/ft2\n",
    "\n",
    "print( \"The pressure at the bottom of the dam is {:.2f} atm, or {:.2f} lbs/ft2, or {:.2f} N/m2\".format(p2atm, p2LbsFt2, p2))\n"
   ]
  },
  {
   "cell_type": "markdown",
   "metadata": {},
   "source": [
    "### Size a bike pump that will inflate a typical mountain bike tire in 20 strokes.###\n",
    "\n",
    "Assumptions:\n",
    "\n",
    "1. The tire is a cylinder with length L=1.94m and a diameter D of 0.045m.\n",
    "2. The tire pressure at full inflation is 450 kPa (absolute)\n",
    "3. The air temperature is 20C (293K)\n",
    "\n",
    "Define V<sub>p</sub> as the volume of the pump cylinder (*in Liters*).  Use the Ideal Gas Law: $ PV=mRT $.  \n",
    "where R (the gas constant) = $ 287 \\frac{J}{(kg ^\\circ K)} $\n",
    "\n",
    "Specifically, we will want to:\n",
    "1. find the mass of the air in the inflated tire (at 450kPa, 20C)\n",
    "2. Divide by 20 to get the mass of air needed \n",
    "3. Convert this to volume under standard conditions. \n",
    "\n",
    "Hints:\n",
    "1. 1 kPa = 1000 N/m2\n",
    "2. 1 Joule = 1 N m\n",
    "3. 1 atm = 101.325 kPa\n",
    "4. 1 m3 = 1000 L\n",
    "\n",
    "Notes:\n",
    "1. Program MUST indicate units at each step!\n",
    "2. Program MUST have comments outlining major steps"
   ]
  },
  {
   "cell_type": "code",
   "execution_count": 28,
   "metadata": {},
   "outputs": [
    {
     "name": "stdout",
     "output_type": "stream",
     "text": [
      "The required cylinder volume is 0.685 liters\n"
     ]
    }
   ],
   "source": [
    "from math import pi \n",
    "\n",
    "# basic parameters\n",
    "Lt = 1.94      # m\n",
    "Dt = 0.045     # m\n",
    "Pt = 450*1000  # kPa -> N/m2  \n",
    "Pp = 101.325*1000 # kPa ->N/m2\n",
    "R = 287        # J/(kg-K)\n",
    "T = 20 + 273   # degrees C -> K\n",
    "\n",
    "# Get mass of air in inflated tire m = RT/PV\n",
    "Vt = pi * (Dt/2)**2 * Lt      # m3\n",
    "mt = (Pt*Vt)/(R*T)  # kg\n",
    "\n",
    "# mass of air per stroke\n",
    "mp = mt/20     # kg\n",
    "\n",
    "# convert to volume (m3)\n",
    "Vp = mp*R*T/Pp\n",
    "\n",
    "# convert to Liters\n",
    "Vp = Vp * 1000    # Liters\n",
    "\n",
    "print( \"The required cylinder volume is {:.3f} liters\".format(Vp))"
   ]
  },
  {
   "cell_type": "markdown",
   "metadata": {},
   "source": [
    "## Can a mouse lift an elephant?\n",
    "\n",
    "Engineering Fluid Mechanics Chapter 3 Problem 3.6\n",
    "\n",
    "![Mouse and Elephant](http://explorer.bee.oregonstate.edu/Topic/Modeling/Images/MouseLiftingElephant.png \"Mouse Lifting Elephant\")\n",
    "\n",
    "Problem - Imagine two vertical cylinders connected by a horizontal tube.  A 25g mouse stands atop a piston on one side, a 7500kg elephant stands atop the other side. Assume the following:\n",
    "\n",
    "1. The pistons can move frictionlessly inside the cylinders.\n",
    "2. The Pistons have negligible mass.\n",
    "3. The fluid is frictionless.\n",
    "4. The weight of the fluid is negligible.\n",
    "5. The mouse's piston is 5cm in diameter.\n",
    "\n",
    "Find the minimum diameter of the elephant's piston to allow it to be lifted by the weight of the mouse. \n",
    "\n",
    "Basic approach: Find the point at which pressure exerted by mouse = pressure exerted by elephant\n",
    "\n",
    "Pressure exerted by Mouse:\n",
    "$\\large P_m = M_m g  (\\pi (\\frac{d_m}{2})^2 ) $\n",
    "\n",
    "Pressure exerted by Elephant: \n",
    "$\\large P_e = M_e g  (\\pi (\\frac{d_e}{2})^2 ) ) $\n",
    "\n",
    "At equilibrium\n",
    "\n",
    "$\\large P_m = P_e $\n",
    "\n",
    "$\\large M_m g  (\\pi (\\frac{d_m}{2})^2 ) ) = M_{e} g  (\\pi (\\frac{d_e}{2})^2 ) ) $\n",
    "\n",
    "Simplifying:\n",
    "\n",
    "$\\large \\frac {M_m}{M_e} = \\frac{d_m^2}{d_e^2} $\n",
    "\n",
    "\n",
    "$\\large d_e = d_m \\sqrt { \\frac{M_e}{M_m}}$\n",
    "\n"
   ]
  },
  {
   "cell_type": "code",
   "execution_count": 30,
   "metadata": {},
   "outputs": [
    {
     "name": "stdout",
     "output_type": "stream",
     "text": [
      "Required diameter: 5.5 meters\n"
     ]
    }
   ],
   "source": [
    "import numpy as np\n",
    "\n",
    "dm= 0.01     # m\n",
    "Mm = 0.025   # kg\n",
    "Me = 7500\n",
    "dE = dm*np.sqrt( Me/Mm)\n",
    "\n",
    "print( \"Required diameter: {:.1f} meters\".format(dE) )\n"
   ]
  },
  {
   "cell_type": "code",
   "execution_count": null,
   "metadata": {},
   "outputs": [],
   "source": []
  }
 ],
 "metadata": {
  "kernelspec": {
   "display_name": "Python 3",
   "language": "python",
   "name": "python3"
  },
  "language_info": {
   "codemirror_mode": {
    "name": "ipython",
    "version": 3
   },
   "file_extension": ".py",
   "mimetype": "text/x-python",
   "name": "python",
   "nbconvert_exporter": "python",
   "pygments_lexer": "ipython3",
   "version": "3.5.2"
  }
 },
 "nbformat": 4,
 "nbformat_minor": 2
}
