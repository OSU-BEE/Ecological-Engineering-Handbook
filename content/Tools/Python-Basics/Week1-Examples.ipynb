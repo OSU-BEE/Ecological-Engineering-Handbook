{
 "cells": [
  {
   "cell_type": "markdown",
   "metadata": {},
   "source": [
    "# Example Programs - Week 1 (Python Intro)\n",
    "\n",
    "Below, we explore some basic Python programs using concepts from this week's class.  These examples are inteded to demonstrate basic programming concepts, working with the Python development environment, and using variables in programs.\n",
    "\n",
    "\n",
    "## Hello, World!\n",
    "\n",
    "Our first program is very simple, and involves printing the string *\"Hello World\"* to the Python console.\n",
    "\n",
    "Programming concepts demonstrated:\n",
    "1) Interacting with the Python environment\n",
    "2) using the \"string\" data type\n",
    "3) console output"
   ]
  },
  {
   "cell_type": "code",
   "execution_count": null,
   "metadata": {},
   "outputs": [],
   "source": []
  },
  {
   "cell_type": "markdown",
   "metadata": {},
   "source": [
    "\n",
    "\n",
    "## Chapter 2, Problem 1.1a\n",
    "\n",
    "This problem involves computing a trajectory of a ball based on the laws of motion.  These laws are:\n",
    "\n",
    "$\\large h = h_0 + v_0 t - \\frac{1}{2} g t^2 $ \n",
    "\n",
    "$\\large v = v_0 - g t $ \n",
    "\n",
    "where:\n",
    "$ g = 9.8 \\frac{m}{s^2} $, the acceleration due to gravity.\n",
    "\n",
    "$ h_0 = 1.2 m $\n",
    "\n",
    "$ v_0 = 5.4 m/s $\n",
    "\n",
    "**Your task is to compute, for a time t, the position and speed at that point.**   Calculate your results for t = 0.5, and t=2 seconds. \n",
    "\n",
    "Use  **comments** to document your code - **any text to the right of a '#' symbol is considered a comment and is ignored by the Python interpreter**.  Use comments liberally throughout your program to indicate variable meanings, program logic, and other aspects of your program in \"human-friendly\", readable forms.  You will thank yourself when you look at your code a few weeks from now and have to remember what you did. \n",
    "\n",
    "For most engineering problems, units are critical to your calculations.  It is very helpful, and will save you a lot of headaches trying to debug faulty code, to indicate units associated with your variables and calculations in comments at the point of definition.\n",
    "\n",
    "**When printing your output, use appropriate formatting!** e.g. for floating point (real) numbers, indicate a precision using string formatting (e.g. \n",
    "\n",
    "`print( \"My Output is: {}, {:.2f}\".format(someInteger, someRealNumber) )`"
   ]
  },
  {
   "cell_type": "code",
   "execution_count": 1,
   "metadata": {},
   "outputs": [],
   "source": [
    "# Program for calculating height and velocity of a ball thrown vertically in the air\n",
    "\n",
    "\n"
   ]
  },
  {
   "cell_type": "markdown",
   "metadata": {},
   "source": [
    "## Chapter 2, Problem 1.1b\n",
    "\n",
    "This problem evaluates a function at multiple locations of an input.  Evaluate the function:\n",
    "\n",
    "$ V = V_0 \\left(1-\\large \\frac{z}{\\sqrt{a^2+z^2}}\\right) $\n",
    "for:\n",
    "\n",
    "$ V_0 = 10 $\n",
    "\n",
    "$ a = 2.5$\n",
    "\n",
    "$ z = 4\\frac{1}{3} $\n",
    "\n",
    "Repeat with $ z = 8\\frac{2}{3} $, and $ z = 13 $"
   ]
  },
  {
   "cell_type": "code",
   "execution_count": 3,
   "metadata": {},
   "outputs": [],
   "source": [
    "from math import sqrt\n",
    "\n"
   ]
  },
  {
   "cell_type": "markdown",
   "metadata": {},
   "source": [
    "## Chapter 2, Problem 1.2\n",
    "This problem calculates three equations as follows.\n",
    "\n",
    "$\\large a = \\frac{2+ e^{2.8}}{\\sqrt{13} - 2}  $  \n",
    "\n",
    "$\\large b = \\frac{1-(1+ \\ln{2})^{-3.5}}{1+\\sqrt{5}} $\n",
    "\n",
    "$\\large c = sin \\left(\\frac{2-\\sqrt{2}}{2+\\sqrt{2}} \\right) $\n",
    "\n",
    "\n",
    "We will take advantage of the numpy package that provides some useful mathematical functions (and many other capabilities we will be exploring in later modules)  **As before, format your output!!!** "
   ]
  },
  {
   "cell_type": "code",
   "execution_count": 4,
   "metadata": {},
   "outputs": [],
   "source": [
    "from math import *\n"
   ]
  },
  {
   "cell_type": "markdown",
   "metadata": {},
   "source": [
    "## Chapter 2, Problem 1.3.1 - Solving the Quadratic Equation\n",
    "Compute the roots of a quadratic equations, checking some test cases  The quadratic formula is:\n",
    "\n",
    "$\\large a = \\frac{-b \\pm \\sqrt{b^2-4 a c}}{2a}  $\n",
    "\n",
    "In this example, we will solve it for real roots, e.g. $b^2 >= 4ac $"
   ]
  },
  {
   "cell_type": "code",
   "execution_count": 5,
   "metadata": {},
   "outputs": [],
   "source": [
    "# compute roots of a quadratic equation\n",
    "# note that solutions should be real numbers if the value\n",
    "# of the discriminant (d) is greater than or equal to 0 \n",
    "\n"
   ]
  },
  {
   "cell_type": "markdown",
   "metadata": {},
   "source": [
    "## Chapter 2, Problem 1.3.2 - Solving the Quadratic Equation\n",
    "Repeat the previous example, allowing for complex results.\n",
    "\n",
    "Copy the script above and and try it for the case:\n",
    "\n",
    "$ a=1, b=2, c=3 $\n",
    "\n",
    "You can accomodate imaginary numbers by specifing inputs as *a = a+0j*"
   ]
  },
  {
   "cell_type": "code",
   "execution_count": 6,
   "metadata": {},
   "outputs": [],
   "source": [
    "# compute roots of a quadratic equation, allowing for complex results\n"
   ]
  }
 ],
 "metadata": {
  "anaconda-cloud": {},
  "kernelspec": {
   "display_name": "Python 3",
   "language": "python",
   "name": "python3"
  },
  "language_info": {
   "codemirror_mode": {
    "name": "ipython",
    "version": 3
   },
   "file_extension": ".py",
   "mimetype": "text/x-python",
   "name": "python",
   "nbconvert_exporter": "python",
   "pygments_lexer": "ipython3",
   "version": "3.5.2"
  }
 },
 "nbformat": 4,
 "nbformat_minor": 1
}
