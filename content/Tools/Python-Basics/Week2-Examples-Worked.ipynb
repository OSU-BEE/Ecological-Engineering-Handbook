{
 "cells": [
  {
   "cell_type": "markdown",
   "metadata": {},
   "source": [
    "## Example Programs - Week 2 (Python Data Types, Input/Output)\n",
    "\n",
    "Below, we explore some basic Python programs for representing and manipulating information using concepts from this week's class.  These examples are inteded to demonstrate basic programming concepts, debugging programs in the Python development environment, and using data sructures in programs."
   ]
  },
  {
   "cell_type": "code",
   "execution_count": 12,
   "metadata": {},
   "outputs": [
    {
     "data": {
      "text/plain": [
       "[1, 2, 3]"
      ]
     },
     "execution_count": 12,
     "metadata": {},
     "output_type": "execute_result"
    }
   ],
   "source": [
    "a = [1,2,3]\n",
    "a"
   ]
  },
  {
   "cell_type": "markdown",
   "metadata": {},
   "source": [
    "## Chapter 3, Problem 1 - NumPy arrays\n",
    "Create at array of 9 evenly spaced numbers going from 0 to 29 (inclusive) and give it the variable name r. Find the square of each element of the array (as simply as possible). Find twice the value of each element of the array in two different ways: (i) using addition and (ii) using multiplication.\n",
    "\n",
    "\n",
    "Hint: ways to create a Numpy array\n",
    "\n",
    "| Numpy function | What it does  |\n",
    "|:------------- |:-------------|\n",
    "| `a = np.array([1,2,...,N])` | make an array of elements from a Python list |\n",
    "| `a = np.zeros(N)` | make an array of N items, all of which are set to a value of zero. |\n",
    "| `a = np.zeros(N,M)` | make a matrix (2D array) of N rows and M cols, all of which are set to a value of zero. |\n",
    "| `a = np.ones(N)` | make an array of N items, all of which are set to a value of 1. |\n",
    "| `a = np.arange({Start=0},Stop,{Step=1})` | make an array of evenly-spaced items on the interval [Start,End) |\n",
    "| `a = np.linspace(Start,Stop,Count)` | make an array of 'Count' evenly-spaced items on the interval [Start,End] |\n"
   ]
  },
  {
   "cell_type": "code",
   "execution_count": 1,
   "metadata": {},
   "outputs": [
    {
     "name": "stdout",
     "output_type": "stream",
     "text": [
      "[  0.      3.625   7.25   10.875  14.5    18.125  21.75   25.375  29.   ]\n",
      "[  0.      3.625   7.25   10.875  14.5    18.125  21.75   25.375  29.   ]\n",
      "[   0.         13.140625   52.5625    118.265625  210.25      328.515625\n",
      "  473.0625    643.890625  841.      ]\n",
      "[  0.     7.25  14.5   21.75  29.    36.25  43.5   50.75  58.  ]\n",
      "[  0.     7.25  14.5   21.75  29.    36.25  43.5   50.75  58.  ]\n"
     ]
    }
   ],
   "source": [
    "import numpy as np\n",
    "\n",
    "# first, make an array\n",
    "r = np.linspace(0,29,9)\n",
    "print(r)\n",
    "\n",
    "# alternate using arange()\n",
    "inc = 29/8\n",
    "r = np.arange(0, 30, inc)\n",
    "print(r)\n",
    "\n",
    "# square each element of the array\n",
    "print(r**2)\n",
    "\n",
    "print( r+r )  # add each element to itself, producing a new array\n",
    "print( r*2 )  # multiply each element by 2, producing a new array\n"
   ]
  },
  {
   "cell_type": "markdown",
   "metadata": {},
   "source": [
    "## Chapter 3, Problem 2 - More NumPy arrays\n",
    "Create the following arrays:\n",
    "\n",
    "1. an array of 100 elements all equal to e, the base of the natural logarithm;\n",
    "2. an array in 1-degree increments of all the angles in degrees from 0 to 360 degrees;\n",
    "3. an array in 1-degree increments of all the angles in radians from 0 to 360 degrees;\n",
    "4. an array from 12 to 17, not including 17, in 0.2 increments;\n",
    "5. an array from 12 to 17, including 17, in 0.2 increments."
   ]
  },
  {
   "cell_type": "code",
   "execution_count": 2,
   "metadata": {},
   "outputs": [
    {
     "name": "stdout",
     "output_type": "stream",
     "text": [
      "1. 100 elements = 'e'\n",
      "[ 2.71828183  2.71828183  2.71828183  2.71828183  2.71828183  2.71828183\n",
      "  2.71828183  2.71828183  2.71828183  2.71828183  2.71828183  2.71828183\n",
      "  2.71828183  2.71828183  2.71828183  2.71828183  2.71828183  2.71828183\n",
      "  2.71828183  2.71828183  2.71828183  2.71828183  2.71828183  2.71828183\n",
      "  2.71828183  2.71828183  2.71828183  2.71828183  2.71828183  2.71828183\n",
      "  2.71828183  2.71828183  2.71828183  2.71828183  2.71828183  2.71828183\n",
      "  2.71828183  2.71828183  2.71828183  2.71828183  2.71828183  2.71828183\n",
      "  2.71828183  2.71828183  2.71828183  2.71828183  2.71828183  2.71828183\n",
      "  2.71828183  2.71828183  2.71828183  2.71828183  2.71828183  2.71828183\n",
      "  2.71828183  2.71828183  2.71828183  2.71828183  2.71828183  2.71828183\n",
      "  2.71828183  2.71828183  2.71828183  2.71828183  2.71828183  2.71828183\n",
      "  2.71828183  2.71828183  2.71828183  2.71828183  2.71828183  2.71828183\n",
      "  2.71828183  2.71828183  2.71828183  2.71828183  2.71828183  2.71828183\n",
      "  2.71828183  2.71828183  2.71828183  2.71828183  2.71828183  2.71828183\n",
      "  2.71828183  2.71828183  2.71828183  2.71828183  2.71828183  2.71828183\n",
      "  2.71828183  2.71828183  2.71828183  2.71828183  2.71828183  2.71828183\n",
      "  2.71828183  2.71828183  2.71828183  2.71828183]\n",
      "2. All angles between 0, 360 inclusive\n",
      "[  0   1   2   3   4   5   6   7   8   9  10  11  12  13  14  15  16  17\n",
      "  18  19  20  21  22  23  24  25  26  27  28  29  30  31  32  33  34  35\n",
      "  36  37  38  39  40  41  42  43  44  45  46  47  48  49  50  51  52  53\n",
      "  54  55  56  57  58  59  60  61  62  63  64  65  66  67  68  69  70  71\n",
      "  72  73  74  75  76  77  78  79  80  81  82  83  84  85  86  87  88  89\n",
      "  90  91  92  93  94  95  96  97  98  99 100 101 102 103 104 105 106 107\n",
      " 108 109 110 111 112 113 114 115 116 117 118 119 120 121 122 123 124 125\n",
      " 126 127 128 129 130 131 132 133 134 135 136 137 138 139 140 141 142 143\n",
      " 144 145 146 147 148 149 150 151 152 153 154 155 156 157 158 159 160 161\n",
      " 162 163 164 165 166 167 168 169 170 171 172 173 174 175 176 177 178 179\n",
      " 180 181 182 183 184 185 186 187 188 189 190 191 192 193 194 195 196 197\n",
      " 198 199 200 201 202 203 204 205 206 207 208 209 210 211 212 213 214 215\n",
      " 216 217 218 219 220 221 222 223 224 225 226 227 228 229 230 231 232 233\n",
      " 234 235 236 237 238 239 240 241 242 243 244 245 246 247 248 249 250 251\n",
      " 252 253 254 255 256 257 258 259 260 261 262 263 264 265 266 267 268 269\n",
      " 270 271 272 273 274 275 276 277 278 279 280 281 282 283 284 285 286 287\n",
      " 288 289 290 291 292 293 294 295 296 297 298 299 300 301 302 303 304 305\n",
      " 306 307 308 309 310 311 312 313 314 315 316 317 318 319 320 321 322 323\n",
      " 324 325 326 327 328 329 330 331 332 333 334 335 336 337 338 339 340 341\n",
      " 342 343 344 345 346 347 348 349 350 351 352 353 354 355 356 357 358 359\n",
      " 360]\n",
      "3. Repeat 2, but in radians\n",
      "[ 0.          0.01745329  0.03490659  0.05235988  0.06981317  0.08726646\n",
      "  0.10471976  0.12217305  0.13962634  0.15707963  0.17453293  0.19198622\n",
      "  0.20943951  0.2268928   0.2443461   0.26179939  0.27925268  0.29670597\n",
      "  0.31415927  0.33161256  0.34906585  0.36651914  0.38397244  0.40142573\n",
      "  0.41887902  0.43633231  0.45378561  0.4712389   0.48869219  0.50614548\n",
      "  0.52359878  0.54105207  0.55850536  0.57595865  0.59341195  0.61086524\n",
      "  0.62831853  0.64577182  0.66322512  0.68067841  0.6981317   0.71558499\n",
      "  0.73303829  0.75049158  0.76794487  0.78539816  0.80285146  0.82030475\n",
      "  0.83775804  0.85521133  0.87266463  0.89011792  0.90757121  0.9250245\n",
      "  0.9424778   0.95993109  0.97738438  0.99483767  1.01229097  1.02974426\n",
      "  1.04719755  1.06465084  1.08210414  1.09955743  1.11701072  1.13446401\n",
      "  1.15191731  1.1693706   1.18682389  1.20427718  1.22173048  1.23918377\n",
      "  1.25663706  1.27409035  1.29154365  1.30899694  1.32645023  1.34390352\n",
      "  1.36135682  1.37881011  1.3962634   1.41371669  1.43116999  1.44862328\n",
      "  1.46607657  1.48352986  1.50098316  1.51843645  1.53588974  1.55334303\n",
      "  1.57079633  1.58824962  1.60570291  1.6231562   1.6406095   1.65806279\n",
      "  1.67551608  1.69296937  1.71042267  1.72787596  1.74532925  1.76278254\n",
      "  1.78023584  1.79768913  1.81514242  1.83259571  1.85004901  1.8675023\n",
      "  1.88495559  1.90240888  1.91986218  1.93731547  1.95476876  1.97222205\n",
      "  1.98967535  2.00712864  2.02458193  2.04203522  2.05948852  2.07694181\n",
      "  2.0943951   2.11184839  2.12930169  2.14675498  2.16420827  2.18166156\n",
      "  2.19911486  2.21656815  2.23402144  2.25147474  2.26892803  2.28638132\n",
      "  2.30383461  2.32128791  2.3387412   2.35619449  2.37364778  2.39110108\n",
      "  2.40855437  2.42600766  2.44346095  2.46091425  2.47836754  2.49582083\n",
      "  2.51327412  2.53072742  2.54818071  2.565634    2.58308729  2.60054059\n",
      "  2.61799388  2.63544717  2.65290046  2.67035376  2.68780705  2.70526034\n",
      "  2.72271363  2.74016693  2.75762022  2.77507351  2.7925268   2.8099801\n",
      "  2.82743339  2.84488668  2.86233997  2.87979327  2.89724656  2.91469985\n",
      "  2.93215314  2.94960644  2.96705973  2.98451302  3.00196631  3.01941961\n",
      "  3.0368729   3.05432619  3.07177948  3.08923278  3.10668607  3.12413936\n",
      "  3.14159265  3.15904595  3.17649924  3.19395253  3.21140582  3.22885912\n",
      "  3.24631241  3.2637657   3.28121899  3.29867229  3.31612558  3.33357887\n",
      "  3.35103216  3.36848546  3.38593875  3.40339204  3.42084533  3.43829863\n",
      "  3.45575192  3.47320521  3.4906585   3.5081118   3.52556509  3.54301838\n",
      "  3.56047167  3.57792497  3.59537826  3.61283155  3.63028484  3.64773814\n",
      "  3.66519143  3.68264472  3.70009801  3.71755131  3.7350046   3.75245789\n",
      "  3.76991118  3.78736448  3.80481777  3.82227106  3.83972435  3.85717765\n",
      "  3.87463094  3.89208423  3.90953752  3.92699082  3.94444411  3.9618974\n",
      "  3.97935069  3.99680399  4.01425728  4.03171057  4.04916386  4.06661716\n",
      "  4.08407045  4.10152374  4.11897703  4.13643033  4.15388362  4.17133691\n",
      "  4.1887902   4.2062435   4.22369679  4.24115008  4.25860337  4.27605667\n",
      "  4.29350996  4.31096325  4.32841654  4.34586984  4.36332313  4.38077642\n",
      "  4.39822972  4.41568301  4.4331363   4.45058959  4.46804289  4.48549618\n",
      "  4.50294947  4.52040276  4.53785606  4.55530935  4.57276264  4.59021593\n",
      "  4.60766923  4.62512252  4.64257581  4.6600291   4.6774824   4.69493569\n",
      "  4.71238898  4.72984227  4.74729557  4.76474886  4.78220215  4.79965544\n",
      "  4.81710874  4.83456203  4.85201532  4.86946861  4.88692191  4.9043752\n",
      "  4.92182849  4.93928178  4.95673508  4.97418837  4.99164166  5.00909495\n",
      "  5.02654825  5.04400154  5.06145483  5.07890812  5.09636142  5.11381471\n",
      "  5.131268    5.14872129  5.16617459  5.18362788  5.20108117  5.21853446\n",
      "  5.23598776  5.25344105  5.27089434  5.28834763  5.30580093  5.32325422\n",
      "  5.34070751  5.3581608   5.3756141   5.39306739  5.41052068  5.42797397\n",
      "  5.44542727  5.46288056  5.48033385  5.49778714  5.51524044  5.53269373\n",
      "  5.55014702  5.56760031  5.58505361  5.6025069   5.61996019  5.63741348\n",
      "  5.65486678  5.67232007  5.68977336  5.70722665  5.72467995  5.74213324\n",
      "  5.75958653  5.77703982  5.79449312  5.81194641  5.8293997   5.84685299\n",
      "  5.86430629  5.88175958  5.89921287  5.91666616  5.93411946  5.95157275\n",
      "  5.96902604  5.98647933  6.00393263  6.02138592  6.03883921  6.0562925\n",
      "  6.0737458   6.09119909  6.10865238  6.12610567  6.14355897  6.16101226\n",
      "  6.17846555  6.19591884  6.21337214  6.23082543  6.24827872  6.26573201\n",
      "  6.28318531]\n",
      "4. Array from 12 to 17, not including 17, in 0.2 increments\n",
      "[ 12.   12.2  12.4  12.6  12.8  13.   13.2  13.4  13.6  13.8  14.   14.2\n",
      "  14.4  14.6  14.8  15.   15.2  15.4  15.6  15.8  16.   16.2  16.4  16.6\n",
      "  16.8]\n",
      "4. Array from 12 to 17, including 17, in 0.2 increments\n",
      "[ 12.   12.2  12.4  12.6  12.8  13.   13.2  13.4  13.6  13.8  14.   14.2\n",
      "  14.4  14.6  14.8  15.   15.2  15.4  15.6  15.8  16.   16.2  16.4  16.6\n",
      "  16.8  17. ]\n"
     ]
    }
   ],
   "source": [
    "import numpy as np\n",
    "\n",
    "# problem 1\n",
    "a1 = np.zeros(100)\n",
    "a1 = a1+np.e\n",
    "\n",
    "# or, just combine the above steps\n",
    "a1 = np.zeros(100)+np.e\n",
    "print( \"1. 100 elements = 'e'\")\n",
    "print(a1)\n",
    "\n",
    "# problem 2\n",
    "a2 = np.arange(0, 361)\n",
    "print( \"2. All angles between 0, 360 inclusive\")\n",
    "print(a2)\n",
    "\n",
    "# problem 3\n",
    "a3 = a2*np.pi/180\n",
    "print( \"3. Repeat 2, but in radians\")\n",
    "print(a3)\n",
    "\n",
    "# problem 4\n",
    "a4 = np.arange( 12, 17, 0.2 )\n",
    "print( \"4. Array from 12 to 17, not including 17, in 0.2 increments\" )\n",
    "print(a4)\n",
    "\n",
    "# problem 5\n",
    "a5 = np.arange( 12, 17.1, 0.2 )\n",
    "print( \"4. Array from 12 to 17, including 17, in 0.2 increments\" )\n",
    "print(a5)"
   ]
  },
  {
   "cell_type": "markdown",
   "metadata": {},
   "source": [
    "## Chapter 3, Problems 3 and 4 - Solving motion equation\n",
    "Track the position of a dropping ball"
   ]
  },
  {
   "cell_type": "code",
   "execution_count": 3,
   "metadata": {},
   "outputs": [
    {
     "name": "stdout",
     "output_type": "stream",
     "text": [
      "[ 10.    9.5   9.    8.5   8.    7.5   7.    6.5   6.    5.5   5.    4.5\n",
      "   4.    3.5   3.    2.5   2.    1.5   1.    0.5]\n",
      "[ 0.          0.31943828  0.45175395  0.55328334  0.63887656  0.71428571\n",
      "  0.7824608   0.84515425  0.9035079   0.95831485  1.01015254  1.05945693\n",
      "  1.10656667  1.15175111  1.19522861  1.23717915  1.27775313  1.31707778\n",
      "  1.35526185  1.39239919]\n",
      "[ -1.56524758  -3.77884195  -4.9246827   -5.84158351  -6.63049517\n",
      "  -7.3340579   -7.97531375  -8.56844457  -9.12293148  -9.64549022\n",
      " -10.14108641 -10.61351563 -11.06575711 -11.50020061 -11.91879801\n",
      " -12.32316816 -12.71467146 -13.09446421 -13.46353913]\n"
     ]
    }
   ],
   "source": [
    "# This program computes the position of a dropping\n",
    "# ball under the influence of gravity\n",
    "\n",
    "from numpy import *   # note new form for importing a package\n",
    "\n",
    "h0 = 10    # initial height, m\n",
    "g = 9.8    # gravitational constant (m/s2)\n",
    "\n",
    "# create a sequence of spatial locations\n",
    "y  = arange( 10,-0.5, -0.5 )    # using the above import form allows\n",
    "                             # us to drop the np. prefix\n",
    "    \n",
    "# compute time sequences for each y above\n",
    "t = sqrt( 2*(h0-y)/g )\n",
    "\n",
    "# print results to console\n",
    "print( y ) \n",
    "print( t )\n",
    "\n",
    "# Problem 4 - find the average velocity for each time interval \n",
    "# the number of time intervals is one less than the number of times\n",
    "# To solve, we slice the datasets into two subsets that are offset by\n",
    "# one position, then compute the difference between element of the arras\n",
    "# to get the deltas\n",
    "length = len( y )\n",
    "yDelta = y[1:length]-y[0:length-1]\n",
    "tDelta = t[1:length]-t[0:length-1]\n",
    "avgVel = yDelta/tDelta\n",
    "\n",
    "print (avgVel)"
   ]
  },
  {
   "cell_type": "markdown",
   "metadata": {},
   "source": [
    "## Bonus Preview - Plotting results\n",
    "We will plot results from the preceding exercise using the MatPlotLib package.  This package is widely used and supported, and provides capabilities for generating a large variety of graphs, charts, and similar data visualizations."
   ]
  },
  {
   "cell_type": "code",
   "execution_count": null,
   "metadata": {},
   "outputs": [
    {
     "data": {
      "image/png": "[encoded data removed]",
      "text/plain": [
       "<matplotlib.figure.Figure at 0x7fef894d1fd0>"
      ]
     },
     "metadata": {},
     "output_type": "display_data"
    }
   ],
   "source": [
    "import matplotlib.pyplot as plt\n",
    "\n",
    "# plot some results!\n",
    "#plt.plot( avgVel )\n",
    "plt.plot( t,y )\n",
    "plt.xlabel(\"time\")\n",
    "plt.ylabel(\"position (y)\")\n",
    "plt.title( \"Position trace of a dropping ball\")\n",
    "plt.show()"
   ]
  },
  {
   "cell_type": "markdown",
   "metadata": {},
   "source": [
    "## Chapter 4, Problem 1 - Calculate a budget\n",
    "Write a Python program that calculates how much money you can spend each day for lunch for the rest of the month based on today’s date and how much money you currently have in your lunch account. The program should ask you: (1) how much money you have in your account, (2) what today’s date is, and (3) how many days there are in month. The program should return your daily allowance"
   ]
  },
  {
   "cell_type": "code",
   "execution_count": 14,
   "metadata": {},
   "outputs": [
    {
     "name": "stdout",
     "output_type": "stream",
     "text": [
      "How much money (in dollars) in your lunch account?300\n",
      "\n",
      "What day of the month is today?20\n",
      "\n",
      "How many days in this month?30\n",
      "\n",
      "You can spend $27.27 each day for the rest of the month.\n"
     ]
    }
   ],
   "source": [
    "# get available lunch money\n",
    "availCash = input( 'How much money (in dollars) in your lunch account?')\n",
    "availCash = float(availCash)   # convert to real (floating point) number\n",
    "\n",
    "# get current day, days/month\n",
    "dom = int( input('\\nWhat day of the month is today?') )\n",
    "dpm = int( input('\\nHow many days in this month?') )\n",
    "\n",
    "daysLeft = dpm-dom+1\n",
    "cashPerDay = availCash/daysLeft\n",
    "\n",
    "print( \"\\nYou can spend ${:.2f} each day for the rest of the month.\".format(cashPerDay))"
   ]
  },
  {
   "cell_type": "markdown",
   "metadata": {},
   "source": [
    "## Chapter 4, Problem 1 (extra)\n",
    "Create a dictionary that stores the number of days in each month (forget about leap years) and have your program ask what month it is rather than the number of days in the month."
   ]
  },
  {
   "cell_type": "code",
   "execution_count": null,
   "metadata": {},
   "outputs": [],
   "source": [
    "# get available lunch money\n",
    "availCash = input( 'How much money (in dollars) in your lunch account? ')\n",
    "availCash = float(availCash)   # convert to real (floating point) number\n",
    "\n",
    "# get current day, days/month\n",
    "dom = int( input('\\nWhat day of the month is today? ') )\n",
    "mon = input(\"\\nWhat MONTH is it (First three letters only, e.g. 'jan') \")\n",
    "\n",
    "# make dictionary (key=mont, value=days/month)\n",
    "dpmDict = { 'jan':31, 'feb':28, 'mar': 31, 'apr':30, 'may':31, 'jun':30,\n",
    "        'jul':31, 'aug':31, 'sep': 30, 'oct':31, 'nov':30, 'dec':31}\n",
    "\n",
    "dpm = dpmDict[mon]\n",
    "\n",
    "daysLeft = dpm-dom+1\n",
    "cashPerDay = availCash/daysLeft\n",
    "\n",
    "print( \"\\nYou can spend ${:.3} each day for the rest of the month.\".format(cashPerDay))"
   ]
  },
  {
   "cell_type": "markdown",
   "metadata": {},
   "source": [
    "## Chapter 4, Problem 2 - Packing Arrays\n",
    "Create three NumPy arrays.  Then use the zip() function to zip them together. Print d out at the terminal prompt. What kind of object is d? Hint: It is not a NumPy array. Convert d into a NumPy array and call that array e. Type e at the terminal prompt so that e is printed out on the IPython terminal. One of the elements of e is -8. Show how to address and print out just that element of e. Show how to address that same element of d. What has become of the three original arrays a, b, and c, that is, how do they appear in e?"
   ]
  },
  {
   "cell_type": "code",
   "execution_count": null,
   "metadata": {},
   "outputs": [],
   "source": [
    "from numpy import array\n",
    "\n",
    "# create three arrays\n",
    "a = array([1, 3, 5, 7])\n",
    "b = array([8, 7, 5, 4])\n",
    "c = array([0, 9,-6,-8])\n",
    "\n",
    "# zip them\n",
    "d = zip(a,b,c)\n",
    "d = list(d)\n",
    "print(\"Zip:\\n\", d)\n",
    "\n",
    "# convert to Numpy array\n",
    "e = array(d)\n",
    "print(\"Numpy Array:\\n\", e)\n",
    "\n",
    "# get element with the value -8 for e\n",
    "f = d[3][2]\n",
    "print(\"From d:\", f)\n",
    "\n",
    "# get element with the value -8 for e\n",
    "f = e[3][2]\n",
    "print(\"From e:\",f)\n",
    "\n",
    "#alternative\n",
    "f = e[-1][-1]\n",
    "print(\"From e:\",f)"
   ]
  },
  {
   "cell_type": "markdown",
   "metadata": {},
   "source": [
    "## Chapter 4, Problem 3 - Read data from a text file\n",
    "Using the (temp.txt) data file (created from the text), write a Python script to read it into a three\n",
    "NumPy arrays with the variable names f, a, da for the frequency, amplitude, and\n",
    "amplitude error. Show that you have correctly read in the data by having your script print out to your\n",
    "computer screen the three arrays."
   ]
  },
  {
   "cell_type": "code",
   "execution_count": 15,
   "metadata": {},
   "outputs": [
    {
     "ename": "FileNotFoundError",
     "evalue": "[Errno 2] No such file or directory: 'Ch4Pr3Data.txt'",
     "output_type": "error",
     "traceback": [
      "\u001b[0;31m---------------------------------------------------------------------------\u001b[0m",
      "\u001b[0;31mFileNotFoundError\u001b[0m                         Traceback (most recent call last)",
      "\u001b[0;32m<ipython-input-15-7d270375ea0a>\u001b[0m in \u001b[0;36m<module>\u001b[0;34m()\u001b[0m\n\u001b[1;32m      2\u001b[0m \u001b[0;34m\u001b[0m\u001b[0m\n\u001b[1;32m      3\u001b[0m \u001b[0;31m# read the text file with NumPy's 'loadtxt() function\u001b[0m\u001b[0;34m\u001b[0m\u001b[0;34m\u001b[0m\u001b[0m\n\u001b[0;32m----> 4\u001b[0;31m \u001b[0mf\u001b[0m\u001b[0;34m,\u001b[0m \u001b[0ma\u001b[0m\u001b[0;34m,\u001b[0m \u001b[0mda\u001b[0m \u001b[0;34m=\u001b[0m \u001b[0mnp\u001b[0m\u001b[0;34m.\u001b[0m\u001b[0mloadtxt\u001b[0m\u001b[0;34m(\u001b[0m\u001b[0;34m\"Ch4Pr3Data.txt\"\u001b[0m\u001b[0;34m,\u001b[0m \u001b[0mskiprows\u001b[0m\u001b[0;34m=\u001b[0m\u001b[0;36m4\u001b[0m \u001b[0;34m,\u001b[0m \u001b[0munpack\u001b[0m\u001b[0;34m=\u001b[0m\u001b[0;32mTrue\u001b[0m\u001b[0;34m)\u001b[0m  \u001b[0;31m# unpack=true mean to generate arrays from columns\u001b[0m\u001b[0;34m\u001b[0m\u001b[0m\n\u001b[0m\u001b[1;32m      5\u001b[0m \u001b[0;34m\u001b[0m\u001b[0m\n\u001b[1;32m      6\u001b[0m \u001b[0;31m# print f with four decimal places\u001b[0m\u001b[0;34m\u001b[0m\u001b[0;34m\u001b[0m\u001b[0m\n",
      "\u001b[0;32m/usr/local/lib/python3.5/dist-packages/numpy/lib/npyio.py\u001b[0m in \u001b[0;36mloadtxt\u001b[0;34m(fname, dtype, comments, delimiter, converters, skiprows, usecols, unpack, ndmin)\u001b[0m\n\u001b[1;32m    896\u001b[0m                 \u001b[0mfh\u001b[0m \u001b[0;34m=\u001b[0m \u001b[0miter\u001b[0m\u001b[0;34m(\u001b[0m\u001b[0mopen\u001b[0m\u001b[0;34m(\u001b[0m\u001b[0mfname\u001b[0m\u001b[0;34m,\u001b[0m \u001b[0;34m'U'\u001b[0m\u001b[0;34m)\u001b[0m\u001b[0;34m)\u001b[0m\u001b[0;34m\u001b[0m\u001b[0m\n\u001b[1;32m    897\u001b[0m             \u001b[0;32melse\u001b[0m\u001b[0;34m:\u001b[0m\u001b[0;34m\u001b[0m\u001b[0m\n\u001b[0;32m--> 898\u001b[0;31m                 \u001b[0mfh\u001b[0m \u001b[0;34m=\u001b[0m \u001b[0miter\u001b[0m\u001b[0;34m(\u001b[0m\u001b[0mopen\u001b[0m\u001b[0;34m(\u001b[0m\u001b[0mfname\u001b[0m\u001b[0;34m)\u001b[0m\u001b[0;34m)\u001b[0m\u001b[0;34m\u001b[0m\u001b[0m\n\u001b[0m\u001b[1;32m    899\u001b[0m         \u001b[0;32melse\u001b[0m\u001b[0;34m:\u001b[0m\u001b[0;34m\u001b[0m\u001b[0m\n\u001b[1;32m    900\u001b[0m             \u001b[0mfh\u001b[0m \u001b[0;34m=\u001b[0m \u001b[0miter\u001b[0m\u001b[0;34m(\u001b[0m\u001b[0mfname\u001b[0m\u001b[0;34m)\u001b[0m\u001b[0;34m\u001b[0m\u001b[0m\n",
      "\u001b[0;31mFileNotFoundError\u001b[0m: [Errno 2] No such file or directory: 'Ch4Pr3Data.txt'"
     ]
    }
   ],
   "source": [
    "import numpy as np\n",
    "\n",
    "# read the text file with NumPy's 'loadtxt() function \n",
    "f, a, da = np.loadtxt(\"Ch4Pr3Data.txt\", skiprows=4 , unpack=True)  # unpack=true mean to generate arrays from columns\n",
    "\n",
    "# print f with four decimal places\n",
    "np.set_printoptions(precision=4)\n",
    "print(f)\n",
    "\n",
    "# print a, da, with two decimal places \n",
    "np.set_printoptions(precision=2)\n",
    "print(a)\n",
    "print(da)"
   ]
  },
  {
   "cell_type": "markdown",
   "metadata": {},
   "source": [
    "## Chapter 4, Problem 4 - Writing data to text file\n",
    "Write a script to read the data from the previous problem into three NumPy arrays\n",
    "with the variable names f, a, da for the frequency, amplitude, and amplitude error\n",
    "and then, in the same script, write the data out to a data file, including the header,\n",
    "with the data displayed in three columns, just as its displayed in the problem above.\n",
    "It’s ok if the header lines begin with the # comment character. Your data file should\n",
    "have the extension .txt."
   ]
  },
  {
   "cell_type": "code",
   "execution_count": null,
   "metadata": {},
   "outputs": [],
   "source": [
    "import numpy as np\n",
    "\n",
    "# read the text file with NumPy's 'loadtxt()' function \n",
    "f, a, da = np.loadtxt(\"Ch4Pr3Data.txt\", skiprows=4 , unpack=True)  # unpack=true mean to generate arrays from columns\n",
    "\n",
    "\n",
    "# write it out as a new text file\n",
    "\n",
    "#first, we create the header\n",
    "hdr = 'Date: 2013-09-16'\n",
    "hdr += '\\nData taken by Liam and Selena'\n",
    "hdr += '\\nfrequency (Hz) amplitude (mm) amp error (mm)\\n'\n",
    "\n",
    "# then write the file\n",
    "np.savetxt( \"Temp.txt\", list(zip(f,a,da)), fmt=[\"%12.4f\",\"%12.2f\",\"%12.2f\"], header=hdr)  # note the zip transposes columns/rows"
   ]
  },
  {
   "cell_type": "markdown",
   "metadata": {},
   "source": [
    "## Chapter 4, Problem 5 - Writing data to a CSV file\n",
    "Write a script to read the data from the previous problem into three NumPy arrays\n",
    "with the variable names f, a, da for the frequency, amplitude, and amplitude error\n",
    "and then, in the same script, write the data out to a csv data file, without the header,\n",
    "to a data file with the data displayed in three columns. Use a single format specifier\n",
    "and set it to \"%0.16e\". If you have access the spreadsheet program (like MS\n",
    "Excel), try opening the file you have created with your Python script and verify that\n",
    "the arrays are displayed in three columns. Note that your csv file should have the\n",
    "extension .csv."
   ]
  },
  {
   "cell_type": "code",
   "execution_count": null,
   "metadata": {},
   "outputs": [],
   "source": [
    "import numpy as np\n",
    "\n",
    "# read the text file with NumPy's 'loadtxt()' function \n",
    "f, a, da = np.loadtxt(\"Ch4Pr3Data.txt\", skiprows=4 , unpack=True)  # unpack=true mean to generate arrays from columns\n",
    "\n",
    "# save with a comma as a delimiter, no header\n",
    "np.savetxt( \"Temp.csv\", list(zip(f,a,da)), delimiter=\",\", fmt=\"%0.16e\")"
   ]
  }
 ],
 "metadata": {
  "anaconda-cloud": {},
  "kernelspec": {
   "display_name": "Python 3",
   "language": "python",
   "name": "python3"
  },
  "language_info": {
   "codemirror_mode": {
    "name": "ipython",
    "version": 3
   },
   "file_extension": ".py",
   "mimetype": "text/x-python",
   "name": "python",
   "nbconvert_exporter": "python",
   "pygments_lexer": "ipython3",
   "version": "3.5.2"
  }
 },
 "nbformat": 4,
 "nbformat_minor": 1
}
