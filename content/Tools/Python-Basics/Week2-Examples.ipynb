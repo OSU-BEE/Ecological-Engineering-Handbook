{
 "cells": [
  {
   "cell_type": "markdown",
   "metadata": {},
   "source": [
    "## Example Programs - Week 2 (Python Data Types, Input/Output)\n",
    "\n",
    "Below, we explore some basic Python programs for representing and manipulating information using concepts from this week's class.  These examples are inteded to demonstrate basic programming concepts, debugging programs in the Python development environment, and using data sructures in programs."
   ]
  },
  {
   "cell_type": "markdown",
   "metadata": {},
   "source": [
    "## Chapter 3, Problem 1 - NumPy arrays\n",
    "Create at array of 9 evenly spaced numbers going from 0 to 29 (inclusive) and give it the variable name r. Find the square of each element of the array (as simply as possible). Find twice the value of each element of the array in two different ways: (i) using addition and (ii) using multiplication.\n",
    "\n",
    "\n",
    "Hint: ways to create a Numpy array\n",
    "\n",
    "| Numpy function | What it does  |\n",
    "|:------------- |:-------------|\n",
    "| `a = np.array([1,2,...,N])` | make an array of elements from a Python list |\n",
    "| `a = np.zeros(N)` | make an array of N items, all of which are set to a value of zero. |\n",
    "| `a = np.zeros(N,M)` | make a matrix (2D array) of N rows and M cols, all of which are set to a value of zero. |\n",
    "| `a = np.ones(N)` | make an array of N items, all of which are set to a value of 1. |\n",
    "| `a = np.arange({Start=0},Stop,{Step=1})` | make an array of evenly-spaced items on the interval [Start,End) |\n",
    "| `a = np.linspace(Start,Stop,Count)` | make an array of 'Count' evenly-spaced items on the interval [Start,End] |\n"
   ]
  },
  {
   "cell_type": "code",
   "execution_count": null,
   "metadata": {},
   "outputs": [],
   "source": [
    "import numpy as np\n"
   ]
  },
  {
   "cell_type": "markdown",
   "metadata": {},
   "source": [
    "## Chapter 3, Problem 2 - More NumPy arrays\n",
    "Create the following arrays:\n",
    "\n",
    "1. an array of 100 elements all equal to e, the base of the natural logarithm;\n",
    "2. an array in 1-degree increments of all the angles in degrees from 0 to 360 degrees;\n",
    "3. an array in 1-degree increments of all the angles in radians from 0 to 360 degrees;\n",
    "4. an array from 12 to 17, not including 17, in 0.2 increments;\n",
    "5. an array from 12 to 17, including 17, in 0.2 increments."
   ]
  },
  {
   "cell_type": "code",
   "execution_count": null,
   "metadata": {},
   "outputs": [],
   "source": []
  },
  {
   "cell_type": "markdown",
   "metadata": {},
   "source": [
    "## Chapter 3, Problems 3 and 4 - Solving motion equation\n",
    "Track the position of a dropping ball\n",
    "\n",
    "$\\large y = h_0 - \\frac{1}{2} g t^2 $\n",
    "\n",
    "Solving for t:\n",
    "\n",
    "$\\large t = \\sqrt{\\frac{2(h_0 - y)}{g}} $\n",
    "\n",
    "where g=9.8 m/(s^2).  Let h<sub>0</sub>=10m. Find the sequence of times when the ball passes each half meter assuming the ball is dropped at t=0. \n",
    "\n",
    "Hint: Create a NumPy array for y that goes from 10 to 0 in increments of -0.5 using the arange function. \n",
    "Using this equation and the array you created, find the sequence of times when the ball passes each half meter."
   ]
  },
  {
   "cell_type": "code",
   "execution_count": null,
   "metadata": {},
   "outputs": [],
   "source": [
    "# This program computes the position of a dropping\n",
    "# ball under the influence of gravity\n",
    "\n",
    "import numpy as np   # note new form for importing a package\n"
   ]
  },
  {
   "cell_type": "markdown",
   "metadata": {},
   "source": [
    "## Bonus Preview - Plotting results\n",
    "We will plot results from the preceding exercise using the MatPlotLib package.  This package is widely used and supported, and provides capabilities for generating a large variety of graphs, charts, and similar data visualizations."
   ]
  },
  {
   "cell_type": "code",
   "execution_count": null,
   "metadata": {},
   "outputs": [],
   "source": [
    "# next, import the pyplot charting module in matplotlib\n",
    "import matplotlib.pyplot as plt\n",
    "\n",
    "# plot some results!\n",
    "#plt.plot( avgVel )\n",
    "plt.plot( t,y )\n",
    "plt.xlabel(\"time\")\n",
    "plt.ylabel(\"position (y)\")\n",
    "plt.title( \"Position trace of a dropping ball\")\n",
    "plt.show()"
   ]
  },
  {
   "cell_type": "markdown",
   "metadata": {},
   "source": [
    "## Chapter 4, Problem 1 - Calculate a budget\n",
    "Write a Python program that calculates how much money you can spend each day for lunch for the rest of the month based on today’s date and how much money you currently have in your lunch account. The program should ask you: (1) how much money you have in your account, (2) what today’s date is, and (3) how many days there are in month. The program should return your daily allowance"
   ]
  },
  {
   "cell_type": "code",
   "execution_count": null,
   "metadata": {},
   "outputs": [],
   "source": []
  },
  {
   "cell_type": "markdown",
   "metadata": {},
   "source": [
    "## Chapter 4, Problem 1 (extra)\n",
    "Create a dictionary that stores the number of days in each month (forget about leap years) and have your program ask what month it is rather than the number of days in the month."
   ]
  },
  {
   "cell_type": "code",
   "execution_count": null,
   "metadata": {},
   "outputs": [],
   "source": []
  },
  {
   "cell_type": "markdown",
   "metadata": {},
   "source": [
    "## Chapter 4, Problem 2 - Packing Arrays\n",
    "Create three NumPy arrays.  Then use the zip() function to zip them together. Print d out at the terminal prompt. What kind of object is d? Hint: It is not a NumPy array. Convert d into a NumPy array and call that array e. Type e at the terminal prompt so that e is printed out on the IPython terminal. One of the elements of e is -8. Show how to address and print out just that element of e. Show how to address that same element of d. What has become of the three original arrays a, b, and c, that is, how do they appear in e?"
   ]
  },
  {
   "cell_type": "code",
   "execution_count": null,
   "metadata": {},
   "outputs": [],
   "source": []
  },
  {
   "cell_type": "markdown",
   "metadata": {},
   "source": [
    "## Chapter 4, Problem 3 - Read data from a text file\n",
    "Using the (temp.txt) data file (created from the text), write a Python script to read it into a three\n",
    "NumPy arrays with the variable names f, a, da for the frequency, amplitude, and\n",
    "amplitude error. Show that you have correctly read in the data by having your script print out to your\n",
    "computer screen the three arrays."
   ]
  },
  {
   "cell_type": "code",
   "execution_count": null,
   "metadata": {},
   "outputs": [],
   "source": []
  },
  {
   "cell_type": "markdown",
   "metadata": {},
   "source": [
    "## Chapter 4, Problem 4 - Writing data to text file\n",
    "Write a script to read the data from the previous problem into three NumPy arrays\n",
    "with the variable names f, a, da for the frequency, amplitude, and amplitude error\n",
    "and then, in the same script, write the data out to a data file, including the header,\n",
    "with the data displayed in three columns, just as its displayed in the problem above.\n",
    "It’s ok if the header lines begin with the # comment character. Your data file should\n",
    "have the extension .txt."
   ]
  },
  {
   "cell_type": "code",
   "execution_count": null,
   "metadata": {},
   "outputs": [],
   "source": []
  },
  {
   "cell_type": "markdown",
   "metadata": {},
   "source": [
    "## Chapter 4, Problem 5 - Writing data to a CSV file\n",
    "Write a script to read the data from the previous problem into three NumPy arrays\n",
    "with the variable names f, a, da for the frequency, amplitude, and amplitude error\n",
    "and then, in the same script, write the data out to a csv data file, without the header,\n",
    "to a data file with the data displayed in three columns. Use a single format specifier\n",
    "and set it to \"%0.16e\". If you have access the spreadsheet program (like MS\n",
    "Excel), try opening the file you have created with your Python script and verify that\n",
    "the arrays are displayed in three columns. Note that your csv file should have the\n",
    "extension .csv."
   ]
  },
  {
   "cell_type": "code",
   "execution_count": null,
   "metadata": {},
   "outputs": [],
   "source": []
  }
 ],
 "metadata": {
  "anaconda-cloud": {},
  "kernelspec": {
   "display_name": "Python 3",
   "language": "python",
   "name": "python3"
  },
  "language_info": {
   "codemirror_mode": {
    "name": "ipython",
    "version": 3
   },
   "file_extension": ".py",
   "mimetype": "text/x-python",
   "name": "python",
   "nbconvert_exporter": "python",
   "pygments_lexer": "ipython3",
   "version": "3.5.2"
  }
 },
 "nbformat": 4,
 "nbformat_minor": 1
}
