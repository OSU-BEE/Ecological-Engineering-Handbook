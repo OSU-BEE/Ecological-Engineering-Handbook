{
 "cells": [
  {
   "cell_type": "markdown",
   "metadata": {},
   "source": [
    "**5.5.1.** Plot the function y=3x^2 for -1 <= x <= 3 as a continuous line. Include enough points so that the curve you plot appears smooth. Label the axes x and y."
   ]
  },
  {
   "cell_type": "code",
   "execution_count": null,
   "metadata": {},
   "outputs": [],
   "source": [
    "import numpy as np\n",
    "import matplotlib.pyplot as plt\n",
    "\n",
    "x = np.linspace(-1,3,100)\n",
    "y = 3*x*x\n",
    "plt.plot(x, y)\n",
    "plt.xlabel( \"x\")\n",
    "plt.ylabel(\"y\")\n",
    "plt.show()"
   ]
  },
  {
   "cell_type": "markdown",
   "metadata": {},
   "source": [
    "** 5.5.2 ** Plot the function"
   ]
  },
  {
   "cell_type": "code",
   "execution_count": null,
   "metadata": {},
   "outputs": [],
   "source": [
    "import numpy as np\n",
    "import matplotlib.pyplot as plt\n",
    "\n",
    "x = np.linspace(-15,15,100)\n",
    "y = np.cos(x)/(1+0.2*x*x)\n",
    "plt.plot(x, y)\n",
    "plt.xlabel(\"x\")\n",
    "plt.ylabel(\"y\")\n",
    "plt.show()"
   ]
  },
  {
   "cell_type": "markdown",
   "metadata": {},
   "source": [
    "**5.5.3.** Plot the functions sin x and cos x vs x on the same plot with x going from -pi to pi. Make sure the limits of x-axis do not extend beyond the limits of the data. \n",
    "\n",
    "Plot sin x in the color green and cos x in the color black and include a legend to label the two curves. Place the legend within the plot, but such that it does not cover either of the sine or cosine traces."
   ]
  },
  {
   "cell_type": "code",
   "execution_count": null,
   "metadata": {},
   "outputs": [],
   "source": [
    "import numpy as np\n",
    "import matplotlib.pyplot as plt\n",
    "\n",
    "x = np.linspace(-np.pi, np.pi,100)\n",
    "plt.plot(x, np.sin(x), 'g' );\n",
    "plt.plot(x, np.cos(x), 'k' );\n",
    "plt.xlabel(\"x\")\n",
    "plt.legend(['sin','cos'])\n",
    "plt.show()"
   ]
  },
  {
   "cell_type": "markdown",
   "metadata": {},
   "source": [
    "** 5.5.4.** Read the data into Python program and plot t vs y using circles for data points with error bars. Use the data in the dy column as the error estimates for the y data. Label the horizontal and vertical axes “time (s)” and “position (cm)”.\n",
    "\n",
    "On the same graph, plot the function below as a smooth line. Make the line pass behind the data points."
   ]
  },
  {
   "cell_type": "code",
   "execution_count": null,
   "metadata": {},
   "outputs": [],
   "source": [
    "import numpy as np\n",
    "import matplotlib.pyplot as plt\n",
    "\n",
    "# read the data\n",
    "data = np.loadtxt( \"ex5.5.4_data.txt\", skiprows=5)\n",
    "print(data)\n",
    "\n",
    "# slice the columns\n",
    "t= data[:,0]\n",
    "y= data[:,1]\n",
    "dy=data[:,2]\n",
    "\n",
    "# plot the results\n",
    "plt.errorbar(t,y, yerr=dy, fmt='o')\n",
    "\n",
    "_t = np.linspace( np.min(t), np.max(t), 100 )\n",
    "_y = (3+0.5*np.sin(np.pi*_t/5))*_t*np.exp(-_t/10)\n",
    "\n",
    "plt.plot(_t,_y)\n",
    "plt.errorbar(t,y, yerr=dy, fmt='o')\n",
    "\n",
    "plt.xlabel(\"time (s)\")\n",
    "plt.ylabel(\"position (cm)\")\n",
    "plt.show()"
   ]
  },
  {
   "cell_type": "markdown",
   "metadata": {},
   "source": [
    "** 5.5.5 ** Use MatPlotLib’s function hist along with NumPy’s function’s random.rand and random.randn to create the histogram graphs shown in Fig. Histograms of random numbers from the text."
   ]
  },
  {
   "cell_type": "code",
   "execution_count": null,
   "metadata": {},
   "outputs": [],
   "source": [
    "import numpy as np\n",
    "import matplotlib.pyplot as plt\n",
    "\n",
    "x_gaussian = np.random.randn(10000)\n",
    "x_uniform = np.random.rand(10000)\n",
    "\n",
    "plt.hist(x_gaussian,color='green',bins=40,normed=True)\n",
    "plt.hist(x_uniform,color='blue',bins=20,normed=True,alpha=0.5)\n",
    "\n",
    "plt.xlabel(\"x)\")\n",
    "plt.ylabel(\"P(x)\")\n",
    "plt.show()"
   ]
  },
  {
   "cell_type": "markdown",
   "metadata": {},
   "source": [
    "**5.5.7.1** Use these data to calculate the velocity and acceleration (in a Python program .py file), together with their uncertainties propagated from the displacement vs time uncertainties. Be sure to calculate time arrays corresponding the midpoint in time between the two displacements or velocities for the velocity and acceleration arrays, respectively."
   ]
  },
  {
   "cell_type": "code",
   "execution_count": null,
   "metadata": {
    "scrolled": false
   },
   "outputs": [],
   "source": [
    "import numpy as np\n",
    "import matplotlib.pyplot as plt\n",
    "\n",
    "# read the data\n",
    "data = np.loadtxt( \"ex5.5.7_data.txt\", skiprows=4)\n",
    "#print(data)\n",
    "\n",
    "# slice the columns\n",
    "t=data[:,0]\n",
    "y=data[:,1]\n",
    "u=data[:,2]\n",
    "\n",
    "# calculate velocities and accelerations at the midpoint of each pair of time point\n",
    "\n",
    "# using a for loop\n",
    "times = np.zeros(len(t)-1)\n",
    "for i in range(0,len(times)):\n",
    "    times[i] = (t[i+1]+t[i])/2\n",
    "#print (times)\n",
    "\n",
    "# using slicing\n",
    "t0 = t[0:-1]    # start to just before end\n",
    "t1 = t[1:]      # position 1 to end\n",
    "v_times = (t0+t1)/2\n",
    "print(\"Times ({}): {}\".format(len(v_times), v_times))\n",
    "\n",
    "# get delta T's, delta Y's\n",
    "dts = t1-t0\n",
    "dys = y[1:] - y[:-1]\n",
    "velocities = dys/dts\n",
    "#print(\"Velocities ({}): {}\".format(len(velocities), velocities))\n",
    "\n",
    "# For acceleration, need delta v for each time location\n",
    "# We evaluate at these at the mid points of the Vel vs. time points\n",
    "# which correspnd to the \n",
    "a_times = t[1:-1]   # get the time locations for the accelerations\n",
    "dvs = velocities[1:]-velocities[:-1]\n",
    "accelerations = dvs/0.5\n",
    "#print(\"Accelerations ({}): {}\".format(len(accelerations), accelerations ))\n",
    "\n",
    "# plot the results\n",
    "\n",
    "# first plot\n",
    "plt.figure(figsize=(10,10))\n",
    "plt.subplot(3,1,1)            \n",
    "plt.plot(t,y)\n",
    "plt.xlabel(\"time (s)\")\n",
    "plt.ylabel(\"position (m)\")\n",
    "plt.xlim(0,10)\n",
    "              \n",
    "# second  plot\n",
    "plt.subplot(3,1,2)            \n",
    "plt.plot( times, velocities)\n",
    "plt.xlabel(\"time (s)\")\n",
    "plt.ylabel(\"velocity (m/s)\")\n",
    "plt.xlim(0,10)\n",
    "\n",
    "# third  plot\n",
    "plt.subplot(3,1,3)            \n",
    "plt.plot( a_times, accelerations)\n",
    "plt.xlabel(\"time (s)\")\n",
    "plt.ylabel(\"acceleration (m/s/s)\")\n",
    "plt.xlim(0,10)\n",
    "\n",
    "plt.tight_layout()\n",
    "\n",
    "plt.show()"
   ]
  },
  {
   "cell_type": "markdown",
   "metadata": {},
   "source": [
    "** 6.4.1 ** Write a program to calculate the factorial of a positive integer input by the user. Recall that the factorial function is given by x! = x (x-1) (x-2) ... (2) (1) so that 1!=1, 2!=2, 3!=6, 4!=24, ...\n",
    "\n",
    "Write the factorial function using a Python while loop.\n",
    "\n",
    "Write the factorial function using a Python for loop.\n",
    "\n",
    "Check your programs to make sure they work for 1, 2, 3, 5, and beyond, but especially for the first 5 integers."
   ]
  },
  {
   "cell_type": "code",
   "execution_count": null,
   "metadata": {},
   "outputs": [],
   "source": [
    "nn = input( \"Enter an integer number >= 0: \")\n",
    "n = int(nn)\n",
    "\n",
    "# while loop version\n",
    "factorial = 1\n",
    "while n > 0:\n",
    "    factorial = n*factorial\n",
    "    n -= 1\n",
    "    \n",
    "print(\"While Loop: \", factorial)\n",
    "\n",
    "\n",
    "# for loop version\n",
    "n = int(nn)\n",
    "factorial = 1\n",
    "for i in range(1,n+1):\n",
    "    factorial *= i\n",
    "    \n",
    "print(\"For Loop: \", factorial)"
   ]
  },
  {
   "cell_type": "markdown",
   "metadata": {},
   "source": [
    "** 6.4.2 ** The following Python program finds the smallest non-trivial (not 1) prime factor of a positive integer.\n",
    "\n",
    "Modify the program so that it tells you if the integer input is a prime number or not. If it is not a prime number, write your program so that it prints out the smallest prime factor. Using your program verify that the following integers are prime numbers: 101, 8191, 947431."
   ]
  },
  {
   "cell_type": "code",
   "execution_count": null,
   "metadata": {},
   "outputs": [],
   "source": [
    "n = int(input(\"Input an integer > 1: \"))\n",
    "i = 2\n",
    "\n",
    "while (n % i) != 0:\n",
    "    i += 1\n",
    "\n",
    "#print(\"The smallest factor of n is:\", i )\n",
    "\n",
    "if n == i:\n",
    "    print( \"{} is a prime number!\".format(n))\n",
    "else:\n",
    "    print( \"{} is a not prime number!  Smallest factor is {}\".format(n,i))\n"
   ]
  },
  {
   "cell_type": "markdown",
   "metadata": {},
   "source": [
    "** 6.4.3 ** Consider the matrix list x = [[1, 2, 3], [4, 5, 6], [7, 8, 9]]. Write a list comprehension to extract the last column of the matrix [3, 6, 9]. Write another list comprehension to create a vector of twice the square of the middle column [8, 50, 128]."
   ]
  },
  {
   "cell_type": "code",
   "execution_count": null,
   "metadata": {},
   "outputs": [],
   "source": [
    "x = [[1, 2, 3], [4, 5, 6], [7, 8, 9]]\n",
    "\n",
    "y = [xx[-1] for xx in x ]\n",
    "\n",
    "z = [2*xx[1]*xx[1] for xx in x]\n",
    "\n",
    "print(y)\n",
    "print(z)\n"
   ]
  },
  {
   "cell_type": "markdown",
   "metadata": {},
   "source": [
    "** 6.4.4.** Write a program that calculates the value of an investment after some number of years specified by the user if\n",
    "\n",
    "1. the principal is compounded annually\n",
    "2. the principle is compounded monthly\n",
    "3. the principle is compounded daily\n",
    "\n",
    "Your program should ask the user for the initial investment (principal), the interest rate in percent, and the number of years the money will be invested (allow for fractional years). For an initial investment of \\$1000 at an interest rate of 6%, after 10 years I get \\$1790.85 when compounded annually, \\$1819.40 when compounded monthly, and \\$1822.03 when compounded daily, assuming 12 months in a year and 365.24 days in a year, where the monthly interest rate is the annual rate divided by 12 and the daily rate is the annual rate divided by 365 (don’t worry about leap years)."
   ]
  },
  {
   "cell_type": "code",
   "execution_count": null,
   "metadata": {},
   "outputs": [],
   "source": [
    "years = int(input(\"Enter years: \" ))        # years\n",
    "value = int(input(\"Initial Investment: \" )) # $\n",
    "rate = float(input(\"Annual Rate: \"))        # per year\n",
    "\n",
    "# Annual compounding (period=1)\n",
    "for i in range(0,years):\n",
    "    interest = value * rate\n",
    "    value += interest\n",
    "    \n",
    "print( \"After {} years with annual compounding, your investment is worth ${:.2f}\".format(years, value))\n",
    "\n",
    "# monthly compounding (period=1/12)\n",
    "value = 1000\n",
    "for i in range(0,10*12):\n",
    "    interest = value * rate/12\n",
    "    value += interest\n",
    "    \n",
    "print( \"After {} years with monthly compounding, your investment is worth ${:.2f}\".format(years, value))\n",
    "\n",
    "# daily compounding (period=1/365)\n",
    "value = 1000\n",
    "for i in range(0,int(10*365)):\n",
    "    interest = value * rate/365\n",
    "    value += interest\n",
    "    \n",
    "print( \"After {} years with daily compounding, your investment is worth ${:.2f}\".format(years, value))\n"
   ]
  },
  {
   "cell_type": "markdown",
   "metadata": {},
   "source": [
    "** 6.4.5 ** Write a program that determines the day of the week for any given calendar date after January 1, 1900, which was a Monday. Your program will need to take into account leap years, which occur in every year that is divisible by 4, except for years that are divisible by 100 but are not divisible by 400. For example, 1900 was not a leap year, but 2000 was a leap year. \n",
    "\n",
    "Test that your program gives the following answers:\n",
    "- Monday 1900 January 1,\n",
    "- Tuesday 1933 December 5\n",
    "- Wednesday 1993 June 23\n",
    "- Thursday 1953 January 15\n",
    "- Friday 1963 November 22\n",
    "- Saturday 1919 June 28\n",
    "- Sunday 2005 August 28."
   ]
  },
  {
   "cell_type": "code",
   "execution_count": null,
   "metadata": {},
   "outputs": [],
   "source": [
    "# reference dates\n",
    "month = int(input(\"Enter one-based month: \" ))\n",
    "month -= 1\n",
    "day = int (input(\"Enter day of month: \"))\n",
    "year = int(input(\"Enter year: \"))\n",
    "\n",
    "dpm = (31,28,31,30,31,30,31,31,30,31,30,31)\n",
    "dow = ('Monday', 'Tuesday', 'Wednesday', 'Thursday', 'Friday', 'Saturday', 'Sunday') \n",
    "\n",
    "# brute force - count days since Jan 1, 1990\n",
    "days = 0\n",
    "y = 1900\n",
    "m = 0\n",
    "d = 1\n",
    "\n",
    "for i in range( 1900,year ):\n",
    "    # check for a leap year\n",
    "    if i % 4 == 0 and not(i % 100 == 0 and i % 400 != 0):\n",
    "        days += 366\n",
    "    else:\n",
    "        days += 365\n",
    "    \n",
    "# we are now to the right year, get to the right month\n",
    "for i in range(0,month):\n",
    "    days += dpm[i]\n",
    "    if i == 1 and  year % 4 == 0 and (year % 100 != 0 and year % 400 == 0):\n",
    "        days += 1\n",
    "        \n",
    "days += day\n",
    "days -= 1\n",
    "           \n",
    "print( \"{}/{}/{} was a {}\".format(month,day,year,dow[days%7]))"
   ]
  },
  {
   "cell_type": "markdown",
   "metadata": {},
   "source": [
    "### An extra - Hangman"
   ]
  },
  {
   "cell_type": "code",
   "execution_count": null,
   "metadata": {},
   "outputs": [],
   "source": [
    "#importing the time module\n",
    "import time\n",
    "\n",
    "#welcoming the user\n",
    "name = input(\"What is your name? \")\n",
    "print( \"Hello, \" + name, \"Time to play hangman!\")\n",
    "\n",
    "#wait for 1 second\n",
    "time.sleep(1)\n",
    "\n",
    "print( \"Start guessing...\")\n",
    "time.sleep(0.5)\n",
    "\n",
    "#here we set the secret word\n",
    "word = \"secret\"\n",
    "\n",
    "#creates an variable with an empty value\n",
    "guesses = ''\n",
    "\n",
    "#determine the number of turns\n",
    "turns = 10\n",
    "\n",
    "# Create a while loop\n",
    "\n",
    "#check if the turns are more than zero\n",
    "while turns > 0:         \n",
    "\n",
    "    # make a counter that starts with zero\n",
    "    failed = 0             \n",
    "\n",
    "    # for every character in secret_word    \n",
    "    for char in word:      \n",
    "\n",
    "    # see if the character is in the players guess\n",
    "        if char in guesses:    \n",
    "    \n",
    "        # print then out the character\n",
    "            print (char+\" \", end='')    \n",
    "\n",
    "        else:\n",
    "    \n",
    "        # if not found, print a dash\n",
    "            print (\"_ \", end='')     \n",
    "       \n",
    "        # and increase the failed counter with one\n",
    "            failed += 1    \n",
    "\n",
    "    # if failed is equal to zero\n",
    "    # print You Won\n",
    "    if failed == 0:        \n",
    "        print (\"\\nYou won!\")  \n",
    "        break              \n",
    "\n",
    "    # ask the user to guess a character\n",
    "    guess = input(\"   Guess a character:\") \n",
    "\n",
    "    # set the players guess to guesses\n",
    "    guesses += guess                    \n",
    "\n",
    "    # if the guess is not found in the secret word\n",
    "    if guess not in word:  \n",
    " \n",
    "        # turns counter decreases with 1 (now 9)\n",
    "        turns -= 1        \n",
    " \n",
    "        # print wrong\n",
    "        print (\"Wrong answer... You have \", turns, ' more guesses') \n",
    " \n",
    "        # if the turns are equal to zero, finish!\n",
    "        if turns == 0:           \n",
    "            print (\"You Loose\")"
   ]
  },
  {
   "cell_type": "code",
   "execution_count": null,
   "metadata": {},
   "outputs": [],
   "source": []
  }
 ],
 "metadata": {
  "kernelspec": {
   "display_name": "Python 3",
   "language": "python",
   "name": "python3"
  },
  "language_info": {
   "codemirror_mode": {
    "name": "ipython",
    "version": 3
   },
   "file_extension": ".py",
   "mimetype": "text/x-python",
   "name": "python",
   "nbconvert_exporter": "python",
   "pygments_lexer": "ipython3",
   "version": "3.5.2"
  }
 },
 "nbformat": 4,
 "nbformat_minor": 2
}
