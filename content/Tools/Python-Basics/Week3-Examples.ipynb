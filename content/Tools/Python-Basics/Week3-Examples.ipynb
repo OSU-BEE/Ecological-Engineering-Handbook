{
 "cells": [
  {
   "cell_type": "markdown",
   "metadata": {},
   "source": [
    "**5.5.1.** Plot the function y=3x^2 for -1 <= x <= 3 as a continuous line. Include enough points so that the curve you plot appears smooth. Label the axes x and y."
   ]
  },
  {
   "cell_type": "code",
   "execution_count": 4,
   "metadata": {},
   "outputs": [
    {
     "data": {
      "image/png": "[encoded data removed]",
      "text/plain": [
       "<matplotlib.figure.Figure at 0x7f96d82abd68>"
      ]
     },
     "metadata": {},
     "output_type": "display_data"
    }
   ],
   "source": [
    "import numpy as np\n",
    "import matplotlib.pyplot as plt\n",
    "\n",
    "x = np.linspace(-1,3,100)\n",
    "y = 3*x*x\n",
    "plt.plot(x,y,color='green',linewidth=10)\n",
    "\n",
    "plt.xlabel('x')\n",
    "plt.ylabel('y')\n",
    "\n",
    "plt.show()"
   ]
  },
  {
   "cell_type": "markdown",
   "metadata": {},
   "source": [
    "** 5.5.2 ** Plot the function: \n",
    "\n",
    "$\\large y=\\frac{cos(x)}{1+\\frac{1}{5} x^2 }$ \n",
    "\n",
    "over the interval [-15,15]"
   ]
  },
  {
   "cell_type": "code",
   "execution_count": null,
   "metadata": {},
   "outputs": [],
   "source": [
    "import numpy as np\n",
    "import matplotlib.pyplot as plt\n"
   ]
  },
  {
   "cell_type": "markdown",
   "metadata": {},
   "source": [
    "**5.5.3.** Plot the functions sin x and cos x vs x on the same plot with x going from -pi to pi. Make sure the limits of x-axis do not extend beyond the limits of the data. \n",
    "\n",
    "Plot sin x in the color green and cos x in the color black and include a legend to label the two curves. Place the legend within the plot, but such that it does not cover either of the sine or cosine traces."
   ]
  },
  {
   "cell_type": "code",
   "execution_count": null,
   "metadata": {},
   "outputs": [],
   "source": [
    "import numpy as np\n",
    "import matplotlib.pyplot as plt\n",
    "\n"
   ]
  },
  {
   "cell_type": "markdown",
   "metadata": {},
   "source": [
    "** 5.5.4.** Read the data into Python program and plot t vs y using circles for data points with error bars. Use the data in the dy column as the error estimates for the y data. Label the horizontal and vertical axes “time (s)” and “position (cm)”.\n",
    "\n",
    "On the same graph, plot the function below as a smooth line. Make the line pass behind the data points."
   ]
  },
  {
   "cell_type": "code",
   "execution_count": null,
   "metadata": {},
   "outputs": [],
   "source": [
    "import numpy as np\n",
    "import matplotlib.pyplot as plt\n",
    "\n",
    "\n",
    "data = np.loadtxt('data.txt', skiprows=5)\n",
    "#print(data)\n",
    "\n",
    "\n"
   ]
  },
  {
   "cell_type": "markdown",
   "metadata": {},
   "source": [
    "** 5.5.5 ** Use MatPlotLib’s function hist along with NumPy’s function’s random.rand and random.randn to create the histogram graphs shown in Fig. Histograms of random numbers from the text."
   ]
  },
  {
   "cell_type": "code",
   "execution_count": null,
   "metadata": {},
   "outputs": [],
   "source": [
    "import numpy as np\n",
    "import matplotlib.pyplot as plt\n",
    "\n"
   ]
  },
  {
   "cell_type": "markdown",
   "metadata": {},
   "source": [
    "**5.5.7.1** Use these data to calculate the velocity and acceleration (in a Python program .py file), together with their uncertainties propagated from the displacement vs time uncertainties. Be sure to calculate time arrays corresponding the midpoint in time between the two displacements or velocities for the velocity and acceleration arrays, respectively."
   ]
  },
  {
   "cell_type": "code",
   "execution_count": null,
   "metadata": {
    "scrolled": false
   },
   "outputs": [],
   "source": [
    "import numpy as np\n",
    "import matplotlib.pyplot as plt\n",
    "\n"
   ]
  },
  {
   "cell_type": "markdown",
   "metadata": {},
   "source": [
    "** 6.4.1 ** Write a program to calculate the factorial of a positive integer input by the user. Recall that the factorial function is given by x! = x (x-1) (x-2) ... (2) (1) so that 1!=1, 2!=2, 3!=6, 4!=24, ...\n",
    "\n",
    "Write the factorial function using a Python while loop.\n",
    "\n",
    "Write the factorial function using a Python for loop.\n",
    "\n",
    "Check your programs to make sure they work for 1, 2, 3, 5, and beyond, but especially for the first 5 integers."
   ]
  },
  {
   "cell_type": "code",
   "execution_count": null,
   "metadata": {},
   "outputs": [],
   "source": []
  },
  {
   "cell_type": "markdown",
   "metadata": {},
   "source": [
    "** 6.4.2 ** The following Python program finds the smallest non-trivial (not 1) prime factor of a positive integer.\n",
    "\n",
    "Modify the program so that it tells you if the integer input is a prime number or not. If it is not a prime number, write your program so that it prints out the smallest prime factor. Using your program verify that the following integers are prime numbers: 101, 8191, 947431."
   ]
  },
  {
   "cell_type": "code",
   "execution_count": null,
   "metadata": {},
   "outputs": [],
   "source": []
  },
  {
   "cell_type": "markdown",
   "metadata": {},
   "source": [
    "** 6.4.3 ** Consider the matrix list x = [[1, 2, 3], [4, 5, 6], [7, 8, 9]]. Write a list comprehension to extract the last column of the matrix [3, 6, 9]. Write another list comprehension to create a vector of twice the square of the middle column [8, 50, 128]."
   ]
  },
  {
   "cell_type": "code",
   "execution_count": null,
   "metadata": {},
   "outputs": [],
   "source": []
  },
  {
   "cell_type": "markdown",
   "metadata": {},
   "source": [
    "** 6.4.4.** Write a program that calculates the value of an investment after some number of years specified by the user if\n",
    "\n",
    "1. the principal is compounded annually\n",
    "2. the principle is compounded monthly\n",
    "3. the principle is compounded daily\n",
    "\n",
    "Your program should ask the user for the initial investment (principal), the interest rate in percent, and the number of years the money will be invested (allow for fractional years). For an initial investment of \\$1000 at an interest rate of 6%, after 10 years I get \\$1790.85 when compounded annually, \\$1819.40 when compounded monthly, and \\$1822.03 when compounded daily, assuming 12 months in a year and 365.24 days in a year, where the monthly interest rate is the annual rate divided by 12 and the daily rate is the annual rate divided by 365 (don’t worry about leap years)."
   ]
  },
  {
   "cell_type": "code",
   "execution_count": null,
   "metadata": {},
   "outputs": [],
   "source": []
  },
  {
   "cell_type": "markdown",
   "metadata": {},
   "source": [
    "** 6.4.5 ** Write a program that determines the day of the week for any given calendar date after January 1, 1900, which was a Monday. Your program will need to take into account leap years, which occur in every year that is divisible by 4, except for years that are divisible by 100 but are not divisible by 400. For example, 1900 was not a leap year, but 2000 was a leap year. \n",
    "\n",
    "Test that your program gives the following answers:\n",
    "- Monday 1900 January 1,\n",
    "- Tuesday 1933 December 5\n",
    "- Wednesday 1993 June 23\n",
    "- Thursday 1953 January 15\n",
    "- Friday 1963 November 22\n",
    "- Saturday 1919 June 28\n",
    "- Sunday 2005 August 28."
   ]
  },
  {
   "cell_type": "code",
   "execution_count": null,
   "metadata": {},
   "outputs": [],
   "source": []
  }
 ],
 "metadata": {
  "kernelspec": {
   "display_name": "Python 3",
   "language": "python",
   "name": "python3"
  },
  "language_info": {
   "codemirror_mode": {
    "name": "ipython",
    "version": 3
   },
   "file_extension": ".py",
   "mimetype": "text/x-python",
   "name": "python",
   "nbconvert_exporter": "python",
   "pygments_lexer": "ipython3",
   "version": "3.5.2"
  }
 },
 "nbformat": 4,
 "nbformat_minor": 2
}
