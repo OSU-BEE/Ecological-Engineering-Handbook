{
 "cells": [
  {
   "cell_type": "markdown",
   "metadata": {},
   "source": [
    "# Challenge Programs - Week 4 (Functions and a little Pandas)\n",
    "\n"
   ]
  },
  {
   "cell_type": "markdown",
   "metadata": {},
   "source": [
    "## Find factors of a number\n",
    "\n",
    "Write a function `GetFactors(x)` that takes a number 'x' and returns a list of all the factors of x.\n",
    "\n",
    "Use this function to print a list of all factors of 320"
   ]
  },
  {
   "cell_type": "code",
   "execution_count": null,
   "metadata": {},
   "outputs": [],
   "source": [
    "# Python Program to find the factors of a number\n"
   ]
  },
  {
   "cell_type": "markdown",
   "metadata": {},
   "source": [
    "## Application of Mannings equation\n",
    "\n",
    "Mannings equation is often used to estimate the flow velocity in natural channels based on the channel geometry (D<sub>H</sub>, m), the channel slope ($\\theta$, radians), and a \"roughness\" coefficient (n) that relates to the friction generated along the channel bottom/sides. \n",
    "\n",
    ">$ \\displaystyle V = \\frac{1}{n} \\left( \\frac{R_H}{4}\\right)^{(2/3)} \\sqrt { \\sin \\theta } $\n",
    "\n",
    "R<sub>H</sub> is the *hydraulic radius* (defined as the crss sectional channel area/*wetted perimeter*).  For rectangular channels, the wetted perimeter = channel width + 2*channel height.  Mannings equation assumes steady, uniform, turbulent flow.\n",
    "\n",
    "Write a function `ManningsVelocity()` that solves Mannings equation for rectangular channels with given values of width, height, $\\theta$, and n, and returns the flow velocity (m/s)\n",
    "\n",
    "Call this function to estimate flow velocities for the following four channels:\n",
    "\n",
    "| Channel | Width (m) | Height (m) | Slope (degrees) | n (s/m<sup>(1/3)</sup>) |\n",
    "|---|:---:|:---:|:---:|:---:|\n",
    "| 1 | 30 | 1 | 2 | 0.05 |\n",
    "| 2 | 10 | 3 | 2 | 0.05 |\n",
    "| 3 | 10 | 3 | 4 | 0.05 |\n",
    "| 4 | 10 | 3 | 4 | 0.025|\n",
    "\n",
    "Print the channels characteristics and resulting flow velocities for each channel."
   ]
  },
  {
   "cell_type": "code",
   "execution_count": null,
   "metadata": {},
   "outputs": [],
   "source": [
    "import numpy as np\n"
   ]
  },
  {
   "cell_type": "markdown",
   "metadata": {
    "collapsed": true
   },
   "source": [
    "## Data Analysis using Pandas\n",
    "\n",
    "**The first part of this challenge is to load and plot some data.**\n",
    "\n",
    "Use the `pandas` library to load the dataset at: http://explorer.bee.oregonstate.edu/Topic/Modeling/data/AgrimetClimateCRVO.xlsx. \n",
    "\n",
    "Use the `matplotlib.pyplot` library to plot the data.  This dataset contains, among other things, columns labeled 'Date', TempMin-F' and 'TempMax-F', which you should extract from this dataset.  Generate a plot of the two Temperatures vs. Date on a single plot. Include a legend on the plot.  Draw the min temperature in blue, and the max temperature in red."
   ]
  },
  {
   "cell_type": "code",
   "execution_count": null,
   "metadata": {},
   "outputs": [],
   "source": [
    "import pandas as pd\n",
    "import matplotlib.pyplot as plt\n",
    "\n"
   ]
  },
  {
   "cell_type": "markdown",
   "metadata": {},
   "source": [
    "#### For the second part of this challenge ...\n",
    "\n",
    ", define a function `GrowingDegreeDays()` that calculates the **growing degree days (GDDs)** \n",
    "accumlated over a day.  GDDs are defined as the difference between the \n",
    "**mean daily air temperature** and a **base temperature** \n",
    "if the mean daily air temperature is greater than the base temperature.   If the mean air temperature is less than the base temperature, no degree days are accumulated.  \n",
    "\n",
    "Mean air temperature is defined as the average between the min and max air temperatures for the day, unless the max air temperature > 86F; in this case, the mean air temperature is defined as 86F-min air temperature.\n",
    "For each day (row) in the dataset, calculate the GDD for that day, **assuming a base temperature of 50F**, and collect all GDDs into an array\n",
    "\n",
    "Plot GDD vs Day.  Label the x and y axes.\n",
    "\n",
    "Report the sum of the daily GDD's over the observational period."
   ]
  },
  {
   "cell_type": "code",
   "execution_count": null,
   "metadata": {},
   "outputs": [],
   "source": [
    "import pandas as pd\n",
    "import numpy as np\n",
    "import matplotlib.pyplot as plt\n",
    "\n"
   ]
  }
 ],
 "metadata": {
  "anaconda-cloud": {},
  "kernelspec": {
   "display_name": "Python 3",
   "language": "python",
   "name": "python3"
  },
  "language_info": {
   "codemirror_mode": {
    "name": "ipython",
    "version": 3
   },
   "file_extension": ".py",
   "mimetype": "text/x-python",
   "name": "python",
   "nbconvert_exporter": "python",
   "pygments_lexer": "ipython3",
   "version": "3.5.2"
  },
  "varInspector": {
   "cols": {
    "lenName": 16,
    "lenType": 16,
    "lenVar": 40
   },
   "kernels_config": {
    "python": {
     "delete_cmd_postfix": "",
     "delete_cmd_prefix": "del ",
     "library": "var_list.py",
     "varRefreshCmd": "print(var_dic_list())"
    },
    "r": {
     "delete_cmd_postfix": ") ",
     "delete_cmd_prefix": "rm(",
     "library": "var_list.r",
     "varRefreshCmd": "cat(var_dic_list()) "
    }
   },
   "types_to_exclude": [
    "module",
    "function",
    "builtin_function_or_method",
    "instance",
    "_Feature"
   ],
   "window_display": false
  }
 },
 "nbformat": 4,
 "nbformat_minor": 1
}
