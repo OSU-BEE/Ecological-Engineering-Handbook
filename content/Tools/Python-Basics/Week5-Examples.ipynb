{
 "cells": [
  {
   "cell_type": "markdown",
   "metadata": {},
   "source": [
    "# Week 5 - Examples\n",
    "\n",
    "\n"
   ]
  },
  {
   "cell_type": "markdown",
   "metadata": {},
   "source": [
    "##  Solve the following differential equation using scipy\n",
    "\n",
    "dy/dx = 0.4 + sin(2.3*x)\n",
    "\n",
    "over the domain [0,10], subject to the initial condition y(0) = 0\n"
   ]
  },
  {
   "cell_type": "code",
   "execution_count": null,
   "metadata": {},
   "outputs": [],
   "source": [
    "import numpy as np\n",
    "from scipy.integrate import odeint\n",
    "import matplotlib.pyplot as plt \n",
    "\n"
   ]
  },
  {
   "cell_type": "markdown",
   "metadata": {},
   "source": [
    "##  Integrate the following function using scipy\n",
    "\n",
    "y = sin(x)\n",
    "\n",
    "over the domain[0,10]"
   ]
  },
  {
   "cell_type": "code",
   "execution_count": null,
   "metadata": {},
   "outputs": [],
   "source": [
    "import numpy as np\n",
    "from scipy.integrate import quad\n",
    "import matplotlib.pyplot as plt \n"
   ]
  },
  {
   "cell_type": "markdown",
   "metadata": {},
   "source": [
    "## Solve a system of linear equations\n",
    "\n",
    "\n",
    "$ 2x_1 + 3x_2 + 6x3 = 4 $\n",
    "\n",
    "$ x_1 - 3x_2 - 9x_3 = -11 $\n",
    "\n",
    "$ 8x_1 + 5x_2 -7x+3 = 1 $\n",
    "\n",
    "or, expressed in matrix form:\n",
    "\n",
    "$ A = \\begin{pmatrix}2 & 3 & 6\\\\ 1 & -3 & -9 \\\\  8 & 5 & -7 \\end{pmatrix}, \n",
    "x = \\begin{pmatrix} x_1 \\\\ x_2 \\\\  x_3  \\end{pmatrix},\n",
    "b = \\begin{pmatrix} 4 \\\\ -11 \\\\  1  \\end{pmatrix} $"
   ]
  },
  {
   "cell_type": "code",
   "execution_count": null,
   "metadata": {},
   "outputs": [],
   "source": [
    "import numpy as np\n",
    "from scipy.linalg import solve\n",
    "\n"
   ]
  },
  {
   "cell_type": "markdown",
   "metadata": {},
   "source": [
    "## Find the Minimum of a Polynomial Function.\n",
    "\n",
    "Specifically, write a program the finds the minimum of $ y = 12x + 2x^2 $.  Use the scipy.optimize.minimize_scalar() function.  \n",
    "\n",
    "Plot the function over the domain x=[-10,10].  Add an additional point to the plot indicating the location of the minima.  Lebal the plot appropriately."
   ]
  },
  {
   "cell_type": "code",
   "execution_count": null,
   "metadata": {},
   "outputs": [],
   "source": [
    "import numpy as np\n",
    "from scipy.optimize import minimize_scalar\n",
    "\n"
   ]
  },
  {
   "cell_type": "markdown",
   "metadata": {},
   "source": [
    "## Optimize the size of a cylindrical can\n",
    "\n",
    "You want to optimize the dimensions of a **cylindrical can** can, where \"optimal\" means \"**minimizes cost of materials**\".\n",
    "\n",
    "The can consists of a side (cylinder) and two ends (circles).  The cost of materials for the sides is \\$0.10/m2,\n",
    "and for the ends $0.10/m2.  Find the can dimensions that minimizes the cost.\n",
    "\n",
    "Use `scipy.optimize.minimize_scalar()`"
   ]
  },
  {
   "cell_type": "code",
   "execution_count": null,
   "metadata": {},
   "outputs": [],
   "source": [
    "import numpy as np\n",
    "from scipy.optimize import minimize_scalar\n",
    "import matplotlib.pyplot as plt\n",
    "\n"
   ]
  },
  {
   "cell_type": "markdown",
   "metadata": {},
   "source": [
    "## Linear Regression using scipy"
   ]
  },
  {
   "cell_type": "code",
   "execution_count": null,
   "metadata": {},
   "outputs": [],
   "source": [
    "import pandas as pd\n",
    "import matplotlib.pyplot as plt\n",
    "from scipy import stats\n",
    "\n",
    "# start by loading a dataset from a CSV file\n",
    "data = pd.read_excel( 'http://explorer.bee.oregonstate.edu/Topic/Modeling/Data/ETrf.xlsx' )\n",
    "\n",
    "# parse out the dota column into arrays\n",
    "xObs = data[ 'Day' ]               # extract x observations (independent variable)\n",
    "yObs = data[ 'Site1' ]             # extract y observations (dependent variable)\n",
    "\n"
   ]
  },
  {
   "cell_type": "markdown",
   "metadata": {},
   "source": [
    "## Nonlinear regression - curve_fit()\n"
   ]
  },
  {
   "cell_type": "code",
   "execution_count": null,
   "metadata": {},
   "outputs": [],
   "source": [
    "import pandas as pd\n",
    "import matplotlib.pyplot as plt\n",
    "from scipy.optimize import curve_fit\n",
    "\n",
    "def TheModel(Day,a0,a1,a2):\n",
    "    return a0 + a1*Day + a2*Day*Day\n",
    "\n",
    "# start by loading a dataset from a CSV file\n",
    "data = pd.read_excel( 'http://explorer.bee.oregonstate.edu/Topic/Modeling/Data/ETrf.xlsx' )\n",
    "\n",
    "# parse out the dota column into arrays\n",
    "xObs = data[ 'Day' ]               # extract x observations (independent variable)\n",
    "yObs = data[ 'Site1' ]             # extract y observations (dependent variable)\n"
   ]
  }
 ],
 "metadata": {
  "kernelspec": {
   "display_name": "Python 3",
   "language": "python",
   "name": "python3"
  },
  "language_info": {
   "codemirror_mode": {
    "name": "ipython",
    "version": 3
   },
   "file_extension": ".py",
   "mimetype": "text/x-python",
   "name": "python",
   "nbconvert_exporter": "python",
   "pygments_lexer": "ipython3",
   "version": "3.5.2"
  },
  "varInspector": {
   "cols": {
    "lenName": 16,
    "lenType": 16,
    "lenVar": 40
   },
   "kernels_config": {
    "python": {
     "delete_cmd_postfix": "",
     "delete_cmd_prefix": "del ",
     "library": "var_list.py",
     "varRefreshCmd": "print(var_dic_list())"
    },
    "r": {
     "delete_cmd_postfix": ") ",
     "delete_cmd_prefix": "rm(",
     "library": "var_list.r",
     "varRefreshCmd": "cat(var_dic_list()) "
    }
   },
   "types_to_exclude": [
    "module",
    "function",
    "builtin_function_or_method",
    "instance",
    "_Feature"
   ],
   "window_display": false
  }
 },
 "nbformat": 4,
 "nbformat_minor": 2
}
